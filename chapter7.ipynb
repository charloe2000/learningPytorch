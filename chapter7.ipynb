{
 "metadata": {
  "language_info": {
   "codemirror_mode": {
    "name": "ipython",
    "version": 3
   },
   "file_extension": ".py",
   "mimetype": "text/x-python",
   "name": "python",
   "nbconvert_exporter": "python",
   "pygments_lexer": "ipython3",
   "version": "3.7.5-final"
  },
  "orig_nbformat": 2,
  "kernelspec": {
   "name": "python3",
   "display_name": "Python 3.7.5 64-bit",
   "metadata": {
    "interpreter": {
     "hash": "695051b7451d8b0ff28906f1ebd4ad86c90cb2436d8e0ccb668894d6ec504d98"
    }
   }
  }
 },
 "nbformat": 4,
 "nbformat_minor": 2,
 "cells": [
  {
   "source": [
    "# Notes in Chapter 7"
   ],
   "cell_type": "markdown",
   "metadata": {}
  },
  {
   "source": [
    "## 7.1 A dataset of tiny images"
   ],
   "cell_type": "markdown",
   "metadata": {}
  },
  {
   "cell_type": "code",
   "execution_count": 1,
   "metadata": {},
   "outputs": [
    {
     "output_type": "stream",
     "name": "stdout",
     "text": [
      "Downloading https://www.cs.toronto.edu/~kriz/cifar-10-python.tar.gz to data/ch7/cifar-10-python.tar.gz\n",
      "100.0%Extracting data/ch7/cifar-10-python.tar.gz to data/ch7/\n",
      "Files already downloaded and verified\n"
     ]
    }
   ],
   "source": [
    "from torchvision import datasets\n",
    "\n",
    "data_path = 'data/ch7/'\n",
    "cifar10 = datasets.CIFAR10(data_path, train=True, download=True)\n",
    "cifar10_val = datasets.CIFAR10(data_path, train=False, download=True)"
   ]
  },
  {
   "cell_type": "code",
   "execution_count": 5,
   "metadata": {},
   "outputs": [],
   "source": [
    "class_names = ['airplane', 'automobile', 'bird', 'cat', 'deer', 'dog', 'frog', 'horse', 'ship', 'truck']"
   ]
  },
  {
   "cell_type": "code",
   "execution_count": 3,
   "metadata": {},
   "outputs": [
    {
     "output_type": "execute_result",
     "data": {
      "text/plain": [
       "(torchvision.datasets.cifar.CIFAR10,\n",
       " torchvision.datasets.vision.VisionDataset,\n",
       " torch.utils.data.dataset.Dataset,\n",
       " object)"
      ]
     },
     "metadata": {},
     "execution_count": 3
    }
   ],
   "source": [
    "type(cifar10).__mro__"
   ]
  },
  {
   "cell_type": "code",
   "execution_count": 4,
   "metadata": {},
   "outputs": [
    {
     "output_type": "execute_result",
     "data": {
      "text/plain": [
       "50000"
      ]
     },
     "metadata": {},
     "execution_count": 4
    }
   ],
   "source": [
    "len(cifar10)"
   ]
  },
  {
   "cell_type": "code",
   "execution_count": 6,
   "metadata": {},
   "outputs": [
    {
     "output_type": "execute_result",
     "data": {
      "text/plain": [
       "(<PIL.Image.Image image mode=RGB size=32x32 at 0x1EAB8C3CB08>, 1, 'automobile')"
      ]
     },
     "metadata": {},
     "execution_count": 6
    }
   ],
   "source": [
    "img, label = cifar10[99]\n",
    "img, label, class_names[label]"
   ]
  },
  {
   "cell_type": "code",
   "execution_count": 7,
   "metadata": {},
   "outputs": [
    {
     "output_type": "display_data",
     "data": {
      "text/plain": "<Figure size 432x288 with 1 Axes>",
      "image/svg+xml": "<?xml version=\"1.0\" encoding=\"utf-8\" standalone=\"no\"?>\r\n<!DOCTYPE svg PUBLIC \"-//W3C//DTD SVG 1.1//EN\"\r\n  \"http://www.w3.org/Graphics/SVG/1.1/DTD/svg11.dtd\">\r\n<!-- Created with matplotlib (https://matplotlib.org/) -->\r\n<svg height=\"248.919844pt\" version=\"1.1\" viewBox=\"0 0 251.565 248.919844\" width=\"251.565pt\" xmlns=\"http://www.w3.org/2000/svg\" xmlns:xlink=\"http://www.w3.org/1999/xlink\">\r\n <defs>\r\n  <style type=\"text/css\">\r\n*{stroke-linecap:butt;stroke-linejoin:round;}\r\n  </style>\r\n </defs>\r\n <g id=\"figure_1\">\r\n  <g id=\"patch_1\">\r\n   <path d=\"M 0 248.919844 \r\nL 251.565 248.919844 \r\nL 251.565 0 \r\nL 0 0 \r\nz\r\n\" style=\"fill:none;\"/>\r\n  </g>\r\n  <g id=\"axes_1\">\r\n   <g id=\"patch_2\">\r\n    <path d=\"M 26.925 225.041719 \r\nL 244.365 225.041719 \r\nL 244.365 7.601719 \r\nL 26.925 7.601719 \r\nz\r\n\" style=\"fill:#ffffff;\"/>\r\n   </g>\r\n   <g clip-path=\"url(#pd063ee11c8)\">\r\n    <image height=\"218\" id=\"imagee30e6b9756\" transform=\"scale(1 -1)translate(0 -218)\" width=\"218\" x=\"26.925\" xlink:href=\"data:image/png;base64,\r\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\" y=\"-7.041719\"/>\r\n   </g>\r\n   <g id=\"matplotlib.axis_1\">\r\n    <g id=\"xtick_1\">\r\n     <g id=\"line2d_1\">\r\n      <defs>\r\n       <path d=\"M 0 0 \r\nL 0 3.5 \r\n\" id=\"m07be42faa5\" style=\"stroke:#000000;stroke-width:0.8;\"/>\r\n      </defs>\r\n      <g>\r\n       <use style=\"stroke:#000000;stroke-width:0.8;\" x=\"30.3225\" xlink:href=\"#m07be42faa5\" y=\"225.041719\"/>\r\n      </g>\r\n     </g>\r\n     <g id=\"text_1\">\r\n      <!-- 0 -->\r\n      <defs>\r\n       <path d=\"M 31.78125 66.40625 \r\nQ 24.171875 66.40625 20.328125 58.90625 \r\nQ 16.5 51.421875 16.5 36.375 \r\nQ 16.5 21.390625 20.328125 13.890625 \r\nQ 24.171875 6.390625 31.78125 6.390625 \r\nQ 39.453125 6.390625 43.28125 13.890625 \r\nQ 47.125 21.390625 47.125 36.375 \r\nQ 47.125 51.421875 43.28125 58.90625 \r\nQ 39.453125 66.40625 31.78125 66.40625 \r\nz\r\nM 31.78125 74.21875 \r\nQ 44.046875 74.21875 50.515625 64.515625 \r\nQ 56.984375 54.828125 56.984375 36.375 \r\nQ 56.984375 17.96875 50.515625 8.265625 \r\nQ 44.046875 -1.421875 31.78125 -1.421875 \r\nQ 19.53125 -1.421875 13.0625 8.265625 \r\nQ 6.59375 17.96875 6.59375 36.375 \r\nQ 6.59375 54.828125 13.0625 64.515625 \r\nQ 19.53125 74.21875 31.78125 74.21875 \r\nz\r\n\" id=\"DejaVuSans-48\"/>\r\n      </defs>\r\n      <g transform=\"translate(27.14125 239.640156)scale(0.1 -0.1)\">\r\n       <use xlink:href=\"#DejaVuSans-48\"/>\r\n      </g>\r\n     </g>\r\n    </g>\r\n    <g id=\"xtick_2\">\r\n     <g id=\"line2d_2\">\r\n      <g>\r\n       <use style=\"stroke:#000000;stroke-width:0.8;\" x=\"64.2975\" xlink:href=\"#m07be42faa5\" y=\"225.041719\"/>\r\n      </g>\r\n     </g>\r\n     <g id=\"text_2\">\r\n      <!-- 5 -->\r\n      <defs>\r\n       <path d=\"M 10.796875 72.90625 \r\nL 49.515625 72.90625 \r\nL 49.515625 64.59375 \r\nL 19.828125 64.59375 \r\nL 19.828125 46.734375 \r\nQ 21.96875 47.46875 24.109375 47.828125 \r\nQ 26.265625 48.1875 28.421875 48.1875 \r\nQ 40.625 48.1875 47.75 41.5 \r\nQ 54.890625 34.8125 54.890625 23.390625 \r\nQ 54.890625 11.625 47.5625 5.09375 \r\nQ 40.234375 -1.421875 26.90625 -1.421875 \r\nQ 22.3125 -1.421875 17.546875 -0.640625 \r\nQ 12.796875 0.140625 7.71875 1.703125 \r\nL 7.71875 11.625 \r\nQ 12.109375 9.234375 16.796875 8.0625 \r\nQ 21.484375 6.890625 26.703125 6.890625 \r\nQ 35.15625 6.890625 40.078125 11.328125 \r\nQ 45.015625 15.765625 45.015625 23.390625 \r\nQ 45.015625 31 40.078125 35.4375 \r\nQ 35.15625 39.890625 26.703125 39.890625 \r\nQ 22.75 39.890625 18.8125 39.015625 \r\nQ 14.890625 38.140625 10.796875 36.28125 \r\nz\r\n\" id=\"DejaVuSans-53\"/>\r\n      </defs>\r\n      <g transform=\"translate(61.11625 239.640156)scale(0.1 -0.1)\">\r\n       <use xlink:href=\"#DejaVuSans-53\"/>\r\n      </g>\r\n     </g>\r\n    </g>\r\n    <g id=\"xtick_3\">\r\n     <g id=\"line2d_3\">\r\n      <g>\r\n       <use style=\"stroke:#000000;stroke-width:0.8;\" x=\"98.2725\" xlink:href=\"#m07be42faa5\" y=\"225.041719\"/>\r\n      </g>\r\n     </g>\r\n     <g id=\"text_3\">\r\n      <!-- 10 -->\r\n      <defs>\r\n       <path d=\"M 12.40625 8.296875 \r\nL 28.515625 8.296875 \r\nL 28.515625 63.921875 \r\nL 10.984375 60.40625 \r\nL 10.984375 69.390625 \r\nL 28.421875 72.90625 \r\nL 38.28125 72.90625 \r\nL 38.28125 8.296875 \r\nL 54.390625 8.296875 \r\nL 54.390625 0 \r\nL 12.40625 0 \r\nz\r\n\" id=\"DejaVuSans-49\"/>\r\n      </defs>\r\n      <g transform=\"translate(91.91 239.640156)scale(0.1 -0.1)\">\r\n       <use xlink:href=\"#DejaVuSans-49\"/>\r\n       <use x=\"63.623047\" xlink:href=\"#DejaVuSans-48\"/>\r\n      </g>\r\n     </g>\r\n    </g>\r\n    <g id=\"xtick_4\">\r\n     <g id=\"line2d_4\">\r\n      <g>\r\n       <use style=\"stroke:#000000;stroke-width:0.8;\" x=\"132.2475\" xlink:href=\"#m07be42faa5\" y=\"225.041719\"/>\r\n      </g>\r\n     </g>\r\n     <g id=\"text_4\">\r\n      <!-- 15 -->\r\n      <g transform=\"translate(125.885 239.640156)scale(0.1 -0.1)\">\r\n       <use xlink:href=\"#DejaVuSans-49\"/>\r\n       <use x=\"63.623047\" xlink:href=\"#DejaVuSans-53\"/>\r\n      </g>\r\n     </g>\r\n    </g>\r\n    <g id=\"xtick_5\">\r\n     <g id=\"line2d_5\">\r\n      <g>\r\n       <use style=\"stroke:#000000;stroke-width:0.8;\" x=\"166.2225\" xlink:href=\"#m07be42faa5\" y=\"225.041719\"/>\r\n      </g>\r\n     </g>\r\n     <g id=\"text_5\">\r\n      <!-- 20 -->\r\n      <defs>\r\n       <path d=\"M 19.1875 8.296875 \r\nL 53.609375 8.296875 \r\nL 53.609375 0 \r\nL 7.328125 0 \r\nL 7.328125 8.296875 \r\nQ 12.9375 14.109375 22.625 23.890625 \r\nQ 32.328125 33.6875 34.8125 36.53125 \r\nQ 39.546875 41.84375 41.421875 45.53125 \r\nQ 43.3125 49.21875 43.3125 52.78125 \r\nQ 43.3125 58.59375 39.234375 62.25 \r\nQ 35.15625 65.921875 28.609375 65.921875 \r\nQ 23.96875 65.921875 18.8125 64.3125 \r\nQ 13.671875 62.703125 7.8125 59.421875 \r\nL 7.8125 69.390625 \r\nQ 13.765625 71.78125 18.9375 73 \r\nQ 24.125 74.21875 28.421875 74.21875 \r\nQ 39.75 74.21875 46.484375 68.546875 \r\nQ 53.21875 62.890625 53.21875 53.421875 \r\nQ 53.21875 48.921875 51.53125 44.890625 \r\nQ 49.859375 40.875 45.40625 35.40625 \r\nQ 44.1875 33.984375 37.640625 27.21875 \r\nQ 31.109375 20.453125 19.1875 8.296875 \r\nz\r\n\" id=\"DejaVuSans-50\"/>\r\n      </defs>\r\n      <g transform=\"translate(159.86 239.640156)scale(0.1 -0.1)\">\r\n       <use xlink:href=\"#DejaVuSans-50\"/>\r\n       <use x=\"63.623047\" xlink:href=\"#DejaVuSans-48\"/>\r\n      </g>\r\n     </g>\r\n    </g>\r\n    <g id=\"xtick_6\">\r\n     <g id=\"line2d_6\">\r\n      <g>\r\n       <use style=\"stroke:#000000;stroke-width:0.8;\" x=\"200.1975\" xlink:href=\"#m07be42faa5\" y=\"225.041719\"/>\r\n      </g>\r\n     </g>\r\n     <g id=\"text_6\">\r\n      <!-- 25 -->\r\n      <g transform=\"translate(193.835 239.640156)scale(0.1 -0.1)\">\r\n       <use xlink:href=\"#DejaVuSans-50\"/>\r\n       <use x=\"63.623047\" xlink:href=\"#DejaVuSans-53\"/>\r\n      </g>\r\n     </g>\r\n    </g>\r\n    <g id=\"xtick_7\">\r\n     <g id=\"line2d_7\">\r\n      <g>\r\n       <use style=\"stroke:#000000;stroke-width:0.8;\" x=\"234.1725\" xlink:href=\"#m07be42faa5\" y=\"225.041719\"/>\r\n      </g>\r\n     </g>\r\n     <g id=\"text_7\">\r\n      <!-- 30 -->\r\n      <defs>\r\n       <path d=\"M 40.578125 39.3125 \r\nQ 47.65625 37.796875 51.625 33 \r\nQ 55.609375 28.21875 55.609375 21.1875 \r\nQ 55.609375 10.40625 48.1875 4.484375 \r\nQ 40.765625 -1.421875 27.09375 -1.421875 \r\nQ 22.515625 -1.421875 17.65625 -0.515625 \r\nQ 12.796875 0.390625 7.625 2.203125 \r\nL 7.625 11.71875 \r\nQ 11.71875 9.328125 16.59375 8.109375 \r\nQ 21.484375 6.890625 26.8125 6.890625 \r\nQ 36.078125 6.890625 40.9375 10.546875 \r\nQ 45.796875 14.203125 45.796875 21.1875 \r\nQ 45.796875 27.640625 41.28125 31.265625 \r\nQ 36.765625 34.90625 28.71875 34.90625 \r\nL 20.21875 34.90625 \r\nL 20.21875 43.015625 \r\nL 29.109375 43.015625 \r\nQ 36.375 43.015625 40.234375 45.921875 \r\nQ 44.09375 48.828125 44.09375 54.296875 \r\nQ 44.09375 59.90625 40.109375 62.90625 \r\nQ 36.140625 65.921875 28.71875 65.921875 \r\nQ 24.65625 65.921875 20.015625 65.03125 \r\nQ 15.375 64.15625 9.8125 62.3125 \r\nL 9.8125 71.09375 \r\nQ 15.4375 72.65625 20.34375 73.4375 \r\nQ 25.25 74.21875 29.59375 74.21875 \r\nQ 40.828125 74.21875 47.359375 69.109375 \r\nQ 53.90625 64.015625 53.90625 55.328125 \r\nQ 53.90625 49.265625 50.4375 45.09375 \r\nQ 46.96875 40.921875 40.578125 39.3125 \r\nz\r\n\" id=\"DejaVuSans-51\"/>\r\n      </defs>\r\n      <g transform=\"translate(227.81 239.640156)scale(0.1 -0.1)\">\r\n       <use xlink:href=\"#DejaVuSans-51\"/>\r\n       <use x=\"63.623047\" xlink:href=\"#DejaVuSans-48\"/>\r\n      </g>\r\n     </g>\r\n    </g>\r\n   </g>\r\n   <g id=\"matplotlib.axis_2\">\r\n    <g id=\"ytick_1\">\r\n     <g id=\"line2d_8\">\r\n      <defs>\r\n       <path d=\"M 0 0 \r\nL -3.5 0 \r\n\" id=\"m5917be7824\" style=\"stroke:#000000;stroke-width:0.8;\"/>\r\n      </defs>\r\n      <g>\r\n       <use style=\"stroke:#000000;stroke-width:0.8;\" x=\"26.925\" xlink:href=\"#m5917be7824\" y=\"10.999219\"/>\r\n      </g>\r\n     </g>\r\n     <g id=\"text_8\">\r\n      <!-- 0 -->\r\n      <g transform=\"translate(13.5625 14.798437)scale(0.1 -0.1)\">\r\n       <use xlink:href=\"#DejaVuSans-48\"/>\r\n      </g>\r\n     </g>\r\n    </g>\r\n    <g id=\"ytick_2\">\r\n     <g id=\"line2d_9\">\r\n      <g>\r\n       <use style=\"stroke:#000000;stroke-width:0.8;\" x=\"26.925\" xlink:href=\"#m5917be7824\" y=\"44.974219\"/>\r\n      </g>\r\n     </g>\r\n     <g id=\"text_9\">\r\n      <!-- 5 -->\r\n      <g transform=\"translate(13.5625 48.773437)scale(0.1 -0.1)\">\r\n       <use xlink:href=\"#DejaVuSans-53\"/>\r\n      </g>\r\n     </g>\r\n    </g>\r\n    <g id=\"ytick_3\">\r\n     <g id=\"line2d_10\">\r\n      <g>\r\n       <use style=\"stroke:#000000;stroke-width:0.8;\" x=\"26.925\" xlink:href=\"#m5917be7824\" y=\"78.949219\"/>\r\n      </g>\r\n     </g>\r\n     <g id=\"text_10\">\r\n      <!-- 10 -->\r\n      <g transform=\"translate(7.2 82.748437)scale(0.1 -0.1)\">\r\n       <use xlink:href=\"#DejaVuSans-49\"/>\r\n       <use x=\"63.623047\" xlink:href=\"#DejaVuSans-48\"/>\r\n      </g>\r\n     </g>\r\n    </g>\r\n    <g id=\"ytick_4\">\r\n     <g id=\"line2d_11\">\r\n      <g>\r\n       <use style=\"stroke:#000000;stroke-width:0.8;\" x=\"26.925\" xlink:href=\"#m5917be7824\" y=\"112.924219\"/>\r\n      </g>\r\n     </g>\r\n     <g id=\"text_11\">\r\n      <!-- 15 -->\r\n      <g transform=\"translate(7.2 116.723437)scale(0.1 -0.1)\">\r\n       <use xlink:href=\"#DejaVuSans-49\"/>\r\n       <use x=\"63.623047\" xlink:href=\"#DejaVuSans-53\"/>\r\n      </g>\r\n     </g>\r\n    </g>\r\n    <g id=\"ytick_5\">\r\n     <g id=\"line2d_12\">\r\n      <g>\r\n       <use style=\"stroke:#000000;stroke-width:0.8;\" x=\"26.925\" xlink:href=\"#m5917be7824\" y=\"146.899219\"/>\r\n      </g>\r\n     </g>\r\n     <g id=\"text_12\">\r\n      <!-- 20 -->\r\n      <g transform=\"translate(7.2 150.698437)scale(0.1 -0.1)\">\r\n       <use xlink:href=\"#DejaVuSans-50\"/>\r\n       <use x=\"63.623047\" xlink:href=\"#DejaVuSans-48\"/>\r\n      </g>\r\n     </g>\r\n    </g>\r\n    <g id=\"ytick_6\">\r\n     <g id=\"line2d_13\">\r\n      <g>\r\n       <use style=\"stroke:#000000;stroke-width:0.8;\" x=\"26.925\" xlink:href=\"#m5917be7824\" y=\"180.874219\"/>\r\n      </g>\r\n     </g>\r\n     <g id=\"text_13\">\r\n      <!-- 25 -->\r\n      <g transform=\"translate(7.2 184.673437)scale(0.1 -0.1)\">\r\n       <use xlink:href=\"#DejaVuSans-50\"/>\r\n       <use x=\"63.623047\" xlink:href=\"#DejaVuSans-53\"/>\r\n      </g>\r\n     </g>\r\n    </g>\r\n    <g id=\"ytick_7\">\r\n     <g id=\"line2d_14\">\r\n      <g>\r\n       <use style=\"stroke:#000000;stroke-width:0.8;\" x=\"26.925\" xlink:href=\"#m5917be7824\" y=\"214.849219\"/>\r\n      </g>\r\n     </g>\r\n     <g id=\"text_14\">\r\n      <!-- 30 -->\r\n      <g transform=\"translate(7.2 218.648437)scale(0.1 -0.1)\">\r\n       <use xlink:href=\"#DejaVuSans-51\"/>\r\n       <use x=\"63.623047\" xlink:href=\"#DejaVuSans-48\"/>\r\n      </g>\r\n     </g>\r\n    </g>\r\n   </g>\r\n   <g id=\"patch_3\">\r\n    <path d=\"M 26.925 225.041719 \r\nL 26.925 7.601719 \r\n\" style=\"fill:none;stroke:#000000;stroke-linecap:square;stroke-linejoin:miter;stroke-width:0.8;\"/>\r\n   </g>\r\n   <g id=\"patch_4\">\r\n    <path d=\"M 244.365 225.041719 \r\nL 244.365 7.601719 \r\n\" style=\"fill:none;stroke:#000000;stroke-linecap:square;stroke-linejoin:miter;stroke-width:0.8;\"/>\r\n   </g>\r\n   <g id=\"patch_5\">\r\n    <path d=\"M 26.925 225.041719 \r\nL 244.365 225.041719 \r\n\" style=\"fill:none;stroke:#000000;stroke-linecap:square;stroke-linejoin:miter;stroke-width:0.8;\"/>\r\n   </g>\r\n   <g id=\"patch_6\">\r\n    <path d=\"M 26.925 7.601719 \r\nL 244.365 7.601719 \r\n\" style=\"fill:none;stroke:#000000;stroke-linecap:square;stroke-linejoin:miter;stroke-width:0.8;\"/>\r\n   </g>\r\n  </g>\r\n </g>\r\n <defs>\r\n  <clipPath id=\"pd063ee11c8\">\r\n   <rect height=\"217.44\" width=\"217.44\" x=\"26.925\" y=\"7.601719\"/>\r\n  </clipPath>\r\n </defs>\r\n</svg>\r\n",
      "image/png": "[encoded data removed]"
     },
     "metadata": {
      "needs_background": "light"
     }
    }
   ],
   "source": [
    "from matplotlib import pyplot as plt\n",
    "\n",
    "plt.imshow(img)\n",
    "plt.show()"
   ]
  },
  {
   "cell_type": "code",
   "execution_count": 8,
   "metadata": {},
   "outputs": [
    {
     "output_type": "execute_result",
     "data": {
      "text/plain": [
       "['CenterCrop',\n",
       " 'ColorJitter',\n",
       " 'Compose',\n",
       " 'FiveCrop',\n",
       " 'Grayscale',\n",
       " 'Lambda',\n",
       " 'LinearTransformation',\n",
       " 'Normalize',\n",
       " 'Pad',\n",
       " 'RandomAffine',\n",
       " 'RandomApply',\n",
       " 'RandomChoice',\n",
       " 'RandomCrop',\n",
       " 'RandomErasing',\n",
       " 'RandomGrayscale',\n",
       " 'RandomHorizontalFlip',\n",
       " 'RandomOrder',\n",
       " 'RandomPerspective',\n",
       " 'RandomResizedCrop',\n",
       " 'RandomRotation',\n",
       " 'RandomSizedCrop',\n",
       " 'RandomVerticalFlip',\n",
       " 'Resize',\n",
       " 'Scale',\n",
       " 'TenCrop',\n",
       " 'ToPILImage',\n",
       " 'ToTensor',\n",
       " '__builtins__',\n",
       " '__cached__',\n",
       " '__doc__',\n",
       " '__file__',\n",
       " '__loader__',\n",
       " '__name__',\n",
       " '__package__',\n",
       " '__path__',\n",
       " '__spec__',\n",
       " 'functional',\n",
       " 'transforms']"
      ]
     },
     "metadata": {},
     "execution_count": 8
    }
   ],
   "source": [
    "from torchvision import transforms\n",
    "\n",
    "dir(transforms)"
   ]
  },
  {
   "cell_type": "code",
   "execution_count": 9,
   "metadata": {},
   "outputs": [
    {
     "output_type": "execute_result",
     "data": {
      "text/plain": [
       "torch.Size([3, 32, 32])"
      ]
     },
     "metadata": {},
     "execution_count": 9
    }
   ],
   "source": [
    "from torchvision import transforms\n",
    "\n",
    "to_tensor = transforms.ToTensor()\n",
    "img_t = to_tensor(img)\n",
    "img_t.shape"
   ]
  },
  {
   "cell_type": "code",
   "execution_count": 10,
   "metadata": {},
   "outputs": [],
   "source": [
    "tensor_cifar10 = datasets.CIFAR10(data_path, train=True, download=False, transform=transforms.ToTensor())"
   ]
  },
  {
   "cell_type": "code",
   "execution_count": 12,
   "metadata": {},
   "outputs": [
    {
     "output_type": "execute_result",
     "data": {
      "text/plain": [
       "torch.Size([3, 32, 32])"
      ]
     },
     "metadata": {},
     "execution_count": 12
    }
   ],
   "source": [
    "img_t, _ = tensor_cifar10[99]\n",
    "img_t.shape"
   ]
  },
  {
   "cell_type": "code",
   "execution_count": 13,
   "metadata": {},
   "outputs": [
    {
     "output_type": "execute_result",
     "data": {
      "text/plain": [
       "(tensor(0.), tensor(1.))"
      ]
     },
     "metadata": {},
     "execution_count": 13
    }
   ],
   "source": [
    "img_t.min(), img_t.max()"
   ]
  },
  {
   "cell_type": "code",
   "execution_count": 14,
   "metadata": {},
   "outputs": [
    {
     "output_type": "display_data",
     "data": {
      "text/plain": "<Figure size 432x288 with 1 Axes>",
      "image/svg+xml": "<?xml version=\"1.0\" encoding=\"utf-8\" standalone=\"no\"?>\r\n<!DOCTYPE svg PUBLIC \"-//W3C//DTD SVG 1.1//EN\"\r\n  \"http://www.w3.org/Graphics/SVG/1.1/DTD/svg11.dtd\">\r\n<!-- Created with matplotlib (https://matplotlib.org/) -->\r\n<svg height=\"248.919844pt\" version=\"1.1\" viewBox=\"0 0 251.565 248.919844\" width=\"251.565pt\" xmlns=\"http://www.w3.org/2000/svg\" xmlns:xlink=\"http://www.w3.org/1999/xlink\">\r\n <defs>\r\n  <style type=\"text/css\">\r\n*{stroke-linecap:butt;stroke-linejoin:round;}\r\n  </style>\r\n </defs>\r\n <g id=\"figure_1\">\r\n  <g id=\"patch_1\">\r\n   <path d=\"M 0 248.919844 \r\nL 251.565 248.919844 \r\nL 251.565 0 \r\nL 0 0 \r\nz\r\n\" style=\"fill:none;\"/>\r\n  </g>\r\n  <g id=\"axes_1\">\r\n   <g id=\"patch_2\">\r\n    <path d=\"M 26.925 225.041719 \r\nL 244.365 225.041719 \r\nL 244.365 7.601719 \r\nL 26.925 7.601719 \r\nz\r\n\" style=\"fill:#ffffff;\"/>\r\n   </g>\r\n   <g clip-path=\"url(#p71c7c78b2e)\">\r\n    <image height=\"218\" id=\"image49894ceda2\" transform=\"scale(1 -1)translate(0 -218)\" width=\"218\" x=\"26.925\" xlink:href=\"data:image/png;base64,\r\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\" y=\"-7.041719\"/>\r\n   </g>\r\n   <g id=\"matplotlib.axis_1\">\r\n    <g id=\"xtick_1\">\r\n     <g id=\"line2d_1\">\r\n      <defs>\r\n       <path d=\"M 0 0 \r\nL 0 3.5 \r\n\" id=\"m0edc6a64f9\" style=\"stroke:#000000;stroke-width:0.8;\"/>\r\n      </defs>\r\n      <g>\r\n       <use style=\"stroke:#000000;stroke-width:0.8;\" x=\"30.3225\" xlink:href=\"#m0edc6a64f9\" y=\"225.041719\"/>\r\n      </g>\r\n     </g>\r\n     <g id=\"text_1\">\r\n      <!-- 0 -->\r\n      <defs>\r\n       <path d=\"M 31.78125 66.40625 \r\nQ 24.171875 66.40625 20.328125 58.90625 \r\nQ 16.5 51.421875 16.5 36.375 \r\nQ 16.5 21.390625 20.328125 13.890625 \r\nQ 24.171875 6.390625 31.78125 6.390625 \r\nQ 39.453125 6.390625 43.28125 13.890625 \r\nQ 47.125 21.390625 47.125 36.375 \r\nQ 47.125 51.421875 43.28125 58.90625 \r\nQ 39.453125 66.40625 31.78125 66.40625 \r\nz\r\nM 31.78125 74.21875 \r\nQ 44.046875 74.21875 50.515625 64.515625 \r\nQ 56.984375 54.828125 56.984375 36.375 \r\nQ 56.984375 17.96875 50.515625 8.265625 \r\nQ 44.046875 -1.421875 31.78125 -1.421875 \r\nQ 19.53125 -1.421875 13.0625 8.265625 \r\nQ 6.59375 17.96875 6.59375 36.375 \r\nQ 6.59375 54.828125 13.0625 64.515625 \r\nQ 19.53125 74.21875 31.78125 74.21875 \r\nz\r\n\" id=\"DejaVuSans-48\"/>\r\n      </defs>\r\n      <g transform=\"translate(27.14125 239.640156)scale(0.1 -0.1)\">\r\n       <use xlink:href=\"#DejaVuSans-48\"/>\r\n      </g>\r\n     </g>\r\n    </g>\r\n    <g id=\"xtick_2\">\r\n     <g id=\"line2d_2\">\r\n      <g>\r\n       <use style=\"stroke:#000000;stroke-width:0.8;\" x=\"64.2975\" xlink:href=\"#m0edc6a64f9\" y=\"225.041719\"/>\r\n      </g>\r\n     </g>\r\n     <g id=\"text_2\">\r\n      <!-- 5 -->\r\n      <defs>\r\n       <path d=\"M 10.796875 72.90625 \r\nL 49.515625 72.90625 \r\nL 49.515625 64.59375 \r\nL 19.828125 64.59375 \r\nL 19.828125 46.734375 \r\nQ 21.96875 47.46875 24.109375 47.828125 \r\nQ 26.265625 48.1875 28.421875 48.1875 \r\nQ 40.625 48.1875 47.75 41.5 \r\nQ 54.890625 34.8125 54.890625 23.390625 \r\nQ 54.890625 11.625 47.5625 5.09375 \r\nQ 40.234375 -1.421875 26.90625 -1.421875 \r\nQ 22.3125 -1.421875 17.546875 -0.640625 \r\nQ 12.796875 0.140625 7.71875 1.703125 \r\nL 7.71875 11.625 \r\nQ 12.109375 9.234375 16.796875 8.0625 \r\nQ 21.484375 6.890625 26.703125 6.890625 \r\nQ 35.15625 6.890625 40.078125 11.328125 \r\nQ 45.015625 15.765625 45.015625 23.390625 \r\nQ 45.015625 31 40.078125 35.4375 \r\nQ 35.15625 39.890625 26.703125 39.890625 \r\nQ 22.75 39.890625 18.8125 39.015625 \r\nQ 14.890625 38.140625 10.796875 36.28125 \r\nz\r\n\" id=\"DejaVuSans-53\"/>\r\n      </defs>\r\n      <g transform=\"translate(61.11625 239.640156)scale(0.1 -0.1)\">\r\n       <use xlink:href=\"#DejaVuSans-53\"/>\r\n      </g>\r\n     </g>\r\n    </g>\r\n    <g id=\"xtick_3\">\r\n     <g id=\"line2d_3\">\r\n      <g>\r\n       <use style=\"stroke:#000000;stroke-width:0.8;\" x=\"98.2725\" xlink:href=\"#m0edc6a64f9\" y=\"225.041719\"/>\r\n      </g>\r\n     </g>\r\n     <g id=\"text_3\">\r\n      <!-- 10 -->\r\n      <defs>\r\n       <path d=\"M 12.40625 8.296875 \r\nL 28.515625 8.296875 \r\nL 28.515625 63.921875 \r\nL 10.984375 60.40625 \r\nL 10.984375 69.390625 \r\nL 28.421875 72.90625 \r\nL 38.28125 72.90625 \r\nL 38.28125 8.296875 \r\nL 54.390625 8.296875 \r\nL 54.390625 0 \r\nL 12.40625 0 \r\nz\r\n\" id=\"DejaVuSans-49\"/>\r\n      </defs>\r\n      <g transform=\"translate(91.91 239.640156)scale(0.1 -0.1)\">\r\n       <use xlink:href=\"#DejaVuSans-49\"/>\r\n       <use x=\"63.623047\" xlink:href=\"#DejaVuSans-48\"/>\r\n      </g>\r\n     </g>\r\n    </g>\r\n    <g id=\"xtick_4\">\r\n     <g id=\"line2d_4\">\r\n      <g>\r\n       <use style=\"stroke:#000000;stroke-width:0.8;\" x=\"132.2475\" xlink:href=\"#m0edc6a64f9\" y=\"225.041719\"/>\r\n      </g>\r\n     </g>\r\n     <g id=\"text_4\">\r\n      <!-- 15 -->\r\n      <g transform=\"translate(125.885 239.640156)scale(0.1 -0.1)\">\r\n       <use xlink:href=\"#DejaVuSans-49\"/>\r\n       <use x=\"63.623047\" xlink:href=\"#DejaVuSans-53\"/>\r\n      </g>\r\n     </g>\r\n    </g>\r\n    <g id=\"xtick_5\">\r\n     <g id=\"line2d_5\">\r\n      <g>\r\n       <use style=\"stroke:#000000;stroke-width:0.8;\" x=\"166.2225\" xlink:href=\"#m0edc6a64f9\" y=\"225.041719\"/>\r\n      </g>\r\n     </g>\r\n     <g id=\"text_5\">\r\n      <!-- 20 -->\r\n      <defs>\r\n       <path d=\"M 19.1875 8.296875 \r\nL 53.609375 8.296875 \r\nL 53.609375 0 \r\nL 7.328125 0 \r\nL 7.328125 8.296875 \r\nQ 12.9375 14.109375 22.625 23.890625 \r\nQ 32.328125 33.6875 34.8125 36.53125 \r\nQ 39.546875 41.84375 41.421875 45.53125 \r\nQ 43.3125 49.21875 43.3125 52.78125 \r\nQ 43.3125 58.59375 39.234375 62.25 \r\nQ 35.15625 65.921875 28.609375 65.921875 \r\nQ 23.96875 65.921875 18.8125 64.3125 \r\nQ 13.671875 62.703125 7.8125 59.421875 \r\nL 7.8125 69.390625 \r\nQ 13.765625 71.78125 18.9375 73 \r\nQ 24.125 74.21875 28.421875 74.21875 \r\nQ 39.75 74.21875 46.484375 68.546875 \r\nQ 53.21875 62.890625 53.21875 53.421875 \r\nQ 53.21875 48.921875 51.53125 44.890625 \r\nQ 49.859375 40.875 45.40625 35.40625 \r\nQ 44.1875 33.984375 37.640625 27.21875 \r\nQ 31.109375 20.453125 19.1875 8.296875 \r\nz\r\n\" id=\"DejaVuSans-50\"/>\r\n      </defs>\r\n      <g transform=\"translate(159.86 239.640156)scale(0.1 -0.1)\">\r\n       <use xlink:href=\"#DejaVuSans-50\"/>\r\n       <use x=\"63.623047\" xlink:href=\"#DejaVuSans-48\"/>\r\n      </g>\r\n     </g>\r\n    </g>\r\n    <g id=\"xtick_6\">\r\n     <g id=\"line2d_6\">\r\n      <g>\r\n       <use style=\"stroke:#000000;stroke-width:0.8;\" x=\"200.1975\" xlink:href=\"#m0edc6a64f9\" y=\"225.041719\"/>\r\n      </g>\r\n     </g>\r\n     <g id=\"text_6\">\r\n      <!-- 25 -->\r\n      <g transform=\"translate(193.835 239.640156)scale(0.1 -0.1)\">\r\n       <use xlink:href=\"#DejaVuSans-50\"/>\r\n       <use x=\"63.623047\" xlink:href=\"#DejaVuSans-53\"/>\r\n      </g>\r\n     </g>\r\n    </g>\r\n    <g id=\"xtick_7\">\r\n     <g id=\"line2d_7\">\r\n      <g>\r\n       <use style=\"stroke:#000000;stroke-width:0.8;\" x=\"234.1725\" xlink:href=\"#m0edc6a64f9\" y=\"225.041719\"/>\r\n      </g>\r\n     </g>\r\n     <g id=\"text_7\">\r\n      <!-- 30 -->\r\n      <defs>\r\n       <path d=\"M 40.578125 39.3125 \r\nQ 47.65625 37.796875 51.625 33 \r\nQ 55.609375 28.21875 55.609375 21.1875 \r\nQ 55.609375 10.40625 48.1875 4.484375 \r\nQ 40.765625 -1.421875 27.09375 -1.421875 \r\nQ 22.515625 -1.421875 17.65625 -0.515625 \r\nQ 12.796875 0.390625 7.625 2.203125 \r\nL 7.625 11.71875 \r\nQ 11.71875 9.328125 16.59375 8.109375 \r\nQ 21.484375 6.890625 26.8125 6.890625 \r\nQ 36.078125 6.890625 40.9375 10.546875 \r\nQ 45.796875 14.203125 45.796875 21.1875 \r\nQ 45.796875 27.640625 41.28125 31.265625 \r\nQ 36.765625 34.90625 28.71875 34.90625 \r\nL 20.21875 34.90625 \r\nL 20.21875 43.015625 \r\nL 29.109375 43.015625 \r\nQ 36.375 43.015625 40.234375 45.921875 \r\nQ 44.09375 48.828125 44.09375 54.296875 \r\nQ 44.09375 59.90625 40.109375 62.90625 \r\nQ 36.140625 65.921875 28.71875 65.921875 \r\nQ 24.65625 65.921875 20.015625 65.03125 \r\nQ 15.375 64.15625 9.8125 62.3125 \r\nL 9.8125 71.09375 \r\nQ 15.4375 72.65625 20.34375 73.4375 \r\nQ 25.25 74.21875 29.59375 74.21875 \r\nQ 40.828125 74.21875 47.359375 69.109375 \r\nQ 53.90625 64.015625 53.90625 55.328125 \r\nQ 53.90625 49.265625 50.4375 45.09375 \r\nQ 46.96875 40.921875 40.578125 39.3125 \r\nz\r\n\" id=\"DejaVuSans-51\"/>\r\n      </defs>\r\n      <g transform=\"translate(227.81 239.640156)scale(0.1 -0.1)\">\r\n       <use xlink:href=\"#DejaVuSans-51\"/>\r\n       <use x=\"63.623047\" xlink:href=\"#DejaVuSans-48\"/>\r\n      </g>\r\n     </g>\r\n    </g>\r\n   </g>\r\n   <g id=\"matplotlib.axis_2\">\r\n    <g id=\"ytick_1\">\r\n     <g id=\"line2d_8\">\r\n      <defs>\r\n       <path d=\"M 0 0 \r\nL -3.5 0 \r\n\" id=\"md7a2644a41\" style=\"stroke:#000000;stroke-width:0.8;\"/>\r\n      </defs>\r\n      <g>\r\n       <use style=\"stroke:#000000;stroke-width:0.8;\" x=\"26.925\" xlink:href=\"#md7a2644a41\" y=\"10.999219\"/>\r\n      </g>\r\n     </g>\r\n     <g id=\"text_8\">\r\n      <!-- 0 -->\r\n      <g transform=\"translate(13.5625 14.798437)scale(0.1 -0.1)\">\r\n       <use xlink:href=\"#DejaVuSans-48\"/>\r\n      </g>\r\n     </g>\r\n    </g>\r\n    <g id=\"ytick_2\">\r\n     <g id=\"line2d_9\">\r\n      <g>\r\n       <use style=\"stroke:#000000;stroke-width:0.8;\" x=\"26.925\" xlink:href=\"#md7a2644a41\" y=\"44.974219\"/>\r\n      </g>\r\n     </g>\r\n     <g id=\"text_9\">\r\n      <!-- 5 -->\r\n      <g transform=\"translate(13.5625 48.773437)scale(0.1 -0.1)\">\r\n       <use xlink:href=\"#DejaVuSans-53\"/>\r\n      </g>\r\n     </g>\r\n    </g>\r\n    <g id=\"ytick_3\">\r\n     <g id=\"line2d_10\">\r\n      <g>\r\n       <use style=\"stroke:#000000;stroke-width:0.8;\" x=\"26.925\" xlink:href=\"#md7a2644a41\" y=\"78.949219\"/>\r\n      </g>\r\n     </g>\r\n     <g id=\"text_10\">\r\n      <!-- 10 -->\r\n      <g transform=\"translate(7.2 82.748437)scale(0.1 -0.1)\">\r\n       <use xlink:href=\"#DejaVuSans-49\"/>\r\n       <use x=\"63.623047\" xlink:href=\"#DejaVuSans-48\"/>\r\n      </g>\r\n     </g>\r\n    </g>\r\n    <g id=\"ytick_4\">\r\n     <g id=\"line2d_11\">\r\n      <g>\r\n       <use style=\"stroke:#000000;stroke-width:0.8;\" x=\"26.925\" xlink:href=\"#md7a2644a41\" y=\"112.924219\"/>\r\n      </g>\r\n     </g>\r\n     <g id=\"text_11\">\r\n      <!-- 15 -->\r\n      <g transform=\"translate(7.2 116.723437)scale(0.1 -0.1)\">\r\n       <use xlink:href=\"#DejaVuSans-49\"/>\r\n       <use x=\"63.623047\" xlink:href=\"#DejaVuSans-53\"/>\r\n      </g>\r\n     </g>\r\n    </g>\r\n    <g id=\"ytick_5\">\r\n     <g id=\"line2d_12\">\r\n      <g>\r\n       <use style=\"stroke:#000000;stroke-width:0.8;\" x=\"26.925\" xlink:href=\"#md7a2644a41\" y=\"146.899219\"/>\r\n      </g>\r\n     </g>\r\n     <g id=\"text_12\">\r\n      <!-- 20 -->\r\n      <g transform=\"translate(7.2 150.698437)scale(0.1 -0.1)\">\r\n       <use xlink:href=\"#DejaVuSans-50\"/>\r\n       <use x=\"63.623047\" xlink:href=\"#DejaVuSans-48\"/>\r\n      </g>\r\n     </g>\r\n    </g>\r\n    <g id=\"ytick_6\">\r\n     <g id=\"line2d_13\">\r\n      <g>\r\n       <use style=\"stroke:#000000;stroke-width:0.8;\" x=\"26.925\" xlink:href=\"#md7a2644a41\" y=\"180.874219\"/>\r\n      </g>\r\n     </g>\r\n     <g id=\"text_13\">\r\n      <!-- 25 -->\r\n      <g transform=\"translate(7.2 184.673437)scale(0.1 -0.1)\">\r\n       <use xlink:href=\"#DejaVuSans-50\"/>\r\n       <use x=\"63.623047\" xlink:href=\"#DejaVuSans-53\"/>\r\n      </g>\r\n     </g>\r\n    </g>\r\n    <g id=\"ytick_7\">\r\n     <g id=\"line2d_14\">\r\n      <g>\r\n       <use style=\"stroke:#000000;stroke-width:0.8;\" x=\"26.925\" xlink:href=\"#md7a2644a41\" y=\"214.849219\"/>\r\n      </g>\r\n     </g>\r\n     <g id=\"text_14\">\r\n      <!-- 30 -->\r\n      <g transform=\"translate(7.2 218.648437)scale(0.1 -0.1)\">\r\n       <use xlink:href=\"#DejaVuSans-51\"/>\r\n       <use x=\"63.623047\" xlink:href=\"#DejaVuSans-48\"/>\r\n      </g>\r\n     </g>\r\n    </g>\r\n   </g>\r\n   <g id=\"patch_3\">\r\n    <path d=\"M 26.925 225.041719 \r\nL 26.925 7.601719 \r\n\" style=\"fill:none;stroke:#000000;stroke-linecap:square;stroke-linejoin:miter;stroke-width:0.8;\"/>\r\n   </g>\r\n   <g id=\"patch_4\">\r\n    <path d=\"M 244.365 225.041719 \r\nL 244.365 7.601719 \r\n\" style=\"fill:none;stroke:#000000;stroke-linecap:square;stroke-linejoin:miter;stroke-width:0.8;\"/>\r\n   </g>\r\n   <g id=\"patch_5\">\r\n    <path d=\"M 26.925 225.041719 \r\nL 244.365 225.041719 \r\n\" style=\"fill:none;stroke:#000000;stroke-linecap:square;stroke-linejoin:miter;stroke-width:0.8;\"/>\r\n   </g>\r\n   <g id=\"patch_6\">\r\n    <path d=\"M 26.925 7.601719 \r\nL 244.365 7.601719 \r\n\" style=\"fill:none;stroke:#000000;stroke-linecap:square;stroke-linejoin:miter;stroke-width:0.8;\"/>\r\n   </g>\r\n  </g>\r\n </g>\r\n <defs>\r\n  <clipPath id=\"p71c7c78b2e\">\r\n   <rect height=\"217.44\" width=\"217.44\" x=\"26.925\" y=\"7.601719\"/>\r\n  </clipPath>\r\n </defs>\r\n</svg>\r\n",
      "image/png": "[encoded data removed]"
     },
     "metadata": {
      "needs_background": "light"
     }
    }
   ],
   "source": [
    "plt.imshow(img_t.permute(1, 2, 0))\n",
    "plt.show()"
   ]
  },
  {
   "cell_type": "code",
   "execution_count": 17,
   "metadata": {},
   "outputs": [
    {
     "output_type": "execute_result",
     "data": {
      "text/plain": [
       "torch.Size([3, 32, 32, 50000])"
      ]
     },
     "metadata": {},
     "execution_count": 17
    }
   ],
   "source": [
    "import torch\n",
    "\n",
    "imgs = torch.stack([img_t for img_t, _ in tensor_cifar10], dim=3)\n",
    "imgs.shape"
   ]
  },
  {
   "cell_type": "code",
   "execution_count": 18,
   "metadata": {},
   "outputs": [
    {
     "output_type": "execute_result",
     "data": {
      "text/plain": [
       "tensor([0.4915, 0.4823, 0.4468])"
      ]
     },
     "metadata": {},
     "execution_count": 18
    }
   ],
   "source": [
    "imgs.view(3, -1).mean(dim=1)"
   ]
  },
  {
   "cell_type": "code",
   "execution_count": 20,
   "metadata": {},
   "outputs": [
    {
     "output_type": "execute_result",
     "data": {
      "text/plain": [
       "tensor([0.2470, 0.2435, 0.2616])"
      ]
     },
     "metadata": {},
     "execution_count": 20
    }
   ],
   "source": [
    "imgs.view(3, -1).std(dim=1)"
   ]
  },
  {
   "cell_type": "code",
   "execution_count": 21,
   "metadata": {},
   "outputs": [
    {
     "output_type": "execute_result",
     "data": {
      "text/plain": [
       "Normalize(mean=(0.4915, 0.4823, 0.4468), std=(0.247, 0.2435, 0.2616))"
      ]
     },
     "metadata": {},
     "execution_count": 21
    }
   ],
   "source": [
    "transforms.Normalize((0.4915, 0.4823, 0.4468), (0.2470, 0.2435, 0.2616))"
   ]
  },
  {
   "cell_type": "code",
   "execution_count": 22,
   "metadata": {},
   "outputs": [],
   "source": [
    "transformd_cifar10 = datasets.CIFAR10(\n",
    "    data_path, train=True, download=False,\n",
    "    transform=transforms.Compose([\n",
    "        transforms.ToTensor(),\n",
    "        transforms.Normalize((0.4915, 0.4823, 0.4468), (0.2470, 0.2435, 0.2616))\n",
    "    ])\n",
    ")"
   ]
  },
  {
   "cell_type": "code",
   "execution_count": 83,
   "metadata": {},
   "outputs": [
    {
     "output_type": "execute_result",
     "data": {
      "text/plain": [
       "torch.Size([3, 32, 32, 10000])"
      ]
     },
     "metadata": {},
     "execution_count": 83
    }
   ],
   "source": [
    "tensor_cifar10_val = datasets.CIFAR10(data_path, train=False, download=False, transform=transforms.ToTensor())\n",
    "\n",
    "imgs = torch.stack([img_t for img_t, _ in tensor_cifar10_val], dim=3)\n",
    "imgs.shape"
   ]
  },
  {
   "cell_type": "code",
   "execution_count": 85,
   "metadata": {},
   "outputs": [
    {
     "output_type": "execute_result",
     "data": {
      "text/plain": [
       "tensor([0.4943, 0.4852, 0.4506])"
      ]
     },
     "metadata": {},
     "execution_count": 85
    }
   ],
   "source": [
    "imgs.view(3, -1).mean(dim=1)"
   ]
  },
  {
   "cell_type": "code",
   "execution_count": 86,
   "metadata": {},
   "outputs": [
    {
     "output_type": "execute_result",
     "data": {
      "text/plain": [
       "tensor([0.2467, 0.2429, 0.2616])"
      ]
     },
     "metadata": {},
     "execution_count": 86
    }
   ],
   "source": [
    "imgs.view(3, -1).std(dim=1)"
   ]
  },
  {
   "cell_type": "code",
   "execution_count": 87,
   "metadata": {},
   "outputs": [],
   "source": [
    "transformd_cifar10_val = datasets.CIFAR10(\n",
    "    data_path, train=False, download=False, transform=transforms.Compose([\n",
    "        transforms.ToTensor(),\n",
    "        transforms.Normalize((0.4943, 0.4852, 0.4506), (0.2467, 0.2429, 0.2616))\n",
    "    ]))"
   ]
  },
  {
   "cell_type": "code",
   "execution_count": 23,
   "metadata": {},
   "outputs": [
    {
     "output_type": "stream",
     "name": "stderr",
     "text": [
      "Clipping input data to the valid range for imshow with RGB data ([0..1] for floats or [0..255] for integers).\n"
     ]
    },
    {
     "output_type": "display_data",
     "data": {
      "text/plain": "<Figure size 432x288 with 1 Axes>",
      "image/svg+xml": "<?xml version=\"1.0\" encoding=\"utf-8\" standalone=\"no\"?>\r\n<!DOCTYPE svg PUBLIC \"-//W3C//DTD SVG 1.1//EN\"\r\n  \"http://www.w3.org/Graphics/SVG/1.1/DTD/svg11.dtd\">\r\n<!-- Created with matplotlib (https://matplotlib.org/) -->\r\n<svg height=\"248.919844pt\" version=\"1.1\" viewBox=\"0 0 251.565 248.919844\" width=\"251.565pt\" xmlns=\"http://www.w3.org/2000/svg\" xmlns:xlink=\"http://www.w3.org/1999/xlink\">\r\n <defs>\r\n  <style type=\"text/css\">\r\n*{stroke-linecap:butt;stroke-linejoin:round;}\r\n  </style>\r\n </defs>\r\n <g id=\"figure_1\">\r\n  <g id=\"patch_1\">\r\n   <path d=\"M 0 248.919844 \r\nL 251.565 248.919844 \r\nL 251.565 0 \r\nL 0 0 \r\nz\r\n\" style=\"fill:none;\"/>\r\n  </g>\r\n  <g id=\"axes_1\">\r\n   <g id=\"patch_2\">\r\n    <path d=\"M 26.925 225.041719 \r\nL 244.365 225.041719 \r\nL 244.365 7.601719 \r\nL 26.925 7.601719 \r\nz\r\n\" style=\"fill:#ffffff;\"/>\r\n   </g>\r\n   <g clip-path=\"url(#pa87d8159c1)\">\r\n    <image height=\"218\" id=\"image6693eb7ed7\" transform=\"scale(1 -1)translate(0 -218)\" width=\"218\" x=\"26.925\" xlink:href=\"data:image/png;base64,\r\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\" y=\"-7.041719\"/>\r\n   </g>\r\n   <g id=\"matplotlib.axis_1\">\r\n    <g id=\"xtick_1\">\r\n     <g id=\"line2d_1\">\r\n      <defs>\r\n       <path d=\"M 0 0 \r\nL 0 3.5 \r\n\" id=\"mc5e98c49db\" style=\"stroke:#000000;stroke-width:0.8;\"/>\r\n      </defs>\r\n      <g>\r\n       <use style=\"stroke:#000000;stroke-width:0.8;\" x=\"30.3225\" xlink:href=\"#mc5e98c49db\" y=\"225.041719\"/>\r\n      </g>\r\n     </g>\r\n     <g id=\"text_1\">\r\n      <!-- 0 -->\r\n      <defs>\r\n       <path d=\"M 31.78125 66.40625 \r\nQ 24.171875 66.40625 20.328125 58.90625 \r\nQ 16.5 51.421875 16.5 36.375 \r\nQ 16.5 21.390625 20.328125 13.890625 \r\nQ 24.171875 6.390625 31.78125 6.390625 \r\nQ 39.453125 6.390625 43.28125 13.890625 \r\nQ 47.125 21.390625 47.125 36.375 \r\nQ 47.125 51.421875 43.28125 58.90625 \r\nQ 39.453125 66.40625 31.78125 66.40625 \r\nz\r\nM 31.78125 74.21875 \r\nQ 44.046875 74.21875 50.515625 64.515625 \r\nQ 56.984375 54.828125 56.984375 36.375 \r\nQ 56.984375 17.96875 50.515625 8.265625 \r\nQ 44.046875 -1.421875 31.78125 -1.421875 \r\nQ 19.53125 -1.421875 13.0625 8.265625 \r\nQ 6.59375 17.96875 6.59375 36.375 \r\nQ 6.59375 54.828125 13.0625 64.515625 \r\nQ 19.53125 74.21875 31.78125 74.21875 \r\nz\r\n\" id=\"DejaVuSans-48\"/>\r\n      </defs>\r\n      <g transform=\"translate(27.14125 239.640156)scale(0.1 -0.1)\">\r\n       <use xlink:href=\"#DejaVuSans-48\"/>\r\n      </g>\r\n     </g>\r\n    </g>\r\n    <g id=\"xtick_2\">\r\n     <g id=\"line2d_2\">\r\n      <g>\r\n       <use style=\"stroke:#000000;stroke-width:0.8;\" x=\"64.2975\" xlink:href=\"#mc5e98c49db\" y=\"225.041719\"/>\r\n      </g>\r\n     </g>\r\n     <g id=\"text_2\">\r\n      <!-- 5 -->\r\n      <defs>\r\n       <path d=\"M 10.796875 72.90625 \r\nL 49.515625 72.90625 \r\nL 49.515625 64.59375 \r\nL 19.828125 64.59375 \r\nL 19.828125 46.734375 \r\nQ 21.96875 47.46875 24.109375 47.828125 \r\nQ 26.265625 48.1875 28.421875 48.1875 \r\nQ 40.625 48.1875 47.75 41.5 \r\nQ 54.890625 34.8125 54.890625 23.390625 \r\nQ 54.890625 11.625 47.5625 5.09375 \r\nQ 40.234375 -1.421875 26.90625 -1.421875 \r\nQ 22.3125 -1.421875 17.546875 -0.640625 \r\nQ 12.796875 0.140625 7.71875 1.703125 \r\nL 7.71875 11.625 \r\nQ 12.109375 9.234375 16.796875 8.0625 \r\nQ 21.484375 6.890625 26.703125 6.890625 \r\nQ 35.15625 6.890625 40.078125 11.328125 \r\nQ 45.015625 15.765625 45.015625 23.390625 \r\nQ 45.015625 31 40.078125 35.4375 \r\nQ 35.15625 39.890625 26.703125 39.890625 \r\nQ 22.75 39.890625 18.8125 39.015625 \r\nQ 14.890625 38.140625 10.796875 36.28125 \r\nz\r\n\" id=\"DejaVuSans-53\"/>\r\n      </defs>\r\n      <g transform=\"translate(61.11625 239.640156)scale(0.1 -0.1)\">\r\n       <use xlink:href=\"#DejaVuSans-53\"/>\r\n      </g>\r\n     </g>\r\n    </g>\r\n    <g id=\"xtick_3\">\r\n     <g id=\"line2d_3\">\r\n      <g>\r\n       <use style=\"stroke:#000000;stroke-width:0.8;\" x=\"98.2725\" xlink:href=\"#mc5e98c49db\" y=\"225.041719\"/>\r\n      </g>\r\n     </g>\r\n     <g id=\"text_3\">\r\n      <!-- 10 -->\r\n      <defs>\r\n       <path d=\"M 12.40625 8.296875 \r\nL 28.515625 8.296875 \r\nL 28.515625 63.921875 \r\nL 10.984375 60.40625 \r\nL 10.984375 69.390625 \r\nL 28.421875 72.90625 \r\nL 38.28125 72.90625 \r\nL 38.28125 8.296875 \r\nL 54.390625 8.296875 \r\nL 54.390625 0 \r\nL 12.40625 0 \r\nz\r\n\" id=\"DejaVuSans-49\"/>\r\n      </defs>\r\n      <g transform=\"translate(91.91 239.640156)scale(0.1 -0.1)\">\r\n       <use xlink:href=\"#DejaVuSans-49\"/>\r\n       <use x=\"63.623047\" xlink:href=\"#DejaVuSans-48\"/>\r\n      </g>\r\n     </g>\r\n    </g>\r\n    <g id=\"xtick_4\">\r\n     <g id=\"line2d_4\">\r\n      <g>\r\n       <use style=\"stroke:#000000;stroke-width:0.8;\" x=\"132.2475\" xlink:href=\"#mc5e98c49db\" y=\"225.041719\"/>\r\n      </g>\r\n     </g>\r\n     <g id=\"text_4\">\r\n      <!-- 15 -->\r\n      <g transform=\"translate(125.885 239.640156)scale(0.1 -0.1)\">\r\n       <use xlink:href=\"#DejaVuSans-49\"/>\r\n       <use x=\"63.623047\" xlink:href=\"#DejaVuSans-53\"/>\r\n      </g>\r\n     </g>\r\n    </g>\r\n    <g id=\"xtick_5\">\r\n     <g id=\"line2d_5\">\r\n      <g>\r\n       <use style=\"stroke:#000000;stroke-width:0.8;\" x=\"166.2225\" xlink:href=\"#mc5e98c49db\" y=\"225.041719\"/>\r\n      </g>\r\n     </g>\r\n     <g id=\"text_5\">\r\n      <!-- 20 -->\r\n      <defs>\r\n       <path d=\"M 19.1875 8.296875 \r\nL 53.609375 8.296875 \r\nL 53.609375 0 \r\nL 7.328125 0 \r\nL 7.328125 8.296875 \r\nQ 12.9375 14.109375 22.625 23.890625 \r\nQ 32.328125 33.6875 34.8125 36.53125 \r\nQ 39.546875 41.84375 41.421875 45.53125 \r\nQ 43.3125 49.21875 43.3125 52.78125 \r\nQ 43.3125 58.59375 39.234375 62.25 \r\nQ 35.15625 65.921875 28.609375 65.921875 \r\nQ 23.96875 65.921875 18.8125 64.3125 \r\nQ 13.671875 62.703125 7.8125 59.421875 \r\nL 7.8125 69.390625 \r\nQ 13.765625 71.78125 18.9375 73 \r\nQ 24.125 74.21875 28.421875 74.21875 \r\nQ 39.75 74.21875 46.484375 68.546875 \r\nQ 53.21875 62.890625 53.21875 53.421875 \r\nQ 53.21875 48.921875 51.53125 44.890625 \r\nQ 49.859375 40.875 45.40625 35.40625 \r\nQ 44.1875 33.984375 37.640625 27.21875 \r\nQ 31.109375 20.453125 19.1875 8.296875 \r\nz\r\n\" id=\"DejaVuSans-50\"/>\r\n      </defs>\r\n      <g transform=\"translate(159.86 239.640156)scale(0.1 -0.1)\">\r\n       <use xlink:href=\"#DejaVuSans-50\"/>\r\n       <use x=\"63.623047\" xlink:href=\"#DejaVuSans-48\"/>\r\n      </g>\r\n     </g>\r\n    </g>\r\n    <g id=\"xtick_6\">\r\n     <g id=\"line2d_6\">\r\n      <g>\r\n       <use style=\"stroke:#000000;stroke-width:0.8;\" x=\"200.1975\" xlink:href=\"#mc5e98c49db\" y=\"225.041719\"/>\r\n      </g>\r\n     </g>\r\n     <g id=\"text_6\">\r\n      <!-- 25 -->\r\n      <g transform=\"translate(193.835 239.640156)scale(0.1 -0.1)\">\r\n       <use xlink:href=\"#DejaVuSans-50\"/>\r\n       <use x=\"63.623047\" xlink:href=\"#DejaVuSans-53\"/>\r\n      </g>\r\n     </g>\r\n    </g>\r\n    <g id=\"xtick_7\">\r\n     <g id=\"line2d_7\">\r\n      <g>\r\n       <use style=\"stroke:#000000;stroke-width:0.8;\" x=\"234.1725\" xlink:href=\"#mc5e98c49db\" y=\"225.041719\"/>\r\n      </g>\r\n     </g>\r\n     <g id=\"text_7\">\r\n      <!-- 30 -->\r\n      <defs>\r\n       <path d=\"M 40.578125 39.3125 \r\nQ 47.65625 37.796875 51.625 33 \r\nQ 55.609375 28.21875 55.609375 21.1875 \r\nQ 55.609375 10.40625 48.1875 4.484375 \r\nQ 40.765625 -1.421875 27.09375 -1.421875 \r\nQ 22.515625 -1.421875 17.65625 -0.515625 \r\nQ 12.796875 0.390625 7.625 2.203125 \r\nL 7.625 11.71875 \r\nQ 11.71875 9.328125 16.59375 8.109375 \r\nQ 21.484375 6.890625 26.8125 6.890625 \r\nQ 36.078125 6.890625 40.9375 10.546875 \r\nQ 45.796875 14.203125 45.796875 21.1875 \r\nQ 45.796875 27.640625 41.28125 31.265625 \r\nQ 36.765625 34.90625 28.71875 34.90625 \r\nL 20.21875 34.90625 \r\nL 20.21875 43.015625 \r\nL 29.109375 43.015625 \r\nQ 36.375 43.015625 40.234375 45.921875 \r\nQ 44.09375 48.828125 44.09375 54.296875 \r\nQ 44.09375 59.90625 40.109375 62.90625 \r\nQ 36.140625 65.921875 28.71875 65.921875 \r\nQ 24.65625 65.921875 20.015625 65.03125 \r\nQ 15.375 64.15625 9.8125 62.3125 \r\nL 9.8125 71.09375 \r\nQ 15.4375 72.65625 20.34375 73.4375 \r\nQ 25.25 74.21875 29.59375 74.21875 \r\nQ 40.828125 74.21875 47.359375 69.109375 \r\nQ 53.90625 64.015625 53.90625 55.328125 \r\nQ 53.90625 49.265625 50.4375 45.09375 \r\nQ 46.96875 40.921875 40.578125 39.3125 \r\nz\r\n\" id=\"DejaVuSans-51\"/>\r\n      </defs>\r\n      <g transform=\"translate(227.81 239.640156)scale(0.1 -0.1)\">\r\n       <use xlink:href=\"#DejaVuSans-51\"/>\r\n       <use x=\"63.623047\" xlink:href=\"#DejaVuSans-48\"/>\r\n      </g>\r\n     </g>\r\n    </g>\r\n   </g>\r\n   <g id=\"matplotlib.axis_2\">\r\n    <g id=\"ytick_1\">\r\n     <g id=\"line2d_8\">\r\n      <defs>\r\n       <path d=\"M 0 0 \r\nL -3.5 0 \r\n\" id=\"m549dc62196\" style=\"stroke:#000000;stroke-width:0.8;\"/>\r\n      </defs>\r\n      <g>\r\n       <use style=\"stroke:#000000;stroke-width:0.8;\" x=\"26.925\" xlink:href=\"#m549dc62196\" y=\"10.999219\"/>\r\n      </g>\r\n     </g>\r\n     <g id=\"text_8\">\r\n      <!-- 0 -->\r\n      <g transform=\"translate(13.5625 14.798437)scale(0.1 -0.1)\">\r\n       <use xlink:href=\"#DejaVuSans-48\"/>\r\n      </g>\r\n     </g>\r\n    </g>\r\n    <g id=\"ytick_2\">\r\n     <g id=\"line2d_9\">\r\n      <g>\r\n       <use style=\"stroke:#000000;stroke-width:0.8;\" x=\"26.925\" xlink:href=\"#m549dc62196\" y=\"44.974219\"/>\r\n      </g>\r\n     </g>\r\n     <g id=\"text_9\">\r\n      <!-- 5 -->\r\n      <g transform=\"translate(13.5625 48.773437)scale(0.1 -0.1)\">\r\n       <use xlink:href=\"#DejaVuSans-53\"/>\r\n      </g>\r\n     </g>\r\n    </g>\r\n    <g id=\"ytick_3\">\r\n     <g id=\"line2d_10\">\r\n      <g>\r\n       <use style=\"stroke:#000000;stroke-width:0.8;\" x=\"26.925\" xlink:href=\"#m549dc62196\" y=\"78.949219\"/>\r\n      </g>\r\n     </g>\r\n     <g id=\"text_10\">\r\n      <!-- 10 -->\r\n      <g transform=\"translate(7.2 82.748437)scale(0.1 -0.1)\">\r\n       <use xlink:href=\"#DejaVuSans-49\"/>\r\n       <use x=\"63.623047\" xlink:href=\"#DejaVuSans-48\"/>\r\n      </g>\r\n     </g>\r\n    </g>\r\n    <g id=\"ytick_4\">\r\n     <g id=\"line2d_11\">\r\n      <g>\r\n       <use style=\"stroke:#000000;stroke-width:0.8;\" x=\"26.925\" xlink:href=\"#m549dc62196\" y=\"112.924219\"/>\r\n      </g>\r\n     </g>\r\n     <g id=\"text_11\">\r\n      <!-- 15 -->\r\n      <g transform=\"translate(7.2 116.723437)scale(0.1 -0.1)\">\r\n       <use xlink:href=\"#DejaVuSans-49\"/>\r\n       <use x=\"63.623047\" xlink:href=\"#DejaVuSans-53\"/>\r\n      </g>\r\n     </g>\r\n    </g>\r\n    <g id=\"ytick_5\">\r\n     <g id=\"line2d_12\">\r\n      <g>\r\n       <use style=\"stroke:#000000;stroke-width:0.8;\" x=\"26.925\" xlink:href=\"#m549dc62196\" y=\"146.899219\"/>\r\n      </g>\r\n     </g>\r\n     <g id=\"text_12\">\r\n      <!-- 20 -->\r\n      <g transform=\"translate(7.2 150.698437)scale(0.1 -0.1)\">\r\n       <use xlink:href=\"#DejaVuSans-50\"/>\r\n       <use x=\"63.623047\" xlink:href=\"#DejaVuSans-48\"/>\r\n      </g>\r\n     </g>\r\n    </g>\r\n    <g id=\"ytick_6\">\r\n     <g id=\"line2d_13\">\r\n      <g>\r\n       <use style=\"stroke:#000000;stroke-width:0.8;\" x=\"26.925\" xlink:href=\"#m549dc62196\" y=\"180.874219\"/>\r\n      </g>\r\n     </g>\r\n     <g id=\"text_13\">\r\n      <!-- 25 -->\r\n      <g transform=\"translate(7.2 184.673437)scale(0.1 -0.1)\">\r\n       <use xlink:href=\"#DejaVuSans-50\"/>\r\n       <use x=\"63.623047\" xlink:href=\"#DejaVuSans-53\"/>\r\n      </g>\r\n     </g>\r\n    </g>\r\n    <g id=\"ytick_7\">\r\n     <g id=\"line2d_14\">\r\n      <g>\r\n       <use style=\"stroke:#000000;stroke-width:0.8;\" x=\"26.925\" xlink:href=\"#m549dc62196\" y=\"214.849219\"/>\r\n      </g>\r\n     </g>\r\n     <g id=\"text_14\">\r\n      <!-- 30 -->\r\n      <g transform=\"translate(7.2 218.648437)scale(0.1 -0.1)\">\r\n       <use xlink:href=\"#DejaVuSans-51\"/>\r\n       <use x=\"63.623047\" xlink:href=\"#DejaVuSans-48\"/>\r\n      </g>\r\n     </g>\r\n    </g>\r\n   </g>\r\n   <g id=\"patch_3\">\r\n    <path d=\"M 26.925 225.041719 \r\nL 26.925 7.601719 \r\n\" style=\"fill:none;stroke:#000000;stroke-linecap:square;stroke-linejoin:miter;stroke-width:0.8;\"/>\r\n   </g>\r\n   <g id=\"patch_4\">\r\n    <path d=\"M 244.365 225.041719 \r\nL 244.365 7.601719 \r\n\" style=\"fill:none;stroke:#000000;stroke-linecap:square;stroke-linejoin:miter;stroke-width:0.8;\"/>\r\n   </g>\r\n   <g id=\"patch_5\">\r\n    <path d=\"M 26.925 225.041719 \r\nL 244.365 225.041719 \r\n\" style=\"fill:none;stroke:#000000;stroke-linecap:square;stroke-linejoin:miter;stroke-width:0.8;\"/>\r\n   </g>\r\n   <g id=\"patch_6\">\r\n    <path d=\"M 26.925 7.601719 \r\nL 244.365 7.601719 \r\n\" style=\"fill:none;stroke:#000000;stroke-linecap:square;stroke-linejoin:miter;stroke-width:0.8;\"/>\r\n   </g>\r\n  </g>\r\n </g>\r\n <defs>\r\n  <clipPath id=\"pa87d8159c1\">\r\n   <rect height=\"217.44\" width=\"217.44\" x=\"26.925\" y=\"7.601719\"/>\r\n  </clipPath>\r\n </defs>\r\n</svg>\r\n",
      "image/png": "[encoded data removed]"
     },
     "metadata": {
      "needs_background": "light"
     }
    }
   ],
   "source": [
    "img_t, _ = transformd_cifar10[99]\n",
    "\n",
    "plt.imshow(img_t.permute(1, 2, 0))\n",
    "plt.show()"
   ]
  },
  {
   "source": [
    "## 7.2 Distinguishing birds from airplanes"
   ],
   "cell_type": "markdown",
   "metadata": {}
  },
  {
   "cell_type": "code",
   "execution_count": 88,
   "metadata": {},
   "outputs": [],
   "source": [
    "label_map = {0:0, 2:1}\n",
    "class_names = ['airplane', 'bird']\n",
    "cifar2 = [(img, label_map[label]) for img, label in transformd_cifar10 if label in [0, 2]]\n",
    "cifar2_val = [(img, label_map[label]) for img, label in transformd_cifar10_val if label in [0, 2]]\n"
   ]
  },
  {
   "cell_type": "code",
   "execution_count": 1,
   "metadata": {},
   "outputs": [
    {
     "output_type": "error",
     "ename": "NameError",
     "evalue": "name 'cifar2' is not defined",
     "traceback": [
      "\u001b[1;31m---------------------------------------------------------------------------\u001b[0m",
      "\u001b[1;31mNameError\u001b[0m                                 Traceback (most recent call last)",
      "\u001b[1;32m<ipython-input-1-3ce8a35a650e>\u001b[0m in \u001b[0;36m<module>\u001b[1;34m\u001b[0m\n\u001b[1;32m----> 1\u001b[1;33m \u001b[0mtype\u001b[0m\u001b[1;33m(\u001b[0m\u001b[0mcifar2\u001b[0m\u001b[1;33m)\u001b[0m\u001b[1;33m\u001b[0m\u001b[1;33m\u001b[0m\u001b[0m\n\u001b[0m",
      "\u001b[1;31mNameError\u001b[0m: name 'cifar2' is not defined"
     ]
    }
   ],
   "source": [
    "type(cifar2)"
   ]
  },
  {
   "cell_type": "code",
   "execution_count": 104,
   "metadata": {},
   "outputs": [
    {
     "output_type": "execute_result",
     "data": {
      "text/plain": [
       "torch.Size([3, 32, 32])"
      ]
     },
     "metadata": {},
     "execution_count": 104
    }
   ],
   "source": [
    "img, _ = cifar2_val[0]\n",
    "img.shape"
   ]
  },
  {
   "cell_type": "code",
   "execution_count": 25,
   "metadata": {},
   "outputs": [],
   "source": [
    "import torch.nn as nn\n",
    "\n",
    "n_out = 2\n",
    "model = nn.Sequential(\n",
    "    nn.Linear(3072, 512),\n",
    "    nn.Tanh(),\n",
    "    nn.Linear(512, n_out)\n",
    ")"
   ]
  },
  {
   "cell_type": "code",
   "execution_count": 37,
   "metadata": {},
   "outputs": [],
   "source": [
    "def softmax(x):\n",
    "    return torch.exp(x) / torch.exp(x).sum()"
   ]
  },
  {
   "cell_type": "code",
   "execution_count": 40,
   "metadata": {},
   "outputs": [
    {
     "output_type": "execute_result",
     "data": {
      "text/plain": [
       "tensor([0.0900, 0.2447, 0.6652])"
      ]
     },
     "metadata": {},
     "execution_count": 40
    }
   ],
   "source": [
    "x = torch.tensor([1.0, 2.0, 3.0])\n",
    "softmax(x)"
   ]
  },
  {
   "cell_type": "code",
   "execution_count": 41,
   "metadata": {},
   "outputs": [
    {
     "output_type": "execute_result",
     "data": {
      "text/plain": [
       "tensor(1.)"
      ]
     },
     "metadata": {},
     "execution_count": 41
    }
   ],
   "source": [
    "softmax(x).sum()"
   ]
  },
  {
   "cell_type": "code",
   "execution_count": 43,
   "metadata": {},
   "outputs": [
    {
     "output_type": "execute_result",
     "data": {
      "text/plain": [
       "tensor([[0.0900, 0.2447, 0.6652],\n",
       "        [0.0900, 0.2447, 0.6652]])"
      ]
     },
     "metadata": {},
     "execution_count": 43
    }
   ],
   "source": [
    "softmax = nn.Softmax(dim=1)\n",
    "\n",
    "x = torch.tensor([[1.0, 2.0, 3.0], [1.0, 2.0, 3.0]])\n",
    "softmax(x)"
   ]
  },
  {
   "cell_type": "code",
   "execution_count": 54,
   "metadata": {},
   "outputs": [],
   "source": [
    "model = nn.Sequential(\n",
    "    nn.Linear(3072, 512),\n",
    "    nn.Tanh(),\n",
    "    nn.Linear(512, 2),\n",
    "    nn.Softmax(dim=1)\n",
    ")"
   ]
  },
  {
   "cell_type": "code",
   "execution_count": 78,
   "metadata": {},
   "outputs": [
    {
     "output_type": "stream",
     "name": "stderr",
     "text": [
      "Clipping input data to the valid range for imshow with RGB data ([0..1] for floats or [0..255] for integers).\n"
     ]
    },
    {
     "output_type": "display_data",
     "data": {
      "text/plain": "<Figure size 432x288 with 1 Axes>",
      "image/svg+xml": "<?xml version=\"1.0\" encoding=\"utf-8\" standalone=\"no\"?>\r\n<!DOCTYPE svg PUBLIC \"-//W3C//DTD SVG 1.1//EN\"\r\n  \"http://www.w3.org/Graphics/SVG/1.1/DTD/svg11.dtd\">\r\n<!-- Created with matplotlib (https://matplotlib.org/) -->\r\n<svg height=\"248.919844pt\" version=\"1.1\" viewBox=\"0 0 251.565 248.919844\" width=\"251.565pt\" xmlns=\"http://www.w3.org/2000/svg\" xmlns:xlink=\"http://www.w3.org/1999/xlink\">\r\n <defs>\r\n  <style type=\"text/css\">\r\n*{stroke-linecap:butt;stroke-linejoin:round;}\r\n  </style>\r\n </defs>\r\n <g id=\"figure_1\">\r\n  <g id=\"patch_1\">\r\n   <path d=\"M 0 248.919844 \r\nL 251.565 248.919844 \r\nL 251.565 0 \r\nL 0 0 \r\nz\r\n\" style=\"fill:none;\"/>\r\n  </g>\r\n  <g id=\"axes_1\">\r\n   <g id=\"patch_2\">\r\n    <path d=\"M 26.925 225.041719 \r\nL 244.365 225.041719 \r\nL 244.365 7.601719 \r\nL 26.925 7.601719 \r\nz\r\n\" style=\"fill:#ffffff;\"/>\r\n   </g>\r\n   <g clip-path=\"url(#p8122019ba0)\">\r\n    <image height=\"218\" id=\"image9568a8c13d\" transform=\"scale(1 -1)translate(0 -218)\" width=\"218\" x=\"26.925\" xlink:href=\"data:image/png;base64,\r\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\" y=\"-7.041719\"/>\r\n   </g>\r\n   <g id=\"matplotlib.axis_1\">\r\n    <g id=\"xtick_1\">\r\n     <g id=\"line2d_1\">\r\n      <defs>\r\n       <path d=\"M 0 0 \r\nL 0 3.5 \r\n\" id=\"md2f4462d89\" style=\"stroke:#000000;stroke-width:0.8;\"/>\r\n      </defs>\r\n      <g>\r\n       <use style=\"stroke:#000000;stroke-width:0.8;\" x=\"30.3225\" xlink:href=\"#md2f4462d89\" y=\"225.041719\"/>\r\n      </g>\r\n     </g>\r\n     <g id=\"text_1\">\r\n      <!-- 0 -->\r\n      <defs>\r\n       <path d=\"M 31.78125 66.40625 \r\nQ 24.171875 66.40625 20.328125 58.90625 \r\nQ 16.5 51.421875 16.5 36.375 \r\nQ 16.5 21.390625 20.328125 13.890625 \r\nQ 24.171875 6.390625 31.78125 6.390625 \r\nQ 39.453125 6.390625 43.28125 13.890625 \r\nQ 47.125 21.390625 47.125 36.375 \r\nQ 47.125 51.421875 43.28125 58.90625 \r\nQ 39.453125 66.40625 31.78125 66.40625 \r\nz\r\nM 31.78125 74.21875 \r\nQ 44.046875 74.21875 50.515625 64.515625 \r\nQ 56.984375 54.828125 56.984375 36.375 \r\nQ 56.984375 17.96875 50.515625 8.265625 \r\nQ 44.046875 -1.421875 31.78125 -1.421875 \r\nQ 19.53125 -1.421875 13.0625 8.265625 \r\nQ 6.59375 17.96875 6.59375 36.375 \r\nQ 6.59375 54.828125 13.0625 64.515625 \r\nQ 19.53125 74.21875 31.78125 74.21875 \r\nz\r\n\" id=\"DejaVuSans-48\"/>\r\n      </defs>\r\n      <g transform=\"translate(27.14125 239.640156)scale(0.1 -0.1)\">\r\n       <use xlink:href=\"#DejaVuSans-48\"/>\r\n      </g>\r\n     </g>\r\n    </g>\r\n    <g id=\"xtick_2\">\r\n     <g id=\"line2d_2\">\r\n      <g>\r\n       <use style=\"stroke:#000000;stroke-width:0.8;\" x=\"64.2975\" xlink:href=\"#md2f4462d89\" y=\"225.041719\"/>\r\n      </g>\r\n     </g>\r\n     <g id=\"text_2\">\r\n      <!-- 5 -->\r\n      <defs>\r\n       <path d=\"M 10.796875 72.90625 \r\nL 49.515625 72.90625 \r\nL 49.515625 64.59375 \r\nL 19.828125 64.59375 \r\nL 19.828125 46.734375 \r\nQ 21.96875 47.46875 24.109375 47.828125 \r\nQ 26.265625 48.1875 28.421875 48.1875 \r\nQ 40.625 48.1875 47.75 41.5 \r\nQ 54.890625 34.8125 54.890625 23.390625 \r\nQ 54.890625 11.625 47.5625 5.09375 \r\nQ 40.234375 -1.421875 26.90625 -1.421875 \r\nQ 22.3125 -1.421875 17.546875 -0.640625 \r\nQ 12.796875 0.140625 7.71875 1.703125 \r\nL 7.71875 11.625 \r\nQ 12.109375 9.234375 16.796875 8.0625 \r\nQ 21.484375 6.890625 26.703125 6.890625 \r\nQ 35.15625 6.890625 40.078125 11.328125 \r\nQ 45.015625 15.765625 45.015625 23.390625 \r\nQ 45.015625 31 40.078125 35.4375 \r\nQ 35.15625 39.890625 26.703125 39.890625 \r\nQ 22.75 39.890625 18.8125 39.015625 \r\nQ 14.890625 38.140625 10.796875 36.28125 \r\nz\r\n\" id=\"DejaVuSans-53\"/>\r\n      </defs>\r\n      <g transform=\"translate(61.11625 239.640156)scale(0.1 -0.1)\">\r\n       <use xlink:href=\"#DejaVuSans-53\"/>\r\n      </g>\r\n     </g>\r\n    </g>\r\n    <g id=\"xtick_3\">\r\n     <g id=\"line2d_3\">\r\n      <g>\r\n       <use style=\"stroke:#000000;stroke-width:0.8;\" x=\"98.2725\" xlink:href=\"#md2f4462d89\" y=\"225.041719\"/>\r\n      </g>\r\n     </g>\r\n     <g id=\"text_3\">\r\n      <!-- 10 -->\r\n      <defs>\r\n       <path d=\"M 12.40625 8.296875 \r\nL 28.515625 8.296875 \r\nL 28.515625 63.921875 \r\nL 10.984375 60.40625 \r\nL 10.984375 69.390625 \r\nL 28.421875 72.90625 \r\nL 38.28125 72.90625 \r\nL 38.28125 8.296875 \r\nL 54.390625 8.296875 \r\nL 54.390625 0 \r\nL 12.40625 0 \r\nz\r\n\" id=\"DejaVuSans-49\"/>\r\n      </defs>\r\n      <g transform=\"translate(91.91 239.640156)scale(0.1 -0.1)\">\r\n       <use xlink:href=\"#DejaVuSans-49\"/>\r\n       <use x=\"63.623047\" xlink:href=\"#DejaVuSans-48\"/>\r\n      </g>\r\n     </g>\r\n    </g>\r\n    <g id=\"xtick_4\">\r\n     <g id=\"line2d_4\">\r\n      <g>\r\n       <use style=\"stroke:#000000;stroke-width:0.8;\" x=\"132.2475\" xlink:href=\"#md2f4462d89\" y=\"225.041719\"/>\r\n      </g>\r\n     </g>\r\n     <g id=\"text_4\">\r\n      <!-- 15 -->\r\n      <g transform=\"translate(125.885 239.640156)scale(0.1 -0.1)\">\r\n       <use xlink:href=\"#DejaVuSans-49\"/>\r\n       <use x=\"63.623047\" xlink:href=\"#DejaVuSans-53\"/>\r\n      </g>\r\n     </g>\r\n    </g>\r\n    <g id=\"xtick_5\">\r\n     <g id=\"line2d_5\">\r\n      <g>\r\n       <use style=\"stroke:#000000;stroke-width:0.8;\" x=\"166.2225\" xlink:href=\"#md2f4462d89\" y=\"225.041719\"/>\r\n      </g>\r\n     </g>\r\n     <g id=\"text_5\">\r\n      <!-- 20 -->\r\n      <defs>\r\n       <path d=\"M 19.1875 8.296875 \r\nL 53.609375 8.296875 \r\nL 53.609375 0 \r\nL 7.328125 0 \r\nL 7.328125 8.296875 \r\nQ 12.9375 14.109375 22.625 23.890625 \r\nQ 32.328125 33.6875 34.8125 36.53125 \r\nQ 39.546875 41.84375 41.421875 45.53125 \r\nQ 43.3125 49.21875 43.3125 52.78125 \r\nQ 43.3125 58.59375 39.234375 62.25 \r\nQ 35.15625 65.921875 28.609375 65.921875 \r\nQ 23.96875 65.921875 18.8125 64.3125 \r\nQ 13.671875 62.703125 7.8125 59.421875 \r\nL 7.8125 69.390625 \r\nQ 13.765625 71.78125 18.9375 73 \r\nQ 24.125 74.21875 28.421875 74.21875 \r\nQ 39.75 74.21875 46.484375 68.546875 \r\nQ 53.21875 62.890625 53.21875 53.421875 \r\nQ 53.21875 48.921875 51.53125 44.890625 \r\nQ 49.859375 40.875 45.40625 35.40625 \r\nQ 44.1875 33.984375 37.640625 27.21875 \r\nQ 31.109375 20.453125 19.1875 8.296875 \r\nz\r\n\" id=\"DejaVuSans-50\"/>\r\n      </defs>\r\n      <g transform=\"translate(159.86 239.640156)scale(0.1 -0.1)\">\r\n       <use xlink:href=\"#DejaVuSans-50\"/>\r\n       <use x=\"63.623047\" xlink:href=\"#DejaVuSans-48\"/>\r\n      </g>\r\n     </g>\r\n    </g>\r\n    <g id=\"xtick_6\">\r\n     <g id=\"line2d_6\">\r\n      <g>\r\n       <use style=\"stroke:#000000;stroke-width:0.8;\" x=\"200.1975\" xlink:href=\"#md2f4462d89\" y=\"225.041719\"/>\r\n      </g>\r\n     </g>\r\n     <g id=\"text_6\">\r\n      <!-- 25 -->\r\n      <g transform=\"translate(193.835 239.640156)scale(0.1 -0.1)\">\r\n       <use xlink:href=\"#DejaVuSans-50\"/>\r\n       <use x=\"63.623047\" xlink:href=\"#DejaVuSans-53\"/>\r\n      </g>\r\n     </g>\r\n    </g>\r\n    <g id=\"xtick_7\">\r\n     <g id=\"line2d_7\">\r\n      <g>\r\n       <use style=\"stroke:#000000;stroke-width:0.8;\" x=\"234.1725\" xlink:href=\"#md2f4462d89\" y=\"225.041719\"/>\r\n      </g>\r\n     </g>\r\n     <g id=\"text_7\">\r\n      <!-- 30 -->\r\n      <defs>\r\n       <path d=\"M 40.578125 39.3125 \r\nQ 47.65625 37.796875 51.625 33 \r\nQ 55.609375 28.21875 55.609375 21.1875 \r\nQ 55.609375 10.40625 48.1875 4.484375 \r\nQ 40.765625 -1.421875 27.09375 -1.421875 \r\nQ 22.515625 -1.421875 17.65625 -0.515625 \r\nQ 12.796875 0.390625 7.625 2.203125 \r\nL 7.625 11.71875 \r\nQ 11.71875 9.328125 16.59375 8.109375 \r\nQ 21.484375 6.890625 26.8125 6.890625 \r\nQ 36.078125 6.890625 40.9375 10.546875 \r\nQ 45.796875 14.203125 45.796875 21.1875 \r\nQ 45.796875 27.640625 41.28125 31.265625 \r\nQ 36.765625 34.90625 28.71875 34.90625 \r\nL 20.21875 34.90625 \r\nL 20.21875 43.015625 \r\nL 29.109375 43.015625 \r\nQ 36.375 43.015625 40.234375 45.921875 \r\nQ 44.09375 48.828125 44.09375 54.296875 \r\nQ 44.09375 59.90625 40.109375 62.90625 \r\nQ 36.140625 65.921875 28.71875 65.921875 \r\nQ 24.65625 65.921875 20.015625 65.03125 \r\nQ 15.375 64.15625 9.8125 62.3125 \r\nL 9.8125 71.09375 \r\nQ 15.4375 72.65625 20.34375 73.4375 \r\nQ 25.25 74.21875 29.59375 74.21875 \r\nQ 40.828125 74.21875 47.359375 69.109375 \r\nQ 53.90625 64.015625 53.90625 55.328125 \r\nQ 53.90625 49.265625 50.4375 45.09375 \r\nQ 46.96875 40.921875 40.578125 39.3125 \r\nz\r\n\" id=\"DejaVuSans-51\"/>\r\n      </defs>\r\n      <g transform=\"translate(227.81 239.640156)scale(0.1 -0.1)\">\r\n       <use xlink:href=\"#DejaVuSans-51\"/>\r\n       <use x=\"63.623047\" xlink:href=\"#DejaVuSans-48\"/>\r\n      </g>\r\n     </g>\r\n    </g>\r\n   </g>\r\n   <g id=\"matplotlib.axis_2\">\r\n    <g id=\"ytick_1\">\r\n     <g id=\"line2d_8\">\r\n      <defs>\r\n       <path d=\"M 0 0 \r\nL -3.5 0 \r\n\" id=\"m306337e2e6\" style=\"stroke:#000000;stroke-width:0.8;\"/>\r\n      </defs>\r\n      <g>\r\n       <use style=\"stroke:#000000;stroke-width:0.8;\" x=\"26.925\" xlink:href=\"#m306337e2e6\" y=\"10.999219\"/>\r\n      </g>\r\n     </g>\r\n     <g id=\"text_8\">\r\n      <!-- 0 -->\r\n      <g transform=\"translate(13.5625 14.798437)scale(0.1 -0.1)\">\r\n       <use xlink:href=\"#DejaVuSans-48\"/>\r\n      </g>\r\n     </g>\r\n    </g>\r\n    <g id=\"ytick_2\">\r\n     <g id=\"line2d_9\">\r\n      <g>\r\n       <use style=\"stroke:#000000;stroke-width:0.8;\" x=\"26.925\" xlink:href=\"#m306337e2e6\" y=\"44.974219\"/>\r\n      </g>\r\n     </g>\r\n     <g id=\"text_9\">\r\n      <!-- 5 -->\r\n      <g transform=\"translate(13.5625 48.773437)scale(0.1 -0.1)\">\r\n       <use xlink:href=\"#DejaVuSans-53\"/>\r\n      </g>\r\n     </g>\r\n    </g>\r\n    <g id=\"ytick_3\">\r\n     <g id=\"line2d_10\">\r\n      <g>\r\n       <use style=\"stroke:#000000;stroke-width:0.8;\" x=\"26.925\" xlink:href=\"#m306337e2e6\" y=\"78.949219\"/>\r\n      </g>\r\n     </g>\r\n     <g id=\"text_10\">\r\n      <!-- 10 -->\r\n      <g transform=\"translate(7.2 82.748437)scale(0.1 -0.1)\">\r\n       <use xlink:href=\"#DejaVuSans-49\"/>\r\n       <use x=\"63.623047\" xlink:href=\"#DejaVuSans-48\"/>\r\n      </g>\r\n     </g>\r\n    </g>\r\n    <g id=\"ytick_4\">\r\n     <g id=\"line2d_11\">\r\n      <g>\r\n       <use style=\"stroke:#000000;stroke-width:0.8;\" x=\"26.925\" xlink:href=\"#m306337e2e6\" y=\"112.924219\"/>\r\n      </g>\r\n     </g>\r\n     <g id=\"text_11\">\r\n      <!-- 15 -->\r\n      <g transform=\"translate(7.2 116.723437)scale(0.1 -0.1)\">\r\n       <use xlink:href=\"#DejaVuSans-49\"/>\r\n       <use x=\"63.623047\" xlink:href=\"#DejaVuSans-53\"/>\r\n      </g>\r\n     </g>\r\n    </g>\r\n    <g id=\"ytick_5\">\r\n     <g id=\"line2d_12\">\r\n      <g>\r\n       <use style=\"stroke:#000000;stroke-width:0.8;\" x=\"26.925\" xlink:href=\"#m306337e2e6\" y=\"146.899219\"/>\r\n      </g>\r\n     </g>\r\n     <g id=\"text_12\">\r\n      <!-- 20 -->\r\n      <g transform=\"translate(7.2 150.698437)scale(0.1 -0.1)\">\r\n       <use xlink:href=\"#DejaVuSans-50\"/>\r\n       <use x=\"63.623047\" xlink:href=\"#DejaVuSans-48\"/>\r\n      </g>\r\n     </g>\r\n    </g>\r\n    <g id=\"ytick_6\">\r\n     <g id=\"line2d_13\">\r\n      <g>\r\n       <use style=\"stroke:#000000;stroke-width:0.8;\" x=\"26.925\" xlink:href=\"#m306337e2e6\" y=\"180.874219\"/>\r\n      </g>\r\n     </g>\r\n     <g id=\"text_13\">\r\n      <!-- 25 -->\r\n      <g transform=\"translate(7.2 184.673437)scale(0.1 -0.1)\">\r\n       <use xlink:href=\"#DejaVuSans-50\"/>\r\n       <use x=\"63.623047\" xlink:href=\"#DejaVuSans-53\"/>\r\n      </g>\r\n     </g>\r\n    </g>\r\n    <g id=\"ytick_7\">\r\n     <g id=\"line2d_14\">\r\n      <g>\r\n       <use style=\"stroke:#000000;stroke-width:0.8;\" x=\"26.925\" xlink:href=\"#m306337e2e6\" y=\"214.849219\"/>\r\n      </g>\r\n     </g>\r\n     <g id=\"text_14\">\r\n      <!-- 30 -->\r\n      <g transform=\"translate(7.2 218.648437)scale(0.1 -0.1)\">\r\n       <use xlink:href=\"#DejaVuSans-51\"/>\r\n       <use x=\"63.623047\" xlink:href=\"#DejaVuSans-48\"/>\r\n      </g>\r\n     </g>\r\n    </g>\r\n   </g>\r\n   <g id=\"patch_3\">\r\n    <path d=\"M 26.925 225.041719 \r\nL 26.925 7.601719 \r\n\" style=\"fill:none;stroke:#000000;stroke-linecap:square;stroke-linejoin:miter;stroke-width:0.8;\"/>\r\n   </g>\r\n   <g id=\"patch_4\">\r\n    <path d=\"M 244.365 225.041719 \r\nL 244.365 7.601719 \r\n\" style=\"fill:none;stroke:#000000;stroke-linecap:square;stroke-linejoin:miter;stroke-width:0.8;\"/>\r\n   </g>\r\n   <g id=\"patch_5\">\r\n    <path d=\"M 26.925 225.041719 \r\nL 244.365 225.041719 \r\n\" style=\"fill:none;stroke:#000000;stroke-linecap:square;stroke-linejoin:miter;stroke-width:0.8;\"/>\r\n   </g>\r\n   <g id=\"patch_6\">\r\n    <path d=\"M 26.925 7.601719 \r\nL 244.365 7.601719 \r\n\" style=\"fill:none;stroke:#000000;stroke-linecap:square;stroke-linejoin:miter;stroke-width:0.8;\"/>\r\n   </g>\r\n  </g>\r\n </g>\r\n <defs>\r\n  <clipPath id=\"p8122019ba0\">\r\n   <rect height=\"217.44\" width=\"217.44\" x=\"26.925\" y=\"7.601719\"/>\r\n  </clipPath>\r\n </defs>\r\n</svg>\r\n",
      "image/png": "[encoded data removed]"
     },
     "metadata": {
      "needs_background": "light"
     }
    }
   ],
   "source": [
    "img, _ = cifar2[0]\n",
    "\n",
    "plt.imshow(img.permute(1, 2, 0))\n",
    "plt.show()"
   ]
  },
  {
   "cell_type": "code",
   "execution_count": 82,
   "metadata": {},
   "outputs": [
    {
     "output_type": "execute_result",
     "data": {
      "text/plain": [
       "tensor([[0.4145, 0.5855]], grad_fn=<SoftmaxBackward>)"
      ]
     },
     "metadata": {},
     "execution_count": 82
    }
   ],
   "source": [
    "img_batch = img.view(-1).unsqueeze(0)\n",
    "\n",
    "out = model(img_batch)\n",
    "out"
   ]
  },
  {
   "cell_type": "code",
   "execution_count": 89,
   "metadata": {},
   "outputs": [
    {
     "output_type": "execute_result",
     "data": {
      "text/plain": [
       "tensor([1])"
      ]
     },
     "metadata": {},
     "execution_count": 89
    }
   ],
   "source": [
    "_, index = torch.max(out, dim=1)\n",
    "index"
   ]
  },
  {
   "cell_type": "code",
   "execution_count": 90,
   "metadata": {},
   "outputs": [],
   "source": [
    "model = nn.Sequential(\n",
    "    nn.Linear(3072, 512),\n",
    "    nn.Tanh(),\n",
    "    nn.Linear(512, 2),\n",
    "    nn.LogSoftmax(dim=1)\n",
    ")\n",
    "\n",
    "loss = nn.NLLLoss()"
   ]
  },
  {
   "cell_type": "code",
   "execution_count": 96,
   "metadata": {},
   "outputs": [
    {
     "output_type": "execute_result",
     "data": {
      "text/plain": [
       "tensor(0.7337, grad_fn=<NllLossBackward>)"
      ]
     },
     "metadata": {},
     "execution_count": 96
    }
   ],
   "source": [
    "img, label = cifar2[0]\n",
    "out = model(img.view(-1).unsqueeze(0))\n",
    "loss(out, torch.tensor([label]))"
   ]
  },
  {
   "cell_type": "code",
   "execution_count": 99,
   "metadata": {},
   "outputs": [
    {
     "output_type": "stream",
     "name": "stdout",
     "text": [
      "Epoch: 0, Loss: 3.7388\n",
      "Epoch: 1, Loss: 6.1580\n"
     ]
    },
    {
     "output_type": "error",
     "ename": "KeyboardInterrupt",
     "evalue": "",
     "traceback": [
      "\u001b[1;31m---------------------------------------------------------------------------\u001b[0m",
      "\u001b[1;31mKeyboardInterrupt\u001b[0m                         Traceback (most recent call last)",
      "\u001b[1;32m<ipython-input-99-4ac08738df7b>\u001b[0m in \u001b[0;36m<module>\u001b[1;34m\u001b[0m\n\u001b[0;32m     22\u001b[0m         \u001b[0mloss\u001b[0m \u001b[1;33m=\u001b[0m \u001b[0mloss_fn\u001b[0m\u001b[1;33m(\u001b[0m\u001b[0mout\u001b[0m\u001b[1;33m,\u001b[0m \u001b[0mtorch\u001b[0m\u001b[1;33m.\u001b[0m\u001b[0mtensor\u001b[0m\u001b[1;33m(\u001b[0m\u001b[1;33m[\u001b[0m\u001b[0mlabel\u001b[0m\u001b[1;33m]\u001b[0m\u001b[1;33m)\u001b[0m\u001b[1;33m)\u001b[0m\u001b[1;33m\u001b[0m\u001b[1;33m\u001b[0m\u001b[0m\n\u001b[0;32m     23\u001b[0m \u001b[1;33m\u001b[0m\u001b[0m\n\u001b[1;32m---> 24\u001b[1;33m         \u001b[0moptimizer\u001b[0m\u001b[1;33m.\u001b[0m\u001b[0mzero_grad\u001b[0m\u001b[1;33m(\u001b[0m\u001b[1;33m)\u001b[0m\u001b[1;33m\u001b[0m\u001b[1;33m\u001b[0m\u001b[0m\n\u001b[0m\u001b[0;32m     25\u001b[0m         \u001b[0mloss\u001b[0m\u001b[1;33m.\u001b[0m\u001b[0mbackward\u001b[0m\u001b[1;33m(\u001b[0m\u001b[1;33m)\u001b[0m\u001b[1;33m\u001b[0m\u001b[1;33m\u001b[0m\u001b[0m\n\u001b[0;32m     26\u001b[0m         \u001b[0moptimizer\u001b[0m\u001b[1;33m.\u001b[0m\u001b[0mstep\u001b[0m\u001b[1;33m(\u001b[0m\u001b[1;33m)\u001b[0m\u001b[1;33m\u001b[0m\u001b[1;33m\u001b[0m\u001b[0m\n",
      "\u001b[1;32mD:\\Program Files\\Python375\\lib\\site-packages\\torch\\optim\\optimizer.py\u001b[0m in \u001b[0;36mzero_grad\u001b[1;34m(self)\u001b[0m\n\u001b[0;32m    163\u001b[0m                 \u001b[1;32mif\u001b[0m \u001b[0mp\u001b[0m\u001b[1;33m.\u001b[0m\u001b[0mgrad\u001b[0m \u001b[1;32mis\u001b[0m \u001b[1;32mnot\u001b[0m \u001b[1;32mNone\u001b[0m\u001b[1;33m:\u001b[0m\u001b[1;33m\u001b[0m\u001b[1;33m\u001b[0m\u001b[0m\n\u001b[0;32m    164\u001b[0m                     \u001b[0mp\u001b[0m\u001b[1;33m.\u001b[0m\u001b[0mgrad\u001b[0m\u001b[1;33m.\u001b[0m\u001b[0mdetach_\u001b[0m\u001b[1;33m(\u001b[0m\u001b[1;33m)\u001b[0m\u001b[1;33m\u001b[0m\u001b[1;33m\u001b[0m\u001b[0m\n\u001b[1;32m--> 165\u001b[1;33m                     \u001b[0mp\u001b[0m\u001b[1;33m.\u001b[0m\u001b[0mgrad\u001b[0m\u001b[1;33m.\u001b[0m\u001b[0mzero_\u001b[0m\u001b[1;33m(\u001b[0m\u001b[1;33m)\u001b[0m\u001b[1;33m\u001b[0m\u001b[1;33m\u001b[0m\u001b[0m\n\u001b[0m\u001b[0;32m    166\u001b[0m \u001b[1;33m\u001b[0m\u001b[0m\n\u001b[0;32m    167\u001b[0m     \u001b[1;32mdef\u001b[0m \u001b[0mstep\u001b[0m\u001b[1;33m(\u001b[0m\u001b[0mself\u001b[0m\u001b[1;33m,\u001b[0m \u001b[0mclosure\u001b[0m\u001b[1;33m)\u001b[0m\u001b[1;33m:\u001b[0m\u001b[1;33m\u001b[0m\u001b[1;33m\u001b[0m\u001b[0m\n",
      "\u001b[1;31mKeyboardInterrupt\u001b[0m: "
     ]
    }
   ],
   "source": [
    "import torch.optim as optim\n",
    "import torch.nn as nn\n",
    "\n",
    "model = nn.Sequential(\n",
    "    nn.Linear(3072, 512),\n",
    "    nn.Tanh(),\n",
    "    nn.Linear(512, 2),\n",
    "    nn.LogSoftmax(dim=1)\n",
    ")\n",
    "\n",
    "learning_rate = 1e-2\n",
    "\n",
    "optimizer = optim.SGD(model.parameters(), lr=learning_rate)\n",
    "\n",
    "loss_fn = nn.NLLLoss()\n",
    "\n",
    "n_epochs = 100\n",
    "\n",
    "for epoch in range(n_epochs):\n",
    "    for img, label in cifar2:\n",
    "        out = model(img.view(-1).unsqueeze(0))\n",
    "        loss = loss_fn(out, torch.tensor([label]))\n",
    "\n",
    "        optimizer.zero_grad()\n",
    "        loss.backward()\n",
    "        optimizer.step()\n",
    "    \n",
    "    # print the loss for the last image\n",
    "    print('Epoch: {}, Loss: {:.4f}'.format(epoch, float(loss)))"
   ]
  },
  {
   "cell_type": "code",
   "execution_count": 106,
   "metadata": {},
   "outputs": [
    {
     "output_type": "stream",
     "name": "stdout",
     "text": [
      "Epoch: 0, Loss: 0.6243\n",
      "Epoch: 1, Loss: 0.6659\n",
      "Epoch: 2, Loss: 0.2755\n"
     ]
    },
    {
     "output_type": "error",
     "ename": "KeyboardInterrupt",
     "evalue": "",
     "traceback": [
      "\u001b[1;31m---------------------------------------------------------------------------\u001b[0m",
      "\u001b[1;31mKeyboardInterrupt\u001b[0m                         Traceback (most recent call last)",
      "\u001b[1;32m<ipython-input-106-e709d03fd395>\u001b[0m in \u001b[0;36m<module>\u001b[1;34m\u001b[0m\n\u001b[0;32m     24\u001b[0m \u001b[1;33m\u001b[0m\u001b[0m\n\u001b[0;32m     25\u001b[0m         \u001b[0moptimizer\u001b[0m\u001b[1;33m.\u001b[0m\u001b[0mzero_grad\u001b[0m\u001b[1;33m(\u001b[0m\u001b[1;33m)\u001b[0m\u001b[1;33m\u001b[0m\u001b[1;33m\u001b[0m\u001b[0m\n\u001b[1;32m---> 26\u001b[1;33m         \u001b[0mloss\u001b[0m\u001b[1;33m.\u001b[0m\u001b[0mbackward\u001b[0m\u001b[1;33m(\u001b[0m\u001b[1;33m)\u001b[0m\u001b[1;33m\u001b[0m\u001b[1;33m\u001b[0m\u001b[0m\n\u001b[0m\u001b[0;32m     27\u001b[0m         \u001b[0moptimizer\u001b[0m\u001b[1;33m.\u001b[0m\u001b[0mstep\u001b[0m\u001b[1;33m(\u001b[0m\u001b[1;33m)\u001b[0m\u001b[1;33m\u001b[0m\u001b[1;33m\u001b[0m\u001b[0m\n\u001b[0;32m     28\u001b[0m \u001b[1;33m\u001b[0m\u001b[0m\n",
      "\u001b[1;32mD:\\Program Files\\Python375\\lib\\site-packages\\torch\\tensor.py\u001b[0m in \u001b[0;36mbackward\u001b[1;34m(self, gradient, retain_graph, create_graph)\u001b[0m\n\u001b[0;32m    193\u001b[0m                 \u001b[0mproducts\u001b[0m\u001b[1;33m.\u001b[0m \u001b[0mDefaults\u001b[0m \u001b[0mto\u001b[0m\u001b[0;31m \u001b[0m\u001b[0;31m`\u001b[0m\u001b[0;31m`\u001b[0m\u001b[1;32mFalse\u001b[0m\u001b[0;31m`\u001b[0m\u001b[0;31m`\u001b[0m\u001b[1;33m.\u001b[0m\u001b[1;33m\u001b[0m\u001b[1;33m\u001b[0m\u001b[0m\n\u001b[0;32m    194\u001b[0m         \"\"\"\n\u001b[1;32m--> 195\u001b[1;33m         \u001b[0mtorch\u001b[0m\u001b[1;33m.\u001b[0m\u001b[0mautograd\u001b[0m\u001b[1;33m.\u001b[0m\u001b[0mbackward\u001b[0m\u001b[1;33m(\u001b[0m\u001b[0mself\u001b[0m\u001b[1;33m,\u001b[0m \u001b[0mgradient\u001b[0m\u001b[1;33m,\u001b[0m \u001b[0mretain_graph\u001b[0m\u001b[1;33m,\u001b[0m \u001b[0mcreate_graph\u001b[0m\u001b[1;33m)\u001b[0m\u001b[1;33m\u001b[0m\u001b[1;33m\u001b[0m\u001b[0m\n\u001b[0m\u001b[0;32m    196\u001b[0m \u001b[1;33m\u001b[0m\u001b[0m\n\u001b[0;32m    197\u001b[0m     \u001b[1;32mdef\u001b[0m \u001b[0mregister_hook\u001b[0m\u001b[1;33m(\u001b[0m\u001b[0mself\u001b[0m\u001b[1;33m,\u001b[0m \u001b[0mhook\u001b[0m\u001b[1;33m)\u001b[0m\u001b[1;33m:\u001b[0m\u001b[1;33m\u001b[0m\u001b[1;33m\u001b[0m\u001b[0m\n",
      "\u001b[1;32mD:\\Program Files\\Python375\\lib\\site-packages\\torch\\autograd\\__init__.py\u001b[0m in \u001b[0;36mbackward\u001b[1;34m(tensors, grad_tensors, retain_graph, create_graph, grad_variables)\u001b[0m\n\u001b[0;32m     97\u001b[0m     Variable._execution_engine.run_backward(\n\u001b[0;32m     98\u001b[0m         \u001b[0mtensors\u001b[0m\u001b[1;33m,\u001b[0m \u001b[0mgrad_tensors\u001b[0m\u001b[1;33m,\u001b[0m \u001b[0mretain_graph\u001b[0m\u001b[1;33m,\u001b[0m \u001b[0mcreate_graph\u001b[0m\u001b[1;33m,\u001b[0m\u001b[1;33m\u001b[0m\u001b[1;33m\u001b[0m\u001b[0m\n\u001b[1;32m---> 99\u001b[1;33m         allow_unreachable=True)  # allow_unreachable flag\n\u001b[0m\u001b[0;32m    100\u001b[0m \u001b[1;33m\u001b[0m\u001b[0m\n\u001b[0;32m    101\u001b[0m \u001b[1;33m\u001b[0m\u001b[0m\n",
      "\u001b[1;31mKeyboardInterrupt\u001b[0m: "
     ]
    }
   ],
   "source": [
    "train_loader = torch.utils.data.DataLoader(cifar2, batch_size=batch_size, shuffle=True)\n",
    "\n",
    "model = nn.Sequential(\n",
    "    nn.Linear(3072, 512),\n",
    "    nn.Tanh(),\n",
    "    nn.Linear(512, 2),\n",
    "    nn.LogSoftmax(dim=1)    \n",
    ")\n",
    "\n",
    "learning_rate=1e-2\n",
    "\n",
    "optimizer = optim.SGD(model.parameters(), lr=learning_rate)\n",
    "\n",
    "loss_fn = nn.NLLLoss()\n",
    "\n",
    "n_epochs = 100\n",
    "\n",
    "for epoch in range(n_epochs):\n",
    "    for imgs, labels in train_loader:\n",
    "        batch_size = imgs.shape[0]\n",
    "        outputs = model(imgs.view(batch_size, -1))\n",
    "        loss = loss_fn(outputs, labels)\n",
    "\n",
    "        optimizer.zero_grad()\n",
    "        loss.backward()\n",
    "        optimizer.step()\n",
    "    \n",
    "    # print the loss for a random batch\n",
    "    print('Epoch: {}, Loss: {:.4f}'.format(epoch, float(loss)))"
   ]
  },
  {
   "cell_type": "code",
   "execution_count": 112,
   "metadata": {},
   "outputs": [
    {
     "output_type": "stream",
     "name": "stdout",
     "text": [
      "Accuracy:  0.8175\n"
     ]
    }
   ],
   "source": [
    "val_loader = torch.utils.data.DataLoader(cifar2_val, batch_size=32, shuffle=False)\n",
    "\n",
    "correct = 0\n",
    "total = 0\n",
    "\n",
    "with torch.no_grad():\n",
    "    for imgs, labels in val_loader:\n",
    "        batch_size = imgs.shape[0]\n",
    "        outputs = model(imgs.view(batch_size, -1))\n",
    "        _, predicted = torch.max(outputs, dim=1)\n",
    "        total += labels.shape[0]\n",
    "        correct += int((predicted == labels).sum())\n",
    "\n",
    "print('Accuracy: ', correct / total)"
   ]
  },
  {
   "cell_type": "code",
   "execution_count": 113,
   "metadata": {},
   "outputs": [
    {
     "output_type": "execute_result",
     "data": {
      "text/plain": [
       "(1574402, [1572864, 512, 1024, 2])"
      ]
     },
     "metadata": {},
     "execution_count": 113
    }
   ],
   "source": [
    "numel_list = [p.numel() for p in model.parameters() if p.requires_grad==True]\n",
    "\n",
    "sum(numel_list), numel_list"
   ]
  },
  {
   "cell_type": "code",
   "execution_count": null,
   "metadata": {},
   "outputs": [],
   "source": []
  }
 ]
}