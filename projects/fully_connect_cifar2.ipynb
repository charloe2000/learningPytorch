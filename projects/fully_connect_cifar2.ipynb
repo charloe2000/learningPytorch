{
 "cells": [
  {
   "cell_type": "code",
   "execution_count": 2,
   "metadata": {},
   "outputs": [],
   "source": [
    "from torchvision import datasets\n",
    "\n",
    "data_path = '../data/ch7/'\n",
    "cifar10 = datasets.CIFAR10(data_path, train=True, download=False)\n",
    "cifar10_val = datasets.CIFAR10(data_path, train=False, download=False)"
   ]
  },
  {
   "cell_type": "code",
   "execution_count": 3,
   "metadata": {},
   "outputs": [
    {
     "output_type": "execute_result",
     "data": {
      "text/plain": [
       "(torchvision.datasets.cifar.CIFAR10,\n",
       " torchvision.datasets.vision.VisionDataset,\n",
       " torch.utils.data.dataset.Dataset,\n",
       " object)"
      ]
     },
     "metadata": {},
     "execution_count": 3
    }
   ],
   "source": [
    "type(cifar10).__mro__"
   ]
  },
  {
   "cell_type": "code",
   "execution_count": 4,
   "metadata": {},
   "outputs": [
    {
     "output_type": "execute_result",
     "data": {
      "text/plain": [
       "(50000, 10000)"
      ]
     },
     "metadata": {},
     "execution_count": 4
    }
   ],
   "source": [
    "len(cifar10), len(cifar10_val)"
   ]
  },
  {
   "cell_type": "code",
   "execution_count": 5,
   "metadata": {},
   "outputs": [
    {
     "output_type": "execute_result",
     "data": {
      "text/plain": [
       "(<PIL.Image.Image image mode=RGB size=32x32 at 0x26D5ED16108>, 1, 'automobile')"
      ]
     },
     "metadata": {},
     "execution_count": 5
    }
   ],
   "source": [
    "class_names = ['airplane', 'automobile', 'bird', 'cat', 'deer', 'frog', 'horse', 'ship', 'trcuk']\n",
    "img, label = cifar10[99]\n",
    "img, label, class_names[label]"
   ]
  },
  {
   "cell_type": "code",
   "execution_count": 6,
   "metadata": {},
   "outputs": [
    {
     "output_type": "display_data",
     "data": {
      "text/plain": "<Figure size 432x288 with 1 Axes>",
      "image/svg+xml": "<?xml version=\"1.0\" encoding=\"utf-8\" standalone=\"no\"?>\r\n<!DOCTYPE svg PUBLIC \"-//W3C//DTD SVG 1.1//EN\"\r\n  \"http://www.w3.org/Graphics/SVG/1.1/DTD/svg11.dtd\">\r\n<!-- Created with matplotlib (https://matplotlib.org/) -->\r\n<svg height=\"248.919844pt\" version=\"1.1\" viewBox=\"0 0 251.565 248.919844\" width=\"251.565pt\" xmlns=\"http://www.w3.org/2000/svg\" xmlns:xlink=\"http://www.w3.org/1999/xlink\">\r\n <defs>\r\n  <style type=\"text/css\">\r\n*{stroke-linecap:butt;stroke-linejoin:round;}\r\n  </style>\r\n </defs>\r\n <g id=\"figure_1\">\r\n  <g id=\"patch_1\">\r\n   <path d=\"M 0 248.919844 \r\nL 251.565 248.919844 \r\nL 251.565 0 \r\nL 0 0 \r\nz\r\n\" style=\"fill:none;\"/>\r\n  </g>\r\n  <g id=\"axes_1\">\r\n   <g id=\"patch_2\">\r\n    <path d=\"M 26.925 225.041719 \r\nL 244.365 225.041719 \r\nL 244.365 7.601719 \r\nL 26.925 7.601719 \r\nz\r\n\" style=\"fill:#ffffff;\"/>\r\n   </g>\r\n   <g clip-path=\"url(#p404262aca0)\">\r\n    <image height=\"218\" id=\"image0e23c82596\" transform=\"scale(1 -1)translate(0 -218)\" width=\"218\" x=\"26.925\" xlink:href=\"data:image/png;base64,\r\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\" y=\"-7.041719\"/>\r\n   </g>\r\n   <g id=\"matplotlib.axis_1\">\r\n    <g id=\"xtick_1\">\r\n     <g id=\"line2d_1\">\r\n      <defs>\r\n       <path d=\"M 0 0 \r\nL 0 3.5 \r\n\" id=\"m9ac360819f\" style=\"stroke:#000000;stroke-width:0.8;\"/>\r\n      </defs>\r\n      <g>\r\n       <use style=\"stroke:#000000;stroke-width:0.8;\" x=\"30.3225\" xlink:href=\"#m9ac360819f\" y=\"225.041719\"/>\r\n      </g>\r\n     </g>\r\n     <g id=\"text_1\">\r\n      <!-- 0 -->\r\n      <defs>\r\n       <path d=\"M 31.78125 66.40625 \r\nQ 24.171875 66.40625 20.328125 58.90625 \r\nQ 16.5 51.421875 16.5 36.375 \r\nQ 16.5 21.390625 20.328125 13.890625 \r\nQ 24.171875 6.390625 31.78125 6.390625 \r\nQ 39.453125 6.390625 43.28125 13.890625 \r\nQ 47.125 21.390625 47.125 36.375 \r\nQ 47.125 51.421875 43.28125 58.90625 \r\nQ 39.453125 66.40625 31.78125 66.40625 \r\nz\r\nM 31.78125 74.21875 \r\nQ 44.046875 74.21875 50.515625 64.515625 \r\nQ 56.984375 54.828125 56.984375 36.375 \r\nQ 56.984375 17.96875 50.515625 8.265625 \r\nQ 44.046875 -1.421875 31.78125 -1.421875 \r\nQ 19.53125 -1.421875 13.0625 8.265625 \r\nQ 6.59375 17.96875 6.59375 36.375 \r\nQ 6.59375 54.828125 13.0625 64.515625 \r\nQ 19.53125 74.21875 31.78125 74.21875 \r\nz\r\n\" id=\"DejaVuSans-48\"/>\r\n      </defs>\r\n      <g transform=\"translate(27.14125 239.640156)scale(0.1 -0.1)\">\r\n       <use xlink:href=\"#DejaVuSans-48\"/>\r\n      </g>\r\n     </g>\r\n    </g>\r\n    <g id=\"xtick_2\">\r\n     <g id=\"line2d_2\">\r\n      <g>\r\n       <use style=\"stroke:#000000;stroke-width:0.8;\" x=\"64.2975\" xlink:href=\"#m9ac360819f\" y=\"225.041719\"/>\r\n      </g>\r\n     </g>\r\n     <g id=\"text_2\">\r\n      <!-- 5 -->\r\n      <defs>\r\n       <path d=\"M 10.796875 72.90625 \r\nL 49.515625 72.90625 \r\nL 49.515625 64.59375 \r\nL 19.828125 64.59375 \r\nL 19.828125 46.734375 \r\nQ 21.96875 47.46875 24.109375 47.828125 \r\nQ 26.265625 48.1875 28.421875 48.1875 \r\nQ 40.625 48.1875 47.75 41.5 \r\nQ 54.890625 34.8125 54.890625 23.390625 \r\nQ 54.890625 11.625 47.5625 5.09375 \r\nQ 40.234375 -1.421875 26.90625 -1.421875 \r\nQ 22.3125 -1.421875 17.546875 -0.640625 \r\nQ 12.796875 0.140625 7.71875 1.703125 \r\nL 7.71875 11.625 \r\nQ 12.109375 9.234375 16.796875 8.0625 \r\nQ 21.484375 6.890625 26.703125 6.890625 \r\nQ 35.15625 6.890625 40.078125 11.328125 \r\nQ 45.015625 15.765625 45.015625 23.390625 \r\nQ 45.015625 31 40.078125 35.4375 \r\nQ 35.15625 39.890625 26.703125 39.890625 \r\nQ 22.75 39.890625 18.8125 39.015625 \r\nQ 14.890625 38.140625 10.796875 36.28125 \r\nz\r\n\" id=\"DejaVuSans-53\"/>\r\n      </defs>\r\n      <g transform=\"translate(61.11625 239.640156)scale(0.1 -0.1)\">\r\n       <use xlink:href=\"#DejaVuSans-53\"/>\r\n      </g>\r\n     </g>\r\n    </g>\r\n    <g id=\"xtick_3\">\r\n     <g id=\"line2d_3\">\r\n      <g>\r\n       <use style=\"stroke:#000000;stroke-width:0.8;\" x=\"98.2725\" xlink:href=\"#m9ac360819f\" y=\"225.041719\"/>\r\n      </g>\r\n     </g>\r\n     <g id=\"text_3\">\r\n      <!-- 10 -->\r\n      <defs>\r\n       <path d=\"M 12.40625 8.296875 \r\nL 28.515625 8.296875 \r\nL 28.515625 63.921875 \r\nL 10.984375 60.40625 \r\nL 10.984375 69.390625 \r\nL 28.421875 72.90625 \r\nL 38.28125 72.90625 \r\nL 38.28125 8.296875 \r\nL 54.390625 8.296875 \r\nL 54.390625 0 \r\nL 12.40625 0 \r\nz\r\n\" id=\"DejaVuSans-49\"/>\r\n      </defs>\r\n      <g transform=\"translate(91.91 239.640156)scale(0.1 -0.1)\">\r\n       <use xlink:href=\"#DejaVuSans-49\"/>\r\n       <use x=\"63.623047\" xlink:href=\"#DejaVuSans-48\"/>\r\n      </g>\r\n     </g>\r\n    </g>\r\n    <g id=\"xtick_4\">\r\n     <g id=\"line2d_4\">\r\n      <g>\r\n       <use style=\"stroke:#000000;stroke-width:0.8;\" x=\"132.2475\" xlink:href=\"#m9ac360819f\" y=\"225.041719\"/>\r\n      </g>\r\n     </g>\r\n     <g id=\"text_4\">\r\n      <!-- 15 -->\r\n      <g transform=\"translate(125.885 239.640156)scale(0.1 -0.1)\">\r\n       <use xlink:href=\"#DejaVuSans-49\"/>\r\n       <use x=\"63.623047\" xlink:href=\"#DejaVuSans-53\"/>\r\n      </g>\r\n     </g>\r\n    </g>\r\n    <g id=\"xtick_5\">\r\n     <g id=\"line2d_5\">\r\n      <g>\r\n       <use style=\"stroke:#000000;stroke-width:0.8;\" x=\"166.2225\" xlink:href=\"#m9ac360819f\" y=\"225.041719\"/>\r\n      </g>\r\n     </g>\r\n     <g id=\"text_5\">\r\n      <!-- 20 -->\r\n      <defs>\r\n       <path d=\"M 19.1875 8.296875 \r\nL 53.609375 8.296875 \r\nL 53.609375 0 \r\nL 7.328125 0 \r\nL 7.328125 8.296875 \r\nQ 12.9375 14.109375 22.625 23.890625 \r\nQ 32.328125 33.6875 34.8125 36.53125 \r\nQ 39.546875 41.84375 41.421875 45.53125 \r\nQ 43.3125 49.21875 43.3125 52.78125 \r\nQ 43.3125 58.59375 39.234375 62.25 \r\nQ 35.15625 65.921875 28.609375 65.921875 \r\nQ 23.96875 65.921875 18.8125 64.3125 \r\nQ 13.671875 62.703125 7.8125 59.421875 \r\nL 7.8125 69.390625 \r\nQ 13.765625 71.78125 18.9375 73 \r\nQ 24.125 74.21875 28.421875 74.21875 \r\nQ 39.75 74.21875 46.484375 68.546875 \r\nQ 53.21875 62.890625 53.21875 53.421875 \r\nQ 53.21875 48.921875 51.53125 44.890625 \r\nQ 49.859375 40.875 45.40625 35.40625 \r\nQ 44.1875 33.984375 37.640625 27.21875 \r\nQ 31.109375 20.453125 19.1875 8.296875 \r\nz\r\n\" id=\"DejaVuSans-50\"/>\r\n      </defs>\r\n      <g transform=\"translate(159.86 239.640156)scale(0.1 -0.1)\">\r\n       <use xlink:href=\"#DejaVuSans-50\"/>\r\n       <use x=\"63.623047\" xlink:href=\"#DejaVuSans-48\"/>\r\n      </g>\r\n     </g>\r\n    </g>\r\n    <g id=\"xtick_6\">\r\n     <g id=\"line2d_6\">\r\n      <g>\r\n       <use style=\"stroke:#000000;stroke-width:0.8;\" x=\"200.1975\" xlink:href=\"#m9ac360819f\" y=\"225.041719\"/>\r\n      </g>\r\n     </g>\r\n     <g id=\"text_6\">\r\n      <!-- 25 -->\r\n      <g transform=\"translate(193.835 239.640156)scale(0.1 -0.1)\">\r\n       <use xlink:href=\"#DejaVuSans-50\"/>\r\n       <use x=\"63.623047\" xlink:href=\"#DejaVuSans-53\"/>\r\n      </g>\r\n     </g>\r\n    </g>\r\n    <g id=\"xtick_7\">\r\n     <g id=\"line2d_7\">\r\n      <g>\r\n       <use style=\"stroke:#000000;stroke-width:0.8;\" x=\"234.1725\" xlink:href=\"#m9ac360819f\" y=\"225.041719\"/>\r\n      </g>\r\n     </g>\r\n     <g id=\"text_7\">\r\n      <!-- 30 -->\r\n      <defs>\r\n       <path d=\"M 40.578125 39.3125 \r\nQ 47.65625 37.796875 51.625 33 \r\nQ 55.609375 28.21875 55.609375 21.1875 \r\nQ 55.609375 10.40625 48.1875 4.484375 \r\nQ 40.765625 -1.421875 27.09375 -1.421875 \r\nQ 22.515625 -1.421875 17.65625 -0.515625 \r\nQ 12.796875 0.390625 7.625 2.203125 \r\nL 7.625 11.71875 \r\nQ 11.71875 9.328125 16.59375 8.109375 \r\nQ 21.484375 6.890625 26.8125 6.890625 \r\nQ 36.078125 6.890625 40.9375 10.546875 \r\nQ 45.796875 14.203125 45.796875 21.1875 \r\nQ 45.796875 27.640625 41.28125 31.265625 \r\nQ 36.765625 34.90625 28.71875 34.90625 \r\nL 20.21875 34.90625 \r\nL 20.21875 43.015625 \r\nL 29.109375 43.015625 \r\nQ 36.375 43.015625 40.234375 45.921875 \r\nQ 44.09375 48.828125 44.09375 54.296875 \r\nQ 44.09375 59.90625 40.109375 62.90625 \r\nQ 36.140625 65.921875 28.71875 65.921875 \r\nQ 24.65625 65.921875 20.015625 65.03125 \r\nQ 15.375 64.15625 9.8125 62.3125 \r\nL 9.8125 71.09375 \r\nQ 15.4375 72.65625 20.34375 73.4375 \r\nQ 25.25 74.21875 29.59375 74.21875 \r\nQ 40.828125 74.21875 47.359375 69.109375 \r\nQ 53.90625 64.015625 53.90625 55.328125 \r\nQ 53.90625 49.265625 50.4375 45.09375 \r\nQ 46.96875 40.921875 40.578125 39.3125 \r\nz\r\n\" id=\"DejaVuSans-51\"/>\r\n      </defs>\r\n      <g transform=\"translate(227.81 239.640156)scale(0.1 -0.1)\">\r\n       <use xlink:href=\"#DejaVuSans-51\"/>\r\n       <use x=\"63.623047\" xlink:href=\"#DejaVuSans-48\"/>\r\n      </g>\r\n     </g>\r\n    </g>\r\n   </g>\r\n   <g id=\"matplotlib.axis_2\">\r\n    <g id=\"ytick_1\">\r\n     <g id=\"line2d_8\">\r\n      <defs>\r\n       <path d=\"M 0 0 \r\nL -3.5 0 \r\n\" id=\"m1c42958d18\" style=\"stroke:#000000;stroke-width:0.8;\"/>\r\n      </defs>\r\n      <g>\r\n       <use style=\"stroke:#000000;stroke-width:0.8;\" x=\"26.925\" xlink:href=\"#m1c42958d18\" y=\"10.999219\"/>\r\n      </g>\r\n     </g>\r\n     <g id=\"text_8\">\r\n      <!-- 0 -->\r\n      <g transform=\"translate(13.5625 14.798437)scale(0.1 -0.1)\">\r\n       <use xlink:href=\"#DejaVuSans-48\"/>\r\n      </g>\r\n     </g>\r\n    </g>\r\n    <g id=\"ytick_2\">\r\n     <g id=\"line2d_9\">\r\n      <g>\r\n       <use style=\"stroke:#000000;stroke-width:0.8;\" x=\"26.925\" xlink:href=\"#m1c42958d18\" y=\"44.974219\"/>\r\n      </g>\r\n     </g>\r\n     <g id=\"text_9\">\r\n      <!-- 5 -->\r\n      <g transform=\"translate(13.5625 48.773437)scale(0.1 -0.1)\">\r\n       <use xlink:href=\"#DejaVuSans-53\"/>\r\n      </g>\r\n     </g>\r\n    </g>\r\n    <g id=\"ytick_3\">\r\n     <g id=\"line2d_10\">\r\n      <g>\r\n       <use style=\"stroke:#000000;stroke-width:0.8;\" x=\"26.925\" xlink:href=\"#m1c42958d18\" y=\"78.949219\"/>\r\n      </g>\r\n     </g>\r\n     <g id=\"text_10\">\r\n      <!-- 10 -->\r\n      <g transform=\"translate(7.2 82.748437)scale(0.1 -0.1)\">\r\n       <use xlink:href=\"#DejaVuSans-49\"/>\r\n       <use x=\"63.623047\" xlink:href=\"#DejaVuSans-48\"/>\r\n      </g>\r\n     </g>\r\n    </g>\r\n    <g id=\"ytick_4\">\r\n     <g id=\"line2d_11\">\r\n      <g>\r\n       <use style=\"stroke:#000000;stroke-width:0.8;\" x=\"26.925\" xlink:href=\"#m1c42958d18\" y=\"112.924219\"/>\r\n      </g>\r\n     </g>\r\n     <g id=\"text_11\">\r\n      <!-- 15 -->\r\n      <g transform=\"translate(7.2 116.723437)scale(0.1 -0.1)\">\r\n       <use xlink:href=\"#DejaVuSans-49\"/>\r\n       <use x=\"63.623047\" xlink:href=\"#DejaVuSans-53\"/>\r\n      </g>\r\n     </g>\r\n    </g>\r\n    <g id=\"ytick_5\">\r\n     <g id=\"line2d_12\">\r\n      <g>\r\n       <use style=\"stroke:#000000;stroke-width:0.8;\" x=\"26.925\" xlink:href=\"#m1c42958d18\" y=\"146.899219\"/>\r\n      </g>\r\n     </g>\r\n     <g id=\"text_12\">\r\n      <!-- 20 -->\r\n      <g transform=\"translate(7.2 150.698437)scale(0.1 -0.1)\">\r\n       <use xlink:href=\"#DejaVuSans-50\"/>\r\n       <use x=\"63.623047\" xlink:href=\"#DejaVuSans-48\"/>\r\n      </g>\r\n     </g>\r\n    </g>\r\n    <g id=\"ytick_6\">\r\n     <g id=\"line2d_13\">\r\n      <g>\r\n       <use style=\"stroke:#000000;stroke-width:0.8;\" x=\"26.925\" xlink:href=\"#m1c42958d18\" y=\"180.874219\"/>\r\n      </g>\r\n     </g>\r\n     <g id=\"text_13\">\r\n      <!-- 25 -->\r\n      <g transform=\"translate(7.2 184.673437)scale(0.1 -0.1)\">\r\n       <use xlink:href=\"#DejaVuSans-50\"/>\r\n       <use x=\"63.623047\" xlink:href=\"#DejaVuSans-53\"/>\r\n      </g>\r\n     </g>\r\n    </g>\r\n    <g id=\"ytick_7\">\r\n     <g id=\"line2d_14\">\r\n      <g>\r\n       <use style=\"stroke:#000000;stroke-width:0.8;\" x=\"26.925\" xlink:href=\"#m1c42958d18\" y=\"214.849219\"/>\r\n      </g>\r\n     </g>\r\n     <g id=\"text_14\">\r\n      <!-- 30 -->\r\n      <g transform=\"translate(7.2 218.648437)scale(0.1 -0.1)\">\r\n       <use xlink:href=\"#DejaVuSans-51\"/>\r\n       <use x=\"63.623047\" xlink:href=\"#DejaVuSans-48\"/>\r\n      </g>\r\n     </g>\r\n    </g>\r\n   </g>\r\n   <g id=\"patch_3\">\r\n    <path d=\"M 26.925 225.041719 \r\nL 26.925 7.601719 \r\n\" style=\"fill:none;stroke:#000000;stroke-linecap:square;stroke-linejoin:miter;stroke-width:0.8;\"/>\r\n   </g>\r\n   <g id=\"patch_4\">\r\n    <path d=\"M 244.365 225.041719 \r\nL 244.365 7.601719 \r\n\" style=\"fill:none;stroke:#000000;stroke-linecap:square;stroke-linejoin:miter;stroke-width:0.8;\"/>\r\n   </g>\r\n   <g id=\"patch_5\">\r\n    <path d=\"M 26.925 225.041719 \r\nL 244.365 225.041719 \r\n\" style=\"fill:none;stroke:#000000;stroke-linecap:square;stroke-linejoin:miter;stroke-width:0.8;\"/>\r\n   </g>\r\n   <g id=\"patch_6\">\r\n    <path d=\"M 26.925 7.601719 \r\nL 244.365 7.601719 \r\n\" style=\"fill:none;stroke:#000000;stroke-linecap:square;stroke-linejoin:miter;stroke-width:0.8;\"/>\r\n   </g>\r\n  </g>\r\n </g>\r\n <defs>\r\n  <clipPath id=\"p404262aca0\">\r\n   <rect height=\"217.44\" width=\"217.44\" x=\"26.925\" y=\"7.601719\"/>\r\n  </clipPath>\r\n </defs>\r\n</svg>\r\n",
      "image/png": "[encoded data removed]"
     },
     "metadata": {
      "needs_background": "light"
     }
    }
   ],
   "source": [
    "from matplotlib import pyplot as plt \n",
    "\n",
    "plt.imshow(img)\n",
    "plt.show()"
   ]
  },
  {
   "cell_type": "code",
   "execution_count": 13,
   "metadata": {},
   "outputs": [],
   "source": [
    "import torchvision.transforms as transforms\n",
    "import torch\n",
    "\n",
    "tensor_cifar10 = datasets.CIFAR10(data_path, train=True, download=False, transform\n",
    "=transforms.ToTensor())\n",
    "\n",
    "imgs = torch.stack([img_t for img_t, _ in tensor_cifar10], dim=3)"
   ]
  },
  {
   "cell_type": "code",
   "execution_count": 14,
   "metadata": {},
   "outputs": [
    {
     "output_type": "execute_result",
     "data": {
      "text/plain": [
       "torch.Size([3, 32, 32, 50000])"
      ]
     },
     "metadata": {},
     "execution_count": 14
    }
   ],
   "source": [
    "imgs.shape"
   ]
  },
  {
   "cell_type": "code",
   "execution_count": 19,
   "metadata": {},
   "outputs": [
    {
     "output_type": "execute_result",
     "data": {
      "text/plain": [
       "(tensor([0.4915, 0.4823, 0.4468]), tensor([0.2470, 0.2435, 0.2616]))"
      ]
     },
     "metadata": {},
     "execution_count": 19
    }
   ],
   "source": [
    "imgs.view(3, -1).mean(dim=1), imgs.view(3, -1).std(dim=1)"
   ]
  },
  {
   "cell_type": "code",
   "execution_count": 20,
   "metadata": {},
   "outputs": [],
   "source": [
    "transformd_cifar10 = datasets.CIFAR10(data_path, train=True, download=False, transform=transforms.Compose([\n",
    "    transforms.ToTensor(),\n",
    "    transforms.Normalize((0.4915, 0.4823, 0.4468), (0.2470, 0.2435, 0.2616))\n",
    "]))"
   ]
  },
  {
   "cell_type": "code",
   "execution_count": 21,
   "metadata": {},
   "outputs": [
    {
     "output_type": "execute_result",
     "data": {
      "text/plain": [
       "(tensor([0.4943, 0.4852, 0.4506]), tensor([0.2467, 0.2429, 0.2616]))"
      ]
     },
     "metadata": {},
     "execution_count": 21
    }
   ],
   "source": [
    "tensor_cifar10_val = datasets.CIFAR10(data_path, train=False, download=False, transform\n",
    "=transforms.ToTensor())\n",
    "\n",
    "imgs = torch.stack([img_t for img_t, _ in tensor_cifar10_val], dim=3)\n",
    "\n",
    "imgs.view(3, -1).mean(dim=1), imgs.view(3, -1).std(dim=1)"
   ]
  },
  {
   "cell_type": "code",
   "execution_count": 22,
   "metadata": {},
   "outputs": [],
   "source": [
    "transformd_cifar10_val = datasets.CIFAR10(data_path, train=True, download=False, transform=transforms.Compose([\n",
    "    transforms.ToTensor(),\n",
    "    transforms.Normalize((0.4943, 0.4852, 0.4506), (0.2467, 0.2429, 0.2616))\n",
    "]))"
   ]
  },
  {
   "cell_type": "code",
   "execution_count": null,
   "metadata": {},
   "outputs": [],
   "source": [
    "img_n, _ = tra"
   ]
  },
  {
   "cell_type": "code",
   "execution_count": 23,
   "metadata": {},
   "outputs": [],
   "source": [
    "label_map = {0:0, 2:1}\n",
    "class_names = ['airplane', 'bird']\n",
    "cifar2 = [(img, label_map[label]) for img, label in transformd_cifar10 if label in [0, 2]]\n",
    "cifar2_val = [(img, label_map[label]) for img, label in transformd_cifar10_val if label in [0, 2]]"
   ]
  },
  {
   "cell_type": "code",
   "execution_count": 26,
   "metadata": {},
   "outputs": [],
   "source": [
    "train_loader = torch.utils.data.DataLoader(cifar2, batch_size=32, shuffle=True)\n",
    "val_loader = torch.utils.data.DataLoader(cifar2_val, batch_size=32, shuffle=False)"
   ]
  },
  {
   "cell_type": "code",
   "execution_count": 29,
   "metadata": {},
   "outputs": [
    {
     "output_type": "stream",
     "name": "stderr",
     "text": [
      "Clipping input data to the valid range for imshow with RGB data ([0..1] for floats or [0..255] for integers).\n"
     ]
    },
    {
     "output_type": "display_data",
     "data": {
      "text/plain": "<Figure size 432x288 with 1 Axes>",
      "image/svg+xml": "<?xml version=\"1.0\" encoding=\"utf-8\" standalone=\"no\"?>\r\n<!DOCTYPE svg PUBLIC \"-//W3C//DTD SVG 1.1//EN\"\r\n  \"http://www.w3.org/Graphics/SVG/1.1/DTD/svg11.dtd\">\r\n<!-- Created with matplotlib (https://matplotlib.org/) -->\r\n<svg height=\"248.919844pt\" version=\"1.1\" viewBox=\"0 0 251.565 248.919844\" width=\"251.565pt\" xmlns=\"http://www.w3.org/2000/svg\" xmlns:xlink=\"http://www.w3.org/1999/xlink\">\r\n <defs>\r\n  <style type=\"text/css\">\r\n*{stroke-linecap:butt;stroke-linejoin:round;}\r\n  </style>\r\n </defs>\r\n <g id=\"figure_1\">\r\n  <g id=\"patch_1\">\r\n   <path d=\"M 0 248.919844 \r\nL 251.565 248.919844 \r\nL 251.565 0 \r\nL 0 0 \r\nz\r\n\" style=\"fill:none;\"/>\r\n  </g>\r\n  <g id=\"axes_1\">\r\n   <g id=\"patch_2\">\r\n    <path d=\"M 26.925 225.041719 \r\nL 244.365 225.041719 \r\nL 244.365 7.601719 \r\nL 26.925 7.601719 \r\nz\r\n\" style=\"fill:#ffffff;\"/>\r\n   </g>\r\n   <g clip-path=\"url(#pbddf2b0fd0)\">\r\n    <image height=\"218\" id=\"image2cca6602f9\" transform=\"scale(1 -1)translate(0 -218)\" width=\"218\" x=\"26.925\" xlink:href=\"data:image/png;base64,\r\niVBORw0KGgoAAAANSUhEUgAAANoAAADaCAYAAADAHVzbAAAABHNCSVQICAgIfAhkiAAABrtJREFUeJzt3W/IXnUdx/FzxY0s++ffmm7WQDLv4h5OChEbIoSxKCb1wP5ADBbYkwxSCgqRJOiRkJSQ5AZa1oSyLRcKe1ChESERttG/RctSU1i2ysTFjXcPehDE9f3Srvtcn91zr9fD8+Vc57ex9w78rsO5JiuPf2plKDx9795qNLz/9t9PPf7T8oysKzZeV84uW9pczu566LZ5LIeXiXOa2e4v1r28YvylAP9LaBAgNAgQGgQIDQKEBgGTZz/6qnJ7/7P3/rM8cddcljOeh7+8p5wd+t6D5ezmA/eNvpbXFsf/PvqVmLe3NLNN6+qZOxoECA0ChAYBQoMAoUGA0CBg4eDBegv/yebE6inm51a1nPF87RMfLGcLwXUMwzD8LXw9/mtHM7tnhs9b38yOvVjP3NEgQGgQIDQIEBoECA0CFp75cz3c1pz48MgLmYz8ed8Z+fM4NV0w8uf9aMbz3NEgQGgQIDQIEBoECA0ChAYBk68OQ/nOkBuCC+ke8Nwx8rW6/11emvEzH29m9QvImbc/NrM3jXytM5uZOxoECA0ChAYBQoMAoUGA0CBgsnd9vb1/1jP1iVfPYzWFsZ/sn4fyL5E1a5Z/Vx/ZUv+S7NLShnLmjgYBQoMAoUGA0CBAaBAgNAiYfKnZmT7WnHjrHBYzixeK44eac7pXgl++irVwaqlfGj8M9498LXc0CBAaBAgNAoQGAUKDAKFBwGR7s72/3Jy4fw6LgbXisuJ49xKmjjsaBAgNAoQGAUKDAKFBgNAgYLKz2d6/qDnx0uL49atbT8bCO+rZ8mO5dXDacEeDAKFBgNAgQGgQIDQImFzY7Dqe35z4fHH8d6tbT0jz1pDF5ndOr7mmnl30hnp25Knpxx/YU59zdG89a72xmT1bHD8+47VOBa+rR+uvrGc3vW/68cPVv/xhGA7/thy5o0GA0CBAaBAgNAgQGgQIDQImw8g/VnlVM3t0zAuRsX5rPVtsXqC+2HzNcHbxVchfq68fhmF4ZfOVzLb3Nue9up6d9/p6Vl3u4nX1Oc3XJO5oECA0CBAaBAgNAoQGAUKDgNG392e1JhYxDMPHm9ldsVUMQ7PxXD6D/x/d75l2L3lnntzRIEBoECA0CBAaBAgNAoQGAWtme78z9gJ/2czeNvK1Ol/Z+tZytvBIvcruHUGXfP+J5orVk+zFy4OGYZicubn5vNo5G+vZjcvTn96/tXvB0TfurGeXvPP/XNUJuPZD048faF6o1HBHgwChQYDQIEBoECA0CBAaBJwS2/uz6P5Qm5pZtzk+tpWnm/e43/yZcnTpN+ut7t8019tfHP9uc86LzexbzeylZnZhsfW/+1h9zrsXm+80yl+CGIbhzRfXsyN/qWc/OdBc78S5o0GA0CBAaBAgNAgQGgS8bHcd15KVlRn+iu/5YTma7Kh34M5oPvL43TunHr/lY7vKc77QfN4Td99Wzm68r374dt8Puse6T1z3fpWzm1m3Qzs2dzQIEBoECA0ChAYBQoMAoUGA7f2APft/MfX4od31S8Y//0D94PBNzbVub2YPnjf9+HVHm5Ma25c2lLN9B+v3kJyO3NEgQGgQIDQIEBoECA0ChAYBtvdPom83sw9sqWf3/7yeXb/t3HI2eah5RwZz5Y4GAUKDAKFBgNAgQGgQIDQIsL0fUL3g5nM//mR5zrlX3VHOnlvleshzR4MAoUGA0CBAaBAgNAgQGgTY3j+JtjezfbFVkOCOBgFCgwChQYDQIEBoEGDXEQLc0SBAaBAgNAgQGgQIDQKEBgFCgwChQYDQIEBoECA0CBAaBAgNAoQGAUKDAKFBgNAgQGgQIDQIEBoECA0ChAYBQoMAoUGA0CBAaBAgNAgQGgQIDQKEBgFCgwChQYDQIEBoECA0CBAaBAgNAoQGAUKDAKFBgNAgQGgQIDQIEBoECA0ChAYBQoMAoUGA0CBAaBAgNAgQGgQIDQKEBgFCgwChQYDQIEBoECA0CBAaBAgNAhZO9gJgta5YqmebFuvZoSP17Mjh6cdf6BZyrB65o0GA0CBAaBAgNAgQGgQIDQImwzCsnOxFwGrc8OF69vxZ9Wxd85mvuWD68X8s1+fsurOeuaNBgNAgQGgQIDQIEBoEeKiYuDOK44/tv6M8Z/N7Li9nb796aznbdm29jnddWc9+/afpxzedX59ztHlI2R0NAoQGAUKDAKFBgNAgQGgQYHv/NLJzacPU47sOPhVdx7+K44ef/HR5ztdvOV7OfvZIfa3lZju+ed542Fi8a2RL8w6SP/yqnrmjQYDQIEBoECA0CBAaBAgNAv4N/0jOjwc7eW8AAAAASUVORK5CYII=\" y=\"-7.041719\"/>\r\n   </g>\r\n   <g id=\"matplotlib.axis_1\">\r\n    <g id=\"xtick_1\">\r\n     <g id=\"line2d_1\">\r\n      <defs>\r\n       <path d=\"M 0 0 \r\nL 0 3.5 \r\n\" id=\"m157d6d0c1f\" style=\"stroke:#000000;stroke-width:0.8;\"/>\r\n      </defs>\r\n      <g>\r\n       <use style=\"stroke:#000000;stroke-width:0.8;\" x=\"30.3225\" xlink:href=\"#m157d6d0c1f\" y=\"225.041719\"/>\r\n      </g>\r\n     </g>\r\n     <g id=\"text_1\">\r\n      <!-- 0 -->\r\n      <defs>\r\n       <path d=\"M 31.78125 66.40625 \r\nQ 24.171875 66.40625 20.328125 58.90625 \r\nQ 16.5 51.421875 16.5 36.375 \r\nQ 16.5 21.390625 20.328125 13.890625 \r\nQ 24.171875 6.390625 31.78125 6.390625 \r\nQ 39.453125 6.390625 43.28125 13.890625 \r\nQ 47.125 21.390625 47.125 36.375 \r\nQ 47.125 51.421875 43.28125 58.90625 \r\nQ 39.453125 66.40625 31.78125 66.40625 \r\nz\r\nM 31.78125 74.21875 \r\nQ 44.046875 74.21875 50.515625 64.515625 \r\nQ 56.984375 54.828125 56.984375 36.375 \r\nQ 56.984375 17.96875 50.515625 8.265625 \r\nQ 44.046875 -1.421875 31.78125 -1.421875 \r\nQ 19.53125 -1.421875 13.0625 8.265625 \r\nQ 6.59375 17.96875 6.59375 36.375 \r\nQ 6.59375 54.828125 13.0625 64.515625 \r\nQ 19.53125 74.21875 31.78125 74.21875 \r\nz\r\n\" id=\"DejaVuSans-48\"/>\r\n      </defs>\r\n      <g transform=\"translate(27.14125 239.640156)scale(0.1 -0.1)\">\r\n       <use xlink:href=\"#DejaVuSans-48\"/>\r\n      </g>\r\n     </g>\r\n    </g>\r\n    <g id=\"xtick_2\">\r\n     <g id=\"line2d_2\">\r\n      <g>\r\n       <use style=\"stroke:#000000;stroke-width:0.8;\" x=\"64.2975\" xlink:href=\"#m157d6d0c1f\" y=\"225.041719\"/>\r\n      </g>\r\n     </g>\r\n     <g id=\"text_2\">\r\n      <!-- 5 -->\r\n      <defs>\r\n       <path d=\"M 10.796875 72.90625 \r\nL 49.515625 72.90625 \r\nL 49.515625 64.59375 \r\nL 19.828125 64.59375 \r\nL 19.828125 46.734375 \r\nQ 21.96875 47.46875 24.109375 47.828125 \r\nQ 26.265625 48.1875 28.421875 48.1875 \r\nQ 40.625 48.1875 47.75 41.5 \r\nQ 54.890625 34.8125 54.890625 23.390625 \r\nQ 54.890625 11.625 47.5625 5.09375 \r\nQ 40.234375 -1.421875 26.90625 -1.421875 \r\nQ 22.3125 -1.421875 17.546875 -0.640625 \r\nQ 12.796875 0.140625 7.71875 1.703125 \r\nL 7.71875 11.625 \r\nQ 12.109375 9.234375 16.796875 8.0625 \r\nQ 21.484375 6.890625 26.703125 6.890625 \r\nQ 35.15625 6.890625 40.078125 11.328125 \r\nQ 45.015625 15.765625 45.015625 23.390625 \r\nQ 45.015625 31 40.078125 35.4375 \r\nQ 35.15625 39.890625 26.703125 39.890625 \r\nQ 22.75 39.890625 18.8125 39.015625 \r\nQ 14.890625 38.140625 10.796875 36.28125 \r\nz\r\n\" id=\"DejaVuSans-53\"/>\r\n      </defs>\r\n      <g transform=\"translate(61.11625 239.640156)scale(0.1 -0.1)\">\r\n       <use xlink:href=\"#DejaVuSans-53\"/>\r\n      </g>\r\n     </g>\r\n    </g>\r\n    <g id=\"xtick_3\">\r\n     <g id=\"line2d_3\">\r\n      <g>\r\n       <use style=\"stroke:#000000;stroke-width:0.8;\" x=\"98.2725\" xlink:href=\"#m157d6d0c1f\" y=\"225.041719\"/>\r\n      </g>\r\n     </g>\r\n     <g id=\"text_3\">\r\n      <!-- 10 -->\r\n      <defs>\r\n       <path d=\"M 12.40625 8.296875 \r\nL 28.515625 8.296875 \r\nL 28.515625 63.921875 \r\nL 10.984375 60.40625 \r\nL 10.984375 69.390625 \r\nL 28.421875 72.90625 \r\nL 38.28125 72.90625 \r\nL 38.28125 8.296875 \r\nL 54.390625 8.296875 \r\nL 54.390625 0 \r\nL 12.40625 0 \r\nz\r\n\" id=\"DejaVuSans-49\"/>\r\n      </defs>\r\n      <g transform=\"translate(91.91 239.640156)scale(0.1 -0.1)\">\r\n       <use xlink:href=\"#DejaVuSans-49\"/>\r\n       <use x=\"63.623047\" xlink:href=\"#DejaVuSans-48\"/>\r\n      </g>\r\n     </g>\r\n    </g>\r\n    <g id=\"xtick_4\">\r\n     <g id=\"line2d_4\">\r\n      <g>\r\n       <use style=\"stroke:#000000;stroke-width:0.8;\" x=\"132.2475\" xlink:href=\"#m157d6d0c1f\" y=\"225.041719\"/>\r\n      </g>\r\n     </g>\r\n     <g id=\"text_4\">\r\n      <!-- 15 -->\r\n      <g transform=\"translate(125.885 239.640156)scale(0.1 -0.1)\">\r\n       <use xlink:href=\"#DejaVuSans-49\"/>\r\n       <use x=\"63.623047\" xlink:href=\"#DejaVuSans-53\"/>\r\n      </g>\r\n     </g>\r\n    </g>\r\n    <g id=\"xtick_5\">\r\n     <g id=\"line2d_5\">\r\n      <g>\r\n       <use style=\"stroke:#000000;stroke-width:0.8;\" x=\"166.2225\" xlink:href=\"#m157d6d0c1f\" y=\"225.041719\"/>\r\n      </g>\r\n     </g>\r\n     <g id=\"text_5\">\r\n      <!-- 20 -->\r\n      <defs>\r\n       <path d=\"M 19.1875 8.296875 \r\nL 53.609375 8.296875 \r\nL 53.609375 0 \r\nL 7.328125 0 \r\nL 7.328125 8.296875 \r\nQ 12.9375 14.109375 22.625 23.890625 \r\nQ 32.328125 33.6875 34.8125 36.53125 \r\nQ 39.546875 41.84375 41.421875 45.53125 \r\nQ 43.3125 49.21875 43.3125 52.78125 \r\nQ 43.3125 58.59375 39.234375 62.25 \r\nQ 35.15625 65.921875 28.609375 65.921875 \r\nQ 23.96875 65.921875 18.8125 64.3125 \r\nQ 13.671875 62.703125 7.8125 59.421875 \r\nL 7.8125 69.390625 \r\nQ 13.765625 71.78125 18.9375 73 \r\nQ 24.125 74.21875 28.421875 74.21875 \r\nQ 39.75 74.21875 46.484375 68.546875 \r\nQ 53.21875 62.890625 53.21875 53.421875 \r\nQ 53.21875 48.921875 51.53125 44.890625 \r\nQ 49.859375 40.875 45.40625 35.40625 \r\nQ 44.1875 33.984375 37.640625 27.21875 \r\nQ 31.109375 20.453125 19.1875 8.296875 \r\nz\r\n\" id=\"DejaVuSans-50\"/>\r\n      </defs>\r\n      <g transform=\"translate(159.86 239.640156)scale(0.1 -0.1)\">\r\n       <use xlink:href=\"#DejaVuSans-50\"/>\r\n       <use x=\"63.623047\" xlink:href=\"#DejaVuSans-48\"/>\r\n      </g>\r\n     </g>\r\n    </g>\r\n    <g id=\"xtick_6\">\r\n     <g id=\"line2d_6\">\r\n      <g>\r\n       <use style=\"stroke:#000000;stroke-width:0.8;\" x=\"200.1975\" xlink:href=\"#m157d6d0c1f\" y=\"225.041719\"/>\r\n      </g>\r\n     </g>\r\n     <g id=\"text_6\">\r\n      <!-- 25 -->\r\n      <g transform=\"translate(193.835 239.640156)scale(0.1 -0.1)\">\r\n       <use xlink:href=\"#DejaVuSans-50\"/>\r\n       <use x=\"63.623047\" xlink:href=\"#DejaVuSans-53\"/>\r\n      </g>\r\n     </g>\r\n    </g>\r\n    <g id=\"xtick_7\">\r\n     <g id=\"line2d_7\">\r\n      <g>\r\n       <use style=\"stroke:#000000;stroke-width:0.8;\" x=\"234.1725\" xlink:href=\"#m157d6d0c1f\" y=\"225.041719\"/>\r\n      </g>\r\n     </g>\r\n     <g id=\"text_7\">\r\n      <!-- 30 -->\r\n      <defs>\r\n       <path d=\"M 40.578125 39.3125 \r\nQ 47.65625 37.796875 51.625 33 \r\nQ 55.609375 28.21875 55.609375 21.1875 \r\nQ 55.609375 10.40625 48.1875 4.484375 \r\nQ 40.765625 -1.421875 27.09375 -1.421875 \r\nQ 22.515625 -1.421875 17.65625 -0.515625 \r\nQ 12.796875 0.390625 7.625 2.203125 \r\nL 7.625 11.71875 \r\nQ 11.71875 9.328125 16.59375 8.109375 \r\nQ 21.484375 6.890625 26.8125 6.890625 \r\nQ 36.078125 6.890625 40.9375 10.546875 \r\nQ 45.796875 14.203125 45.796875 21.1875 \r\nQ 45.796875 27.640625 41.28125 31.265625 \r\nQ 36.765625 34.90625 28.71875 34.90625 \r\nL 20.21875 34.90625 \r\nL 20.21875 43.015625 \r\nL 29.109375 43.015625 \r\nQ 36.375 43.015625 40.234375 45.921875 \r\nQ 44.09375 48.828125 44.09375 54.296875 \r\nQ 44.09375 59.90625 40.109375 62.90625 \r\nQ 36.140625 65.921875 28.71875 65.921875 \r\nQ 24.65625 65.921875 20.015625 65.03125 \r\nQ 15.375 64.15625 9.8125 62.3125 \r\nL 9.8125 71.09375 \r\nQ 15.4375 72.65625 20.34375 73.4375 \r\nQ 25.25 74.21875 29.59375 74.21875 \r\nQ 40.828125 74.21875 47.359375 69.109375 \r\nQ 53.90625 64.015625 53.90625 55.328125 \r\nQ 53.90625 49.265625 50.4375 45.09375 \r\nQ 46.96875 40.921875 40.578125 39.3125 \r\nz\r\n\" id=\"DejaVuSans-51\"/>\r\n      </defs>\r\n      <g transform=\"translate(227.81 239.640156)scale(0.1 -0.1)\">\r\n       <use xlink:href=\"#DejaVuSans-51\"/>\r\n       <use x=\"63.623047\" xlink:href=\"#DejaVuSans-48\"/>\r\n      </g>\r\n     </g>\r\n    </g>\r\n   </g>\r\n   <g id=\"matplotlib.axis_2\">\r\n    <g id=\"ytick_1\">\r\n     <g id=\"line2d_8\">\r\n      <defs>\r\n       <path d=\"M 0 0 \r\nL -3.5 0 \r\n\" id=\"m1013664ade\" style=\"stroke:#000000;stroke-width:0.8;\"/>\r\n      </defs>\r\n      <g>\r\n       <use style=\"stroke:#000000;stroke-width:0.8;\" x=\"26.925\" xlink:href=\"#m1013664ade\" y=\"10.999219\"/>\r\n      </g>\r\n     </g>\r\n     <g id=\"text_8\">\r\n      <!-- 0 -->\r\n      <g transform=\"translate(13.5625 14.798437)scale(0.1 -0.1)\">\r\n       <use xlink:href=\"#DejaVuSans-48\"/>\r\n      </g>\r\n     </g>\r\n    </g>\r\n    <g id=\"ytick_2\">\r\n     <g id=\"line2d_9\">\r\n      <g>\r\n       <use style=\"stroke:#000000;stroke-width:0.8;\" x=\"26.925\" xlink:href=\"#m1013664ade\" y=\"44.974219\"/>\r\n      </g>\r\n     </g>\r\n     <g id=\"text_9\">\r\n      <!-- 5 -->\r\n      <g transform=\"translate(13.5625 48.773437)scale(0.1 -0.1)\">\r\n       <use xlink:href=\"#DejaVuSans-53\"/>\r\n      </g>\r\n     </g>\r\n    </g>\r\n    <g id=\"ytick_3\">\r\n     <g id=\"line2d_10\">\r\n      <g>\r\n       <use style=\"stroke:#000000;stroke-width:0.8;\" x=\"26.925\" xlink:href=\"#m1013664ade\" y=\"78.949219\"/>\r\n      </g>\r\n     </g>\r\n     <g id=\"text_10\">\r\n      <!-- 10 -->\r\n      <g transform=\"translate(7.2 82.748437)scale(0.1 -0.1)\">\r\n       <use xlink:href=\"#DejaVuSans-49\"/>\r\n       <use x=\"63.623047\" xlink:href=\"#DejaVuSans-48\"/>\r\n      </g>\r\n     </g>\r\n    </g>\r\n    <g id=\"ytick_4\">\r\n     <g id=\"line2d_11\">\r\n      <g>\r\n       <use style=\"stroke:#000000;stroke-width:0.8;\" x=\"26.925\" xlink:href=\"#m1013664ade\" y=\"112.924219\"/>\r\n      </g>\r\n     </g>\r\n     <g id=\"text_11\">\r\n      <!-- 15 -->\r\n      <g transform=\"translate(7.2 116.723437)scale(0.1 -0.1)\">\r\n       <use xlink:href=\"#DejaVuSans-49\"/>\r\n       <use x=\"63.623047\" xlink:href=\"#DejaVuSans-53\"/>\r\n      </g>\r\n     </g>\r\n    </g>\r\n    <g id=\"ytick_5\">\r\n     <g id=\"line2d_12\">\r\n      <g>\r\n       <use style=\"stroke:#000000;stroke-width:0.8;\" x=\"26.925\" xlink:href=\"#m1013664ade\" y=\"146.899219\"/>\r\n      </g>\r\n     </g>\r\n     <g id=\"text_12\">\r\n      <!-- 20 -->\r\n      <g transform=\"translate(7.2 150.698437)scale(0.1 -0.1)\">\r\n       <use xlink:href=\"#DejaVuSans-50\"/>\r\n       <use x=\"63.623047\" xlink:href=\"#DejaVuSans-48\"/>\r\n      </g>\r\n     </g>\r\n    </g>\r\n    <g id=\"ytick_6\">\r\n     <g id=\"line2d_13\">\r\n      <g>\r\n       <use style=\"stroke:#000000;stroke-width:0.8;\" x=\"26.925\" xlink:href=\"#m1013664ade\" y=\"180.874219\"/>\r\n      </g>\r\n     </g>\r\n     <g id=\"text_13\">\r\n      <!-- 25 -->\r\n      <g transform=\"translate(7.2 184.673437)scale(0.1 -0.1)\">\r\n       <use xlink:href=\"#DejaVuSans-50\"/>\r\n       <use x=\"63.623047\" xlink:href=\"#DejaVuSans-53\"/>\r\n      </g>\r\n     </g>\r\n    </g>\r\n    <g id=\"ytick_7\">\r\n     <g id=\"line2d_14\">\r\n      <g>\r\n       <use style=\"stroke:#000000;stroke-width:0.8;\" x=\"26.925\" xlink:href=\"#m1013664ade\" y=\"214.849219\"/>\r\n      </g>\r\n     </g>\r\n     <g id=\"text_14\">\r\n      <!-- 30 -->\r\n      <g transform=\"translate(7.2 218.648437)scale(0.1 -0.1)\">\r\n       <use xlink:href=\"#DejaVuSans-51\"/>\r\n       <use x=\"63.623047\" xlink:href=\"#DejaVuSans-48\"/>\r\n      </g>\r\n     </g>\r\n    </g>\r\n   </g>\r\n   <g id=\"patch_3\">\r\n    <path d=\"M 26.925 225.041719 \r\nL 26.925 7.601719 \r\n\" style=\"fill:none;stroke:#000000;stroke-linecap:square;stroke-linejoin:miter;stroke-width:0.8;\"/>\r\n   </g>\r\n   <g id=\"patch_4\">\r\n    <path d=\"M 244.365 225.041719 \r\nL 244.365 7.601719 \r\n\" style=\"fill:none;stroke:#000000;stroke-linecap:square;stroke-linejoin:miter;stroke-width:0.8;\"/>\r\n   </g>\r\n   <g id=\"patch_5\">\r\n    <path d=\"M 26.925 225.041719 \r\nL 244.365 225.041719 \r\n\" style=\"fill:none;stroke:#000000;stroke-linecap:square;stroke-linejoin:miter;stroke-width:0.8;\"/>\r\n   </g>\r\n   <g id=\"patch_6\">\r\n    <path d=\"M 26.925 7.601719 \r\nL 244.365 7.601719 \r\n\" style=\"fill:none;stroke:#000000;stroke-linecap:square;stroke-linejoin:miter;stroke-width:0.8;\"/>\r\n   </g>\r\n  </g>\r\n </g>\r\n <defs>\r\n  <clipPath id=\"pbddf2b0fd0\">\r\n   <rect height=\"217.44\" width=\"217.44\" x=\"26.925\" y=\"7.601719\"/>\r\n  </clipPath>\r\n </defs>\r\n</svg>\r\n",
      "image/png": "[encoded data removed]"
     },
     "metadata": {
      "needs_background": "light"
     }
    }
   ],
   "source": [
    "img_n, _ = transformd_cifar10[99]\n",
    "\n",
    "plt.imshow(img_n.permute(1, 2, 0))\n",
    "plt.show()"
   ]
  },
  {
   "cell_type": "code",
   "execution_count": 30,
   "metadata": {},
   "outputs": [
    {
     "output_type": "execute_result",
     "data": {
      "text/plain": [
       "tensor([[0.0900, 0.2447, 0.6652],\n",
       "        [0.0900, 0.2447, 0.6652]])"
      ]
     },
     "metadata": {},
     "execution_count": 30
    }
   ],
   "source": [
    "import torch.nn as nn\n",
    "x = torch.tensor([[1.0, 2.0, 3.0], [1.0, 2.0, 3.0]])\n",
    "softmax = nn.Softmax(dim=1)\n",
    "softmax(x)"
   ]
  },
  {
   "cell_type": "code",
   "execution_count": 31,
   "metadata": {},
   "outputs": [],
   "source": [
    "model = nn.Sequential(\n",
    "\tnn.Linear(3072, 512),\n",
    "\tnn.Tanh(),\n",
    "\tnn.Linear(512, 2),\n",
    "\tnn.LogSoftmax(dim=1)\n",
    ")\n",
    "\n",
    "loss = nn.NLLLoss()"
   ]
  },
  {
   "cell_type": "code",
   "execution_count": 33,
   "metadata": {},
   "outputs": [
    {
     "output_type": "execute_result",
     "data": {
      "text/plain": [
       "tensor(0.8974, grad_fn=<NllLossBackward>)"
      ]
     },
     "metadata": {},
     "execution_count": 33
    }
   ],
   "source": [
    "img, label = cifar2[0]\n",
    "out = model(img.view(-1).unsqueeze(0))\n",
    "loss(out, torch.tensor([label]))"
   ]
  },
  {
   "cell_type": "code",
   "execution_count": 41,
   "metadata": {},
   "outputs": [],
   "source": [
    "def validation(model, val_loader):\n",
    "    total = 0\n",
    "    correct = 0\n",
    "    \n",
    "    for imgs, labels in val_loader:\n",
    "        batch_size = imgs.shape[0]\n",
    "        outputs = model(imgs.view(batch_size, -1))\n",
    "        _, predicted = torch.max(outputs, dim=1)\n",
    "        total += labels.shape[0]\n",
    "        correct += int((predicted == labels).sum())   \n",
    "    return correct / total\n",
    "\n",
    "def train_loop(n_epochs, model, optimizer, train_loader, val_loader, loss_fn):\n",
    "    for epoch in range(n_epochs):\n",
    "        for imgs, labels in train_loader:\n",
    "            batch_size = imgs.shape[0]\n",
    "            outputs = model(imgs.view(batch_size, -1))\n",
    "            loss = loss_fn(outputs, labels)\n",
    "\n",
    "            optimizer.zero_grad()\n",
    "            loss.backward()\n",
    "            optimizer.step()\n",
    "\n",
    "        with torch.no_grad():\n",
    "            accuracy = validation(model, val_loader)\n",
    "        print('Epoch: {}, Loss: {:.6f}, Accuracy: {:.4f}'.format(epoch, loss, accuracy))"
   ]
  },
  {
   "cell_type": "code",
   "execution_count": 42,
   "metadata": {},
   "outputs": [
    {
     "output_type": "stream",
     "name": "stdout",
     "text": [
      "Epoch: 0, Loss: 0.419110, Accuracy: 0.7995\n",
      "Epoch: 1, Loss: 0.385583, Accuracy: 0.8081\n",
      "Epoch: 2, Loss: 0.431234, Accuracy: 0.8135\n",
      "Epoch: 3, Loss: 0.325677, Accuracy: 0.8333\n",
      "Epoch: 4, Loss: 0.455713, Accuracy: 0.8404\n",
      "Epoch: 5, Loss: 0.515115, Accuracy: 0.8411\n",
      "Epoch: 6, Loss: 0.285058, Accuracy: 0.8542\n",
      "Epoch: 7, Loss: 0.496891, Accuracy: 0.8470\n",
      "Epoch: 8, Loss: 0.262507, Accuracy: 0.8636\n",
      "Epoch: 9, Loss: 0.560865, Accuracy: 0.8233\n",
      "Epoch: 10, Loss: 0.378894, Accuracy: 0.8808\n",
      "Epoch: 11, Loss: 0.116605, Accuracy: 0.8714\n",
      "Epoch: 12, Loss: 0.253598, Accuracy: 0.8886\n",
      "Epoch: 13, Loss: 0.352773, Accuracy: 0.9032\n",
      "Epoch: 14, Loss: 0.197127, Accuracy: 0.9126\n",
      "Epoch: 15, Loss: 0.281614, Accuracy: 0.9097\n",
      "Epoch: 16, Loss: 0.207479, Accuracy: 0.9387\n",
      "Epoch: 17, Loss: 0.194723, Accuracy: 0.9280\n",
      "Epoch: 18, Loss: 0.194474, Accuracy: 0.9308\n",
      "Epoch: 19, Loss: 0.107297, Accuracy: 0.9446\n",
      "Epoch: 20, Loss: 0.258231, Accuracy: 0.9372\n",
      "Epoch: 21, Loss: 0.090607, Accuracy: 0.9577\n",
      "Epoch: 22, Loss: 0.126061, Accuracy: 0.9305\n",
      "Epoch: 23, Loss: 0.194698, Accuracy: 0.9705\n",
      "Epoch: 24, Loss: 0.242640, Accuracy: 0.9211\n",
      "Epoch: 25, Loss: 0.153376, Accuracy: 0.9652\n",
      "Epoch: 26, Loss: 0.163565, Accuracy: 0.9341\n",
      "Epoch: 27, Loss: 0.211934, Accuracy: 0.9808\n",
      "Epoch: 28, Loss: 0.044140, Accuracy: 0.9614\n",
      "Epoch: 29, Loss: 0.145629, Accuracy: 0.9867\n",
      "Epoch: 30, Loss: 0.169361, Accuracy: 0.9767\n",
      "Epoch: 31, Loss: 0.036302, Accuracy: 0.9849\n",
      "Epoch: 32, Loss: 0.020235, Accuracy: 0.9847\n",
      "Epoch: 33, Loss: 0.028229, Accuracy: 0.9901\n",
      "Epoch: 34, Loss: 0.038577, Accuracy: 0.9930\n",
      "Epoch: 35, Loss: 0.050684, Accuracy: 0.9904\n",
      "Epoch: 36, Loss: 0.012454, Accuracy: 0.9888\n",
      "Epoch: 37, Loss: 0.074586, Accuracy: 0.9765\n",
      "Epoch: 38, Loss: 0.025876, Accuracy: 0.9932\n",
      "Epoch: 39, Loss: 0.111702, Accuracy: 0.9218\n",
      "Epoch: 40, Loss: 0.071886, Accuracy: 0.9799\n",
      "Epoch: 41, Loss: 0.044587, Accuracy: 0.9975\n",
      "Epoch: 42, Loss: 0.153322, Accuracy: 0.9042\n",
      "Epoch: 43, Loss: 0.056952, Accuracy: 0.9912\n",
      "Epoch: 44, Loss: 0.015921, Accuracy: 0.9979\n",
      "Epoch: 45, Loss: 0.015218, Accuracy: 0.9960\n",
      "Epoch: 46, Loss: 0.014067, Accuracy: 0.9984\n",
      "Epoch: 47, Loss: 0.011624, Accuracy: 0.9979\n",
      "Epoch: 48, Loss: 0.017638, Accuracy: 0.9973\n",
      "Epoch: 49, Loss: 0.023886, Accuracy: 0.9969\n",
      "Epoch: 50, Loss: 0.038593, Accuracy: 0.9982\n",
      "Epoch: 51, Loss: 0.057674, Accuracy: 0.9960\n",
      "Epoch: 52, Loss: 0.020581, Accuracy: 0.9983\n",
      "Epoch: 53, Loss: 0.035053, Accuracy: 0.9977\n",
      "Epoch: 54, Loss: 0.019732, Accuracy: 0.9996\n",
      "Epoch: 55, Loss: 0.022672, Accuracy: 0.9994\n",
      "Epoch: 56, Loss: 0.011368, Accuracy: 0.9990\n",
      "Epoch: 57, Loss: 0.005191, Accuracy: 0.9996\n",
      "Epoch: 58, Loss: 0.012591, Accuracy: 0.9986\n",
      "Epoch: 59, Loss: 0.006691, Accuracy: 0.9999\n",
      "Epoch: 60, Loss: 0.005087, Accuracy: 0.9977\n",
      "Epoch: 61, Loss: 0.011140, Accuracy: 0.9998\n",
      "Epoch: 62, Loss: 0.005728, Accuracy: 0.9995\n",
      "Epoch: 63, Loss: 0.003456, Accuracy: 0.9994\n",
      "Epoch: 64, Loss: 0.006351, Accuracy: 0.9998\n",
      "Epoch: 65, Loss: 0.036098, Accuracy: 0.9932\n",
      "Epoch: 66, Loss: 0.006142, Accuracy: 0.9997\n",
      "Epoch: 67, Loss: 0.006588, Accuracy: 0.9998\n",
      "Epoch: 68, Loss: 0.004273, Accuracy: 0.9997\n",
      "Epoch: 69, Loss: 0.005074, Accuracy: 0.9997\n",
      "Epoch: 70, Loss: 0.076478, Accuracy: 0.9897\n",
      "Epoch: 71, Loss: 0.016765, Accuracy: 0.9996\n",
      "Epoch: 72, Loss: 0.005017, Accuracy: 0.9990\n",
      "Epoch: 73, Loss: 0.006538, Accuracy: 0.9999\n",
      "Epoch: 74, Loss: 0.006379, Accuracy: 0.9999\n",
      "Epoch: 75, Loss: 0.003626, Accuracy: 1.0000\n",
      "Epoch: 76, Loss: 0.015030, Accuracy: 0.9999\n",
      "Epoch: 77, Loss: 0.002851, Accuracy: 0.9998\n",
      "Epoch: 78, Loss: 0.009356, Accuracy: 0.9999\n",
      "Epoch: 79, Loss: 0.002873, Accuracy: 1.0000\n",
      "Epoch: 80, Loss: 0.011499, Accuracy: 0.9999\n",
      "Epoch: 81, Loss: 0.009118, Accuracy: 0.9999\n",
      "Epoch: 82, Loss: 0.007054, Accuracy: 1.0000\n",
      "Epoch: 83, Loss: 0.005193, Accuracy: 0.9999\n",
      "Epoch: 84, Loss: 0.001062, Accuracy: 0.9999\n",
      "Epoch: 85, Loss: 0.004696, Accuracy: 1.0000\n",
      "Epoch: 86, Loss: 0.004702, Accuracy: 0.9999\n",
      "Epoch: 87, Loss: 0.002431, Accuracy: 0.9999\n",
      "Epoch: 88, Loss: 0.005628, Accuracy: 0.9999\n",
      "Epoch: 89, Loss: 0.002053, Accuracy: 1.0000\n",
      "Epoch: 90, Loss: 0.004166, Accuracy: 1.0000\n",
      "Epoch: 91, Loss: 0.001642, Accuracy: 1.0000\n",
      "Epoch: 92, Loss: 0.004925, Accuracy: 0.9999\n",
      "Epoch: 93, Loss: 0.002495, Accuracy: 0.9999\n",
      "Epoch: 94, Loss: 0.007840, Accuracy: 0.9999\n",
      "Epoch: 95, Loss: 0.004485, Accuracy: 1.0000\n",
      "Epoch: 96, Loss: 0.003327, Accuracy: 1.0000\n",
      "Epoch: 97, Loss: 0.002144, Accuracy: 1.0000\n",
      "Epoch: 98, Loss: 0.007136, Accuracy: 1.0000\n",
      "Epoch: 99, Loss: 0.005762, Accuracy: 0.9999\n"
     ]
    }
   ],
   "source": [
    "import torch.optim as optim\n",
    "\n",
    "model = nn.Sequential(\n",
    "\tnn.Linear(3072, 512),\n",
    "\tnn.Tanh(),\n",
    "\tnn.Linear(512, 2),\n",
    "\tnn.LogSoftmax(dim=1)\n",
    ")\n",
    "\n",
    "loss_fn = nn.NLLLoss()\n",
    "optimizer = optim.SGD(model.parameters(), lr=1e-2)\n",
    "\n",
    "train_loop(\n",
    "    n_epochs=100,\n",
    "    model=model,\n",
    "    optimizer=optimizer,\n",
    "    train_loader=train_loader,\n",
    "    val_loader=val_loader,\n",
    "    loss_fn=loss_fn\n",
    ")"
   ]
  },
  {
   "cell_type": "code",
   "execution_count": 43,
   "metadata": {},
   "outputs": [],
   "source": [
    "torch.save(model.state_dict(), 'weights/model.pt')"
   ]
  },
  {
   "cell_type": "code",
   "execution_count": 69,
   "metadata": {},
   "outputs": [],
   "source": [
    "label_map = {0:0, 2:1}\n",
    "class_names = ['airplane', 'bird']\n",
    "origin_cifar2 = [(img, label_map[label]) for img, label in cifar10 if label in [0, 2]]\n",
    "origin_cifar2_val = [(img, label_map[label]) for img, label in cifar10_val if label in [0, 2]]"
   ]
  },
  {
   "cell_type": "code",
   "execution_count": 90,
   "metadata": {},
   "outputs": [
    {
     "output_type": "stream",
     "name": "stdout",
     "text": [
      "Label     Predicted  \nairplane  airplane   \n"
     ]
    },
    {
     "output_type": "display_data",
     "data": {
      "text/plain": "<Figure size 432x288 with 1 Axes>",
      "image/svg+xml": "<?xml version=\"1.0\" encoding=\"utf-8\" standalone=\"no\"?>\r\n<!DOCTYPE svg PUBLIC \"-//W3C//DTD SVG 1.1//EN\"\r\n  \"http://www.w3.org/Graphics/SVG/1.1/DTD/svg11.dtd\">\r\n<!-- Created with matplotlib (https://matplotlib.org/) -->\r\n<svg height=\"248.919844pt\" version=\"1.1\" viewBox=\"0 0 251.565 248.919844\" width=\"251.565pt\" xmlns=\"http://www.w3.org/2000/svg\" xmlns:xlink=\"http://www.w3.org/1999/xlink\">\r\n <defs>\r\n  <style type=\"text/css\">\r\n*{stroke-linecap:butt;stroke-linejoin:round;}\r\n  </style>\r\n </defs>\r\n <g id=\"figure_1\">\r\n  <g id=\"patch_1\">\r\n   <path d=\"M 0 248.919844 \r\nL 251.565 248.919844 \r\nL 251.565 0 \r\nL 0 0 \r\nz\r\n\" style=\"fill:none;\"/>\r\n  </g>\r\n  <g id=\"axes_1\">\r\n   <g id=\"patch_2\">\r\n    <path d=\"M 26.925 225.041719 \r\nL 244.365 225.041719 \r\nL 244.365 7.601719 \r\nL 26.925 7.601719 \r\nz\r\n\" style=\"fill:#ffffff;\"/>\r\n   </g>\r\n   <g clip-path=\"url(#p128fd7136c)\">\r\n    <image height=\"218\" id=\"image513f935e26\" transform=\"scale(1 -1)translate(0 -218)\" width=\"218\" x=\"26.925\" xlink:href=\"data:image/png;base64,\r\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\" y=\"-7.041719\"/>\r\n   </g>\r\n   <g id=\"matplotlib.axis_1\">\r\n    <g id=\"xtick_1\">\r\n     <g id=\"line2d_1\">\r\n      <defs>\r\n       <path d=\"M 0 0 \r\nL 0 3.5 \r\n\" id=\"mba18f9975f\" style=\"stroke:#000000;stroke-width:0.8;\"/>\r\n      </defs>\r\n      <g>\r\n       <use style=\"stroke:#000000;stroke-width:0.8;\" x=\"30.3225\" xlink:href=\"#mba18f9975f\" y=\"225.041719\"/>\r\n      </g>\r\n     </g>\r\n     <g id=\"text_1\">\r\n      <!-- 0 -->\r\n      <defs>\r\n       <path d=\"M 31.78125 66.40625 \r\nQ 24.171875 66.40625 20.328125 58.90625 \r\nQ 16.5 51.421875 16.5 36.375 \r\nQ 16.5 21.390625 20.328125 13.890625 \r\nQ 24.171875 6.390625 31.78125 6.390625 \r\nQ 39.453125 6.390625 43.28125 13.890625 \r\nQ 47.125 21.390625 47.125 36.375 \r\nQ 47.125 51.421875 43.28125 58.90625 \r\nQ 39.453125 66.40625 31.78125 66.40625 \r\nz\r\nM 31.78125 74.21875 \r\nQ 44.046875 74.21875 50.515625 64.515625 \r\nQ 56.984375 54.828125 56.984375 36.375 \r\nQ 56.984375 17.96875 50.515625 8.265625 \r\nQ 44.046875 -1.421875 31.78125 -1.421875 \r\nQ 19.53125 -1.421875 13.0625 8.265625 \r\nQ 6.59375 17.96875 6.59375 36.375 \r\nQ 6.59375 54.828125 13.0625 64.515625 \r\nQ 19.53125 74.21875 31.78125 74.21875 \r\nz\r\n\" id=\"DejaVuSans-48\"/>\r\n      </defs>\r\n      <g transform=\"translate(27.14125 239.640156)scale(0.1 -0.1)\">\r\n       <use xlink:href=\"#DejaVuSans-48\"/>\r\n      </g>\r\n     </g>\r\n    </g>\r\n    <g id=\"xtick_2\">\r\n     <g id=\"line2d_2\">\r\n      <g>\r\n       <use style=\"stroke:#000000;stroke-width:0.8;\" x=\"64.2975\" xlink:href=\"#mba18f9975f\" y=\"225.041719\"/>\r\n      </g>\r\n     </g>\r\n     <g id=\"text_2\">\r\n      <!-- 5 -->\r\n      <defs>\r\n       <path d=\"M 10.796875 72.90625 \r\nL 49.515625 72.90625 \r\nL 49.515625 64.59375 \r\nL 19.828125 64.59375 \r\nL 19.828125 46.734375 \r\nQ 21.96875 47.46875 24.109375 47.828125 \r\nQ 26.265625 48.1875 28.421875 48.1875 \r\nQ 40.625 48.1875 47.75 41.5 \r\nQ 54.890625 34.8125 54.890625 23.390625 \r\nQ 54.890625 11.625 47.5625 5.09375 \r\nQ 40.234375 -1.421875 26.90625 -1.421875 \r\nQ 22.3125 -1.421875 17.546875 -0.640625 \r\nQ 12.796875 0.140625 7.71875 1.703125 \r\nL 7.71875 11.625 \r\nQ 12.109375 9.234375 16.796875 8.0625 \r\nQ 21.484375 6.890625 26.703125 6.890625 \r\nQ 35.15625 6.890625 40.078125 11.328125 \r\nQ 45.015625 15.765625 45.015625 23.390625 \r\nQ 45.015625 31 40.078125 35.4375 \r\nQ 35.15625 39.890625 26.703125 39.890625 \r\nQ 22.75 39.890625 18.8125 39.015625 \r\nQ 14.890625 38.140625 10.796875 36.28125 \r\nz\r\n\" id=\"DejaVuSans-53\"/>\r\n      </defs>\r\n      <g transform=\"translate(61.11625 239.640156)scale(0.1 -0.1)\">\r\n       <use xlink:href=\"#DejaVuSans-53\"/>\r\n      </g>\r\n     </g>\r\n    </g>\r\n    <g id=\"xtick_3\">\r\n     <g id=\"line2d_3\">\r\n      <g>\r\n       <use style=\"stroke:#000000;stroke-width:0.8;\" x=\"98.2725\" xlink:href=\"#mba18f9975f\" y=\"225.041719\"/>\r\n      </g>\r\n     </g>\r\n     <g id=\"text_3\">\r\n      <!-- 10 -->\r\n      <defs>\r\n       <path d=\"M 12.40625 8.296875 \r\nL 28.515625 8.296875 \r\nL 28.515625 63.921875 \r\nL 10.984375 60.40625 \r\nL 10.984375 69.390625 \r\nL 28.421875 72.90625 \r\nL 38.28125 72.90625 \r\nL 38.28125 8.296875 \r\nL 54.390625 8.296875 \r\nL 54.390625 0 \r\nL 12.40625 0 \r\nz\r\n\" id=\"DejaVuSans-49\"/>\r\n      </defs>\r\n      <g transform=\"translate(91.91 239.640156)scale(0.1 -0.1)\">\r\n       <use xlink:href=\"#DejaVuSans-49\"/>\r\n       <use x=\"63.623047\" xlink:href=\"#DejaVuSans-48\"/>\r\n      </g>\r\n     </g>\r\n    </g>\r\n    <g id=\"xtick_4\">\r\n     <g id=\"line2d_4\">\r\n      <g>\r\n       <use style=\"stroke:#000000;stroke-width:0.8;\" x=\"132.2475\" xlink:href=\"#mba18f9975f\" y=\"225.041719\"/>\r\n      </g>\r\n     </g>\r\n     <g id=\"text_4\">\r\n      <!-- 15 -->\r\n      <g transform=\"translate(125.885 239.640156)scale(0.1 -0.1)\">\r\n       <use xlink:href=\"#DejaVuSans-49\"/>\r\n       <use x=\"63.623047\" xlink:href=\"#DejaVuSans-53\"/>\r\n      </g>\r\n     </g>\r\n    </g>\r\n    <g id=\"xtick_5\">\r\n     <g id=\"line2d_5\">\r\n      <g>\r\n       <use style=\"stroke:#000000;stroke-width:0.8;\" x=\"166.2225\" xlink:href=\"#mba18f9975f\" y=\"225.041719\"/>\r\n      </g>\r\n     </g>\r\n     <g id=\"text_5\">\r\n      <!-- 20 -->\r\n      <defs>\r\n       <path d=\"M 19.1875 8.296875 \r\nL 53.609375 8.296875 \r\nL 53.609375 0 \r\nL 7.328125 0 \r\nL 7.328125 8.296875 \r\nQ 12.9375 14.109375 22.625 23.890625 \r\nQ 32.328125 33.6875 34.8125 36.53125 \r\nQ 39.546875 41.84375 41.421875 45.53125 \r\nQ 43.3125 49.21875 43.3125 52.78125 \r\nQ 43.3125 58.59375 39.234375 62.25 \r\nQ 35.15625 65.921875 28.609375 65.921875 \r\nQ 23.96875 65.921875 18.8125 64.3125 \r\nQ 13.671875 62.703125 7.8125 59.421875 \r\nL 7.8125 69.390625 \r\nQ 13.765625 71.78125 18.9375 73 \r\nQ 24.125 74.21875 28.421875 74.21875 \r\nQ 39.75 74.21875 46.484375 68.546875 \r\nQ 53.21875 62.890625 53.21875 53.421875 \r\nQ 53.21875 48.921875 51.53125 44.890625 \r\nQ 49.859375 40.875 45.40625 35.40625 \r\nQ 44.1875 33.984375 37.640625 27.21875 \r\nQ 31.109375 20.453125 19.1875 8.296875 \r\nz\r\n\" id=\"DejaVuSans-50\"/>\r\n      </defs>\r\n      <g transform=\"translate(159.86 239.640156)scale(0.1 -0.1)\">\r\n       <use xlink:href=\"#DejaVuSans-50\"/>\r\n       <use x=\"63.623047\" xlink:href=\"#DejaVuSans-48\"/>\r\n      </g>\r\n     </g>\r\n    </g>\r\n    <g id=\"xtick_6\">\r\n     <g id=\"line2d_6\">\r\n      <g>\r\n       <use style=\"stroke:#000000;stroke-width:0.8;\" x=\"200.1975\" xlink:href=\"#mba18f9975f\" y=\"225.041719\"/>\r\n      </g>\r\n     </g>\r\n     <g id=\"text_6\">\r\n      <!-- 25 -->\r\n      <g transform=\"translate(193.835 239.640156)scale(0.1 -0.1)\">\r\n       <use xlink:href=\"#DejaVuSans-50\"/>\r\n       <use x=\"63.623047\" xlink:href=\"#DejaVuSans-53\"/>\r\n      </g>\r\n     </g>\r\n    </g>\r\n    <g id=\"xtick_7\">\r\n     <g id=\"line2d_7\">\r\n      <g>\r\n       <use style=\"stroke:#000000;stroke-width:0.8;\" x=\"234.1725\" xlink:href=\"#mba18f9975f\" y=\"225.041719\"/>\r\n      </g>\r\n     </g>\r\n     <g id=\"text_7\">\r\n      <!-- 30 -->\r\n      <defs>\r\n       <path d=\"M 40.578125 39.3125 \r\nQ 47.65625 37.796875 51.625 33 \r\nQ 55.609375 28.21875 55.609375 21.1875 \r\nQ 55.609375 10.40625 48.1875 4.484375 \r\nQ 40.765625 -1.421875 27.09375 -1.421875 \r\nQ 22.515625 -1.421875 17.65625 -0.515625 \r\nQ 12.796875 0.390625 7.625 2.203125 \r\nL 7.625 11.71875 \r\nQ 11.71875 9.328125 16.59375 8.109375 \r\nQ 21.484375 6.890625 26.8125 6.890625 \r\nQ 36.078125 6.890625 40.9375 10.546875 \r\nQ 45.796875 14.203125 45.796875 21.1875 \r\nQ 45.796875 27.640625 41.28125 31.265625 \r\nQ 36.765625 34.90625 28.71875 34.90625 \r\nL 20.21875 34.90625 \r\nL 20.21875 43.015625 \r\nL 29.109375 43.015625 \r\nQ 36.375 43.015625 40.234375 45.921875 \r\nQ 44.09375 48.828125 44.09375 54.296875 \r\nQ 44.09375 59.90625 40.109375 62.90625 \r\nQ 36.140625 65.921875 28.71875 65.921875 \r\nQ 24.65625 65.921875 20.015625 65.03125 \r\nQ 15.375 64.15625 9.8125 62.3125 \r\nL 9.8125 71.09375 \r\nQ 15.4375 72.65625 20.34375 73.4375 \r\nQ 25.25 74.21875 29.59375 74.21875 \r\nQ 40.828125 74.21875 47.359375 69.109375 \r\nQ 53.90625 64.015625 53.90625 55.328125 \r\nQ 53.90625 49.265625 50.4375 45.09375 \r\nQ 46.96875 40.921875 40.578125 39.3125 \r\nz\r\n\" id=\"DejaVuSans-51\"/>\r\n      </defs>\r\n      <g transform=\"translate(227.81 239.640156)scale(0.1 -0.1)\">\r\n       <use xlink:href=\"#DejaVuSans-51\"/>\r\n       <use x=\"63.623047\" xlink:href=\"#DejaVuSans-48\"/>\r\n      </g>\r\n     </g>\r\n    </g>\r\n   </g>\r\n   <g id=\"matplotlib.axis_2\">\r\n    <g id=\"ytick_1\">\r\n     <g id=\"line2d_8\">\r\n      <defs>\r\n       <path d=\"M 0 0 \r\nL -3.5 0 \r\n\" id=\"m8841631a1b\" style=\"stroke:#000000;stroke-width:0.8;\"/>\r\n      </defs>\r\n      <g>\r\n       <use style=\"stroke:#000000;stroke-width:0.8;\" x=\"26.925\" xlink:href=\"#m8841631a1b\" y=\"10.999219\"/>\r\n      </g>\r\n     </g>\r\n     <g id=\"text_8\">\r\n      <!-- 0 -->\r\n      <g transform=\"translate(13.5625 14.798437)scale(0.1 -0.1)\">\r\n       <use xlink:href=\"#DejaVuSans-48\"/>\r\n      </g>\r\n     </g>\r\n    </g>\r\n    <g id=\"ytick_2\">\r\n     <g id=\"line2d_9\">\r\n      <g>\r\n       <use style=\"stroke:#000000;stroke-width:0.8;\" x=\"26.925\" xlink:href=\"#m8841631a1b\" y=\"44.974219\"/>\r\n      </g>\r\n     </g>\r\n     <g id=\"text_9\">\r\n      <!-- 5 -->\r\n      <g transform=\"translate(13.5625 48.773437)scale(0.1 -0.1)\">\r\n       <use xlink:href=\"#DejaVuSans-53\"/>\r\n      </g>\r\n     </g>\r\n    </g>\r\n    <g id=\"ytick_3\">\r\n     <g id=\"line2d_10\">\r\n      <g>\r\n       <use style=\"stroke:#000000;stroke-width:0.8;\" x=\"26.925\" xlink:href=\"#m8841631a1b\" y=\"78.949219\"/>\r\n      </g>\r\n     </g>\r\n     <g id=\"text_10\">\r\n      <!-- 10 -->\r\n      <g transform=\"translate(7.2 82.748437)scale(0.1 -0.1)\">\r\n       <use xlink:href=\"#DejaVuSans-49\"/>\r\n       <use x=\"63.623047\" xlink:href=\"#DejaVuSans-48\"/>\r\n      </g>\r\n     </g>\r\n    </g>\r\n    <g id=\"ytick_4\">\r\n     <g id=\"line2d_11\">\r\n      <g>\r\n       <use style=\"stroke:#000000;stroke-width:0.8;\" x=\"26.925\" xlink:href=\"#m8841631a1b\" y=\"112.924219\"/>\r\n      </g>\r\n     </g>\r\n     <g id=\"text_11\">\r\n      <!-- 15 -->\r\n      <g transform=\"translate(7.2 116.723437)scale(0.1 -0.1)\">\r\n       <use xlink:href=\"#DejaVuSans-49\"/>\r\n       <use x=\"63.623047\" xlink:href=\"#DejaVuSans-53\"/>\r\n      </g>\r\n     </g>\r\n    </g>\r\n    <g id=\"ytick_5\">\r\n     <g id=\"line2d_12\">\r\n      <g>\r\n       <use style=\"stroke:#000000;stroke-width:0.8;\" x=\"26.925\" xlink:href=\"#m8841631a1b\" y=\"146.899219\"/>\r\n      </g>\r\n     </g>\r\n     <g id=\"text_12\">\r\n      <!-- 20 -->\r\n      <g transform=\"translate(7.2 150.698437)scale(0.1 -0.1)\">\r\n       <use xlink:href=\"#DejaVuSans-50\"/>\r\n       <use x=\"63.623047\" xlink:href=\"#DejaVuSans-48\"/>\r\n      </g>\r\n     </g>\r\n    </g>\r\n    <g id=\"ytick_6\">\r\n     <g id=\"line2d_13\">\r\n      <g>\r\n       <use style=\"stroke:#000000;stroke-width:0.8;\" x=\"26.925\" xlink:href=\"#m8841631a1b\" y=\"180.874219\"/>\r\n      </g>\r\n     </g>\r\n     <g id=\"text_13\">\r\n      <!-- 25 -->\r\n      <g transform=\"translate(7.2 184.673437)scale(0.1 -0.1)\">\r\n       <use xlink:href=\"#DejaVuSans-50\"/>\r\n       <use x=\"63.623047\" xlink:href=\"#DejaVuSans-53\"/>\r\n      </g>\r\n     </g>\r\n    </g>\r\n    <g id=\"ytick_7\">\r\n     <g id=\"line2d_14\">\r\n      <g>\r\n       <use style=\"stroke:#000000;stroke-width:0.8;\" x=\"26.925\" xlink:href=\"#m8841631a1b\" y=\"214.849219\"/>\r\n      </g>\r\n     </g>\r\n     <g id=\"text_14\">\r\n      <!-- 30 -->\r\n      <g transform=\"translate(7.2 218.648437)scale(0.1 -0.1)\">\r\n       <use xlink:href=\"#DejaVuSans-51\"/>\r\n       <use x=\"63.623047\" xlink:href=\"#DejaVuSans-48\"/>\r\n      </g>\r\n     </g>\r\n    </g>\r\n   </g>\r\n   <g id=\"patch_3\">\r\n    <path d=\"M 26.925 225.041719 \r\nL 26.925 7.601719 \r\n\" style=\"fill:none;stroke:#000000;stroke-linecap:square;stroke-linejoin:miter;stroke-width:0.8;\"/>\r\n   </g>\r\n   <g id=\"patch_4\">\r\n    <path d=\"M 244.365 225.041719 \r\nL 244.365 7.601719 \r\n\" style=\"fill:none;stroke:#000000;stroke-linecap:square;stroke-linejoin:miter;stroke-width:0.8;\"/>\r\n   </g>\r\n   <g id=\"patch_5\">\r\n    <path d=\"M 26.925 225.041719 \r\nL 244.365 225.041719 \r\n\" style=\"fill:none;stroke:#000000;stroke-linecap:square;stroke-linejoin:miter;stroke-width:0.8;\"/>\r\n   </g>\r\n   <g id=\"patch_6\">\r\n    <path d=\"M 26.925 7.601719 \r\nL 244.365 7.601719 \r\n\" style=\"fill:none;stroke:#000000;stroke-linecap:square;stroke-linejoin:miter;stroke-width:0.8;\"/>\r\n   </g>\r\n  </g>\r\n </g>\r\n <defs>\r\n  <clipPath id=\"p128fd7136c\">\r\n   <rect height=\"217.44\" width=\"217.44\" x=\"26.925\" y=\"7.601719\"/>\r\n  </clipPath>\r\n </defs>\r\n</svg>\r\n",
      "image/png": "[encoded data removed]"
     },
     "metadata": {
      "needs_background": "light"
     }
    }
   ],
   "source": [
    "import random\n",
    "\n",
    "with torch.no_grad():\n",
    "    index = random.randint(0, len(cifar2))\n",
    "    img, label = cifar2[index]\n",
    "    origin_img, label = origin_cifar2[index]\n",
    "    output = model(img.view(1, -1))\n",
    "    _, predicted = torch.max(output, dim=1)\n",
    "\n",
    "    print(\"{:10}{:10} \".format(\"Label\", \"Predicted\"))\n",
    "    print(\"{:10}{:10} \".format(class_names[label], class_names[predicted]))\n",
    "    plt.imshow(origin_img)\n",
    "    plt.show()"
   ]
  },
  {
   "cell_type": "code",
   "execution_count": 91,
   "metadata": {},
   "outputs": [
    {
     "output_type": "execute_result",
     "data": {
      "text/plain": [
       "(1574402, [1572864, 512, 1024, 2])"
      ]
     },
     "metadata": {},
     "execution_count": 91
    }
   ],
   "source": [
    "numel_list = [p.numel() for p in model.parameters() if p.requires_grad==True]\n",
    "\n",
    "sum(numel_list), numel_list"
   ]
  },
  {
   "cell_type": "code",
   "execution_count": null,
   "metadata": {},
   "outputs": [],
   "source": []
  }
 ],
 "metadata": {
  "kernelspec": {
   "name": "python3",
   "display_name": "Python 3.7.5 64-bit",
   "metadata": {
    "interpreter": {
     "hash": "695051b7451d8b0ff28906f1ebd4ad86c90cb2436d8e0ccb668894d6ec504d98"
    }
   }
  },
  "language_info": {
   "codemirror_mode": {
    "name": "ipython",
    "version": 3
   },
   "file_extension": ".py",
   "mimetype": "text/x-python",
   "name": "python",
   "nbconvert_exporter": "python",
   "pygments_lexer": "ipython3",
   "version": "3.7.5-final"
  }
 },
 "nbformat": 4,
 "nbformat_minor": 2
}