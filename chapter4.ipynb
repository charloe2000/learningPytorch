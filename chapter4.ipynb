{
 "metadata": {
  "language_info": {
   "codemirror_mode": {
    "name": "ipython",
    "version": 3
   },
   "file_extension": ".py",
   "mimetype": "text/x-python",
   "name": "python",
   "nbconvert_exporter": "python",
   "pygments_lexer": "ipython3",
   "version": "3.8.5-final"
  },
  "orig_nbformat": 2,
  "kernelspec": {
   "name": "python3",
   "display_name": "Python 3",
   "language": "python"
  }
 },
 "nbformat": 4,
 "nbformat_minor": 2,
 "cells": [
  {
   "source": [
    "# Notes in Chapter 4\n",
    "1. PyTorch modules dealing with image data require tensors to be laid out as C × H × W :\n",
    "channels, height, and width, respectively.\n",
    "2. Sometimes images have an alpha channel, in other words, they have 4 channel.\n",
    "3. Neural networks usually work with floating-point tensors as their input.\n",
    "4. Neural networks exhibit the best training performance when the input data ranges roughly from 0 to 1, or from -1 to 1 (this is an effect of how their building blocks are defined).\n",
    "5.  In working with images, it is good practice to compute the mean and standard deviation on all the training data in advance and then subtract and divide by these fixed, precomputed quanti\u0002ties."
   ],
   "cell_type": "markdown",
   "metadata": {}
  },
  {
   "cell_type": "code",
   "execution_count": 1,
   "metadata": {},
   "outputs": [
    {
     "output_type": "execute_result",
     "data": {
      "text/plain": [
       "(180, 254, 3)"
      ]
     },
     "metadata": {},
     "execution_count": 1
    }
   ],
   "source": [
    "import imageio\n",
    "\n",
    "# img_arr is numpy arr\n",
    "img_arr = imageio.imread('data/ch4/bobby.jpg')\n",
    "# (height, width, channel), (H, W, C)\n",
    "img_arr.shape"
   ]
  },
  {
   "cell_type": "code",
   "execution_count": 3,
   "metadata": {},
   "outputs": [
    {
     "output_type": "execute_result",
     "data": {
      "text/plain": [
       "torch.Size([3, 180, 254])"
      ]
     },
     "metadata": {},
     "execution_count": 3
    }
   ],
   "source": [
    "import torch\n",
    "\n",
    "# img is torch tensor\n",
    "img = torch.from_numpy(img_arr)\n",
    "# (channel, height, width), (C, H ,W)\n",
    "out = img.permute(2, 0, 1)\n",
    "out.shape"
   ]
  },
  {
   "cell_type": "code",
   "execution_count": 4,
   "metadata": {},
   "outputs": [],
   "source": [
    "batch_size = 3\n",
    "batch = torch.zeros(batch_size, 3, 256, 256, dtype=torch.uint8)"
   ]
  },
  {
   "cell_type": "code",
   "execution_count": 11,
   "metadata": {},
   "outputs": [],
   "source": [
    "import os\n",
    "\n",
    "data_dir = \"data/ch4/image-cats\"\n",
    "filenames = [name for name in os.listdir(data_dir) if os.path.splitext(name)[-1] == '.png']\n",
    "for i, filename in enumerate(filenames):\n",
    "    # numpy array of img\n",
    "    img_t = imageio.imread(os.path.join(data_dir, filename))\n",
    "    # torch tensor, but (H, W, C)\n",
    "    img_t = torch.from_numpy(img_t)\n",
    "    # permute to (C, H, W)\n",
    "    img_t = img_t.permute(2, 0, 1)\n",
    "    # sometime images have an alpha channel, we just need RGB channels.\n",
    "    img_t = img_t[:3]\n",
    "    batch[i] = img_t"
   ]
  },
  {
   "cell_type": "code",
   "execution_count": 15,
   "metadata": {},
   "outputs": [],
   "source": [
    "# normalize tensor to 0~1\n",
    "batch  = batch.float()\n",
    "# Apporoach One: simply divide by 255.0\n",
    "batch /= 255.0"
   ]
  },
  {
   "cell_type": "code",
   "execution_count": 18,
   "metadata": {},
   "outputs": [
    {
     "output_type": "execute_result",
     "data": {
      "text/plain": [
       "torch.Size([3, 256, 256])"
      ]
     },
     "metadata": {},
     "execution_count": 18
    }
   ],
   "source": [
    "batch[:, 0].shape"
   ]
  },
  {
   "cell_type": "code",
   "execution_count": 19,
   "metadata": {},
   "outputs": [
    {
     "output_type": "error",
     "ename": "SyntaxError",
     "evalue": "invalid syntax (<ipython-input-19-5b078658ae71>, line 9)",
     "traceback": [
      "\u001b[1;36m  File \u001b[1;32m\"<ipython-input-19-5b078658ae71>\"\u001b[1;36m, line \u001b[1;32m9\u001b[0m\n\u001b[1;33m    batch[:, c] = (batch[;, c] - mean) / std\u001b[0m\n\u001b[1;37m                         ^\u001b[0m\n\u001b[1;31mSyntaxError\u001b[0m\u001b[1;31m:\u001b[0m invalid syntax\n"
     ]
    }
   ],
   "source": [
    "# Apporoach Two:\n",
    "# compute the mean and standard deviation of the input data and scale it\n",
    "# so that the output has zero mean and unit standard deviation across each channel:\n",
    "n_channels = batch.shape[1]\n",
    "for c in range(n_channels):\n",
    "    # mean and std is a scalar\n",
    "    mean = torch.mean(batch[:, c])\n",
    "    std = torch.std(batch[:, c])\n",
    "    batch[:, c] = (batch[:, c] - mean) / std"
   ]
  },
  {
   "cell_type": "code",
   "execution_count": null,
   "metadata": {},
   "outputs": [],
   "source": []
  }
 ]
}