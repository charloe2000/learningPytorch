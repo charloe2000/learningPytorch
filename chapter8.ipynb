{
 "metadata": {
  "language_info": {
   "codemirror_mode": {
    "name": "ipython",
    "version": 3
   },
   "file_extension": ".py",
   "mimetype": "text/x-python",
   "name": "python",
   "nbconvert_exporter": "python",
   "pygments_lexer": "ipython3",
   "version": "3.7.5-final"
  },
  "orig_nbformat": 2,
  "kernelspec": {
   "name": "python3",
   "display_name": "Python 3.7.5 64-bit",
   "metadata": {
    "interpreter": {
     "hash": "695051b7451d8b0ff28906f1ebd4ad86c90cb2436d8e0ccb668894d6ec504d98"
    }
   }
  }
 },
 "nbformat": 4,
 "nbformat_minor": 2,
 "cells": [
  {
   "source": [
    "# Notes in chapter 8\n",
    "1. At a minimum, the arguments we provide to nn.Conv2d are the number of input features (or channels, since we’re dealing with multichannel images: that is, more than one value per pixel), the number of output features, and the size of the kernel.\n",
    "2. As usual, we need to add the zeroth batch dimension with unsqueeze if we want to call the conv module with one input image, since nn.Conv2d expects a B × C × H × W shaped tensor as input.\n",
    "3. Training a model involves two critical steps: optimization, when we need the loss to\n",
    "decrease on the training set; and eneralization, when the model has to work not only on the training set but also on data it has not seen before, like the validation set. The mathematical tools aimed at easing these two steps are sometimes subsumed under\n",
    "the label regularization."
   ],
   "cell_type": "markdown",
   "metadata": {}
  },
  {
   "source": [
    "## 8.1 The case for convolutions"
   ],
   "cell_type": "markdown",
   "metadata": {}
  },
  {
   "source": [
    "## 8.2 Convolutions in action"
   ],
   "cell_type": "markdown",
   "metadata": {}
  },
  {
   "cell_type": "code",
   "execution_count": 1,
   "metadata": {},
   "outputs": [
    {
     "output_type": "execute_result",
     "data": {
      "text/plain": [
       "Conv2d(3, 16, kernel_size=(3, 3), stride=(1, 1))"
      ]
     },
     "metadata": {},
     "execution_count": 1
    }
   ],
   "source": [
    "import torch.nn as nn\n",
    "\n",
    "conv = nn.Conv2d(3, 16, kernel_size=3)\n",
    "conv"
   ]
  },
  {
   "cell_type": "code",
   "execution_count": 2,
   "metadata": {},
   "outputs": [
    {
     "output_type": "execute_result",
     "data": {
      "text/plain": [
       "(torch.Size([16, 3, 3, 3]), torch.Size([16]))"
      ]
     },
     "metadata": {},
     "execution_count": 2
    }
   ],
   "source": [
    "conv.weight.shape, conv.bias.shape"
   ]
  },
  {
   "cell_type": "code",
   "execution_count": 3,
   "metadata": {},
   "outputs": [],
   "source": [
    "from torchvision import datasets\n",
    "\n",
    "data_path = 'data/ch7/'\n",
    "cifar10 = datasets.CIFAR10(data_path, train=True, download=False)\n",
    "cifar10_val = datasets.CIFAR10(data_path, train=False, download=False)\n",
    "\n",
    "class_names = ['airplane', 'automobile', 'bird', 'cat', 'deer', 'dog', 'frog', 'horse', 'ship', 'truck']\n",
    "\n",
    "from torchvision import transforms\n",
    "\n",
    "transformd_cifar10 = datasets.CIFAR10(\n",
    "    data_path, train=True, download=False,\n",
    "    transform=transforms.Compose([\n",
    "        transforms.ToTensor(),\n",
    "        transforms.Normalize((0.4915, 0.4823, 0.4468), (0.2470, 0.2435, 0.2616))\n",
    "    ])\n",
    ")\n",
    "transformd_cifar10_val = datasets.CIFAR10(\n",
    "    data_path, train=False, download=False, transform=transforms.Compose([\n",
    "        transforms.ToTensor(),\n",
    "        transforms.Normalize((0.4943, 0.4852, 0.4506), (0.2467, 0.2429, 0.2616))\n",
    "    ]))\n",
    "\n",
    "label_map = {0:0, 2:1}\n",
    "class_names = ['airplane', 'bird']\n",
    "cifar2 = [(img, label_map[label]) for img, label in transformd_cifar10 if label in [0, 2]]\n",
    "cifar2_val = [(img, label_map[label]) for img, label in transformd_cifar10_val if label in [0, 2]]"
   ]
  },
  {
   "cell_type": "code",
   "execution_count": 4,
   "metadata": {},
   "outputs": [
    {
     "output_type": "execute_result",
     "data": {
      "text/plain": [
       "(10000, 2000)"
      ]
     },
     "metadata": {},
     "execution_count": 4
    }
   ],
   "source": [
    "\n",
    "len(cifar2), len(cifar2_val)"
   ]
  },
  {
   "cell_type": "code",
   "execution_count": 5,
   "metadata": {},
   "outputs": [
    {
     "output_type": "execute_result",
     "data": {
      "text/plain": [
       "(torch.Size([1, 3, 32, 32]), torch.Size([1, 16, 30, 30]))"
      ]
     },
     "metadata": {},
     "execution_count": 5
    }
   ],
   "source": [
    "img, _ = cifar2[0]\n",
    "conv = nn.Conv2d(3, 16, kernel_size=3)\n",
    "output = conv(img.unsqueeze(0))\n",
    "img.unsqueeze(0).shape, output.shape"
   ]
  },
  {
   "cell_type": "code",
   "execution_count": 6,
   "metadata": {},
   "outputs": [
    {
     "output_type": "display_data",
     "data": {
      "text/plain": "<Figure size 432x288 with 2 Axes>",
      "image/svg+xml": "<?xml version=\"1.0\" encoding=\"utf-8\" standalone=\"no\"?>\r\n<!DOCTYPE svg PUBLIC \"-//W3C//DTD SVG 1.1//EN\"\r\n  \"http://www.w3.org/Graphics/SVG/1.1/DTD/svg11.dtd\">\r\n<!-- Created with matplotlib (https://matplotlib.org/) -->\r\n<svg height=\"198.378068pt\" version=\"1.1\" viewBox=\"0 0 368.925 198.378068\" width=\"368.925pt\" xmlns=\"http://www.w3.org/2000/svg\" xmlns:xlink=\"http://www.w3.org/1999/xlink\">\r\n <defs>\r\n  <style type=\"text/css\">\r\n*{stroke-linecap:butt;stroke-linejoin:round;}\r\n  </style>\r\n </defs>\r\n <g id=\"figure_1\">\r\n  <g id=\"patch_1\">\r\n   <path d=\"M -0 198.378068 \r\nL 368.925 198.378068 \r\nL 368.925 0 \r\nL -0 0 \r\nz\r\n\" style=\"fill:none;\"/>\r\n  </g>\r\n  <g id=\"axes_1\">\r\n   <g id=\"patch_2\">\r\n    <path d=\"M 26.925 174.499943 \r\nL 179.106818 174.499943 \r\nL 179.106818 22.318125 \r\nL 26.925 22.318125 \r\nz\r\n\" style=\"fill:#ffffff;\"/>\r\n   </g>\r\n   <g clip-path=\"url(#pac657ee052)\">\r\n    <image height=\"153\" id=\"image0f76e97c8a\" transform=\"scale(1 -1)translate(0 -153)\" width=\"153\" x=\"26.925\" xlink:href=\"data:image/png;base64,\r\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\" y=\"-21.499943\"/>\r\n   </g>\r\n   <g id=\"matplotlib.axis_1\">\r\n    <g id=\"xtick_1\">\r\n     <g id=\"line2d_1\">\r\n      <defs>\r\n       <path d=\"M 0 0 \r\nL 0 3.5 \r\n\" id=\"m0a937ed141\" style=\"stroke:#000000;stroke-width:0.8;\"/>\r\n      </defs>\r\n      <g>\r\n       <use style=\"stroke:#000000;stroke-width:0.8;\" x=\"29.461364\" xlink:href=\"#m0a937ed141\" y=\"174.499943\"/>\r\n      </g>\r\n     </g>\r\n     <g id=\"text_1\">\r\n      <!-- 0 -->\r\n      <defs>\r\n       <path d=\"M 31.78125 66.40625 \r\nQ 24.171875 66.40625 20.328125 58.90625 \r\nQ 16.5 51.421875 16.5 36.375 \r\nQ 16.5 21.390625 20.328125 13.890625 \r\nQ 24.171875 6.390625 31.78125 6.390625 \r\nQ 39.453125 6.390625 43.28125 13.890625 \r\nQ 47.125 21.390625 47.125 36.375 \r\nQ 47.125 51.421875 43.28125 58.90625 \r\nQ 39.453125 66.40625 31.78125 66.40625 \r\nz\r\nM 31.78125 74.21875 \r\nQ 44.046875 74.21875 50.515625 64.515625 \r\nQ 56.984375 54.828125 56.984375 36.375 \r\nQ 56.984375 17.96875 50.515625 8.265625 \r\nQ 44.046875 -1.421875 31.78125 -1.421875 \r\nQ 19.53125 -1.421875 13.0625 8.265625 \r\nQ 6.59375 17.96875 6.59375 36.375 \r\nQ 6.59375 54.828125 13.0625 64.515625 \r\nQ 19.53125 74.21875 31.78125 74.21875 \r\nz\r\n\" id=\"DejaVuSans-48\"/>\r\n      </defs>\r\n      <g transform=\"translate(26.280114 189.098381)scale(0.1 -0.1)\">\r\n       <use xlink:href=\"#DejaVuSans-48\"/>\r\n      </g>\r\n     </g>\r\n    </g>\r\n    <g id=\"xtick_2\">\r\n     <g id=\"line2d_2\">\r\n      <g>\r\n       <use style=\"stroke:#000000;stroke-width:0.8;\" x=\"80.188636\" xlink:href=\"#m0a937ed141\" y=\"174.499943\"/>\r\n      </g>\r\n     </g>\r\n     <g id=\"text_2\">\r\n      <!-- 10 -->\r\n      <defs>\r\n       <path d=\"M 12.40625 8.296875 \r\nL 28.515625 8.296875 \r\nL 28.515625 63.921875 \r\nL 10.984375 60.40625 \r\nL 10.984375 69.390625 \r\nL 28.421875 72.90625 \r\nL 38.28125 72.90625 \r\nL 38.28125 8.296875 \r\nL 54.390625 8.296875 \r\nL 54.390625 0 \r\nL 12.40625 0 \r\nz\r\n\" id=\"DejaVuSans-49\"/>\r\n      </defs>\r\n      <g transform=\"translate(73.826136 189.098381)scale(0.1 -0.1)\">\r\n       <use xlink:href=\"#DejaVuSans-49\"/>\r\n       <use x=\"63.623047\" xlink:href=\"#DejaVuSans-48\"/>\r\n      </g>\r\n     </g>\r\n    </g>\r\n    <g id=\"xtick_3\">\r\n     <g id=\"line2d_3\">\r\n      <g>\r\n       <use style=\"stroke:#000000;stroke-width:0.8;\" x=\"130.915909\" xlink:href=\"#m0a937ed141\" y=\"174.499943\"/>\r\n      </g>\r\n     </g>\r\n     <g id=\"text_3\">\r\n      <!-- 20 -->\r\n      <defs>\r\n       <path d=\"M 19.1875 8.296875 \r\nL 53.609375 8.296875 \r\nL 53.609375 0 \r\nL 7.328125 0 \r\nL 7.328125 8.296875 \r\nQ 12.9375 14.109375 22.625 23.890625 \r\nQ 32.328125 33.6875 34.8125 36.53125 \r\nQ 39.546875 41.84375 41.421875 45.53125 \r\nQ 43.3125 49.21875 43.3125 52.78125 \r\nQ 43.3125 58.59375 39.234375 62.25 \r\nQ 35.15625 65.921875 28.609375 65.921875 \r\nQ 23.96875 65.921875 18.8125 64.3125 \r\nQ 13.671875 62.703125 7.8125 59.421875 \r\nL 7.8125 69.390625 \r\nQ 13.765625 71.78125 18.9375 73 \r\nQ 24.125 74.21875 28.421875 74.21875 \r\nQ 39.75 74.21875 46.484375 68.546875 \r\nQ 53.21875 62.890625 53.21875 53.421875 \r\nQ 53.21875 48.921875 51.53125 44.890625 \r\nQ 49.859375 40.875 45.40625 35.40625 \r\nQ 44.1875 33.984375 37.640625 27.21875 \r\nQ 31.109375 20.453125 19.1875 8.296875 \r\nz\r\n\" id=\"DejaVuSans-50\"/>\r\n      </defs>\r\n      <g transform=\"translate(124.553409 189.098381)scale(0.1 -0.1)\">\r\n       <use xlink:href=\"#DejaVuSans-50\"/>\r\n       <use x=\"63.623047\" xlink:href=\"#DejaVuSans-48\"/>\r\n      </g>\r\n     </g>\r\n    </g>\r\n   </g>\r\n   <g id=\"matplotlib.axis_2\">\r\n    <g id=\"ytick_1\">\r\n     <g id=\"line2d_4\">\r\n      <defs>\r\n       <path d=\"M 0 0 \r\nL -3.5 0 \r\n\" id=\"m5f2d9135f0\" style=\"stroke:#000000;stroke-width:0.8;\"/>\r\n      </defs>\r\n      <g>\r\n       <use style=\"stroke:#000000;stroke-width:0.8;\" x=\"26.925\" xlink:href=\"#m5f2d9135f0\" y=\"24.854489\"/>\r\n      </g>\r\n     </g>\r\n     <g id=\"text_4\">\r\n      <!-- 0 -->\r\n      <g transform=\"translate(13.5625 28.653707)scale(0.1 -0.1)\">\r\n       <use xlink:href=\"#DejaVuSans-48\"/>\r\n      </g>\r\n     </g>\r\n    </g>\r\n    <g id=\"ytick_2\">\r\n     <g id=\"line2d_5\">\r\n      <g>\r\n       <use style=\"stroke:#000000;stroke-width:0.8;\" x=\"26.925\" xlink:href=\"#m5f2d9135f0\" y=\"50.218125\"/>\r\n      </g>\r\n     </g>\r\n     <g id=\"text_5\">\r\n      <!-- 5 -->\r\n      <defs>\r\n       <path d=\"M 10.796875 72.90625 \r\nL 49.515625 72.90625 \r\nL 49.515625 64.59375 \r\nL 19.828125 64.59375 \r\nL 19.828125 46.734375 \r\nQ 21.96875 47.46875 24.109375 47.828125 \r\nQ 26.265625 48.1875 28.421875 48.1875 \r\nQ 40.625 48.1875 47.75 41.5 \r\nQ 54.890625 34.8125 54.890625 23.390625 \r\nQ 54.890625 11.625 47.5625 5.09375 \r\nQ 40.234375 -1.421875 26.90625 -1.421875 \r\nQ 22.3125 -1.421875 17.546875 -0.640625 \r\nQ 12.796875 0.140625 7.71875 1.703125 \r\nL 7.71875 11.625 \r\nQ 12.109375 9.234375 16.796875 8.0625 \r\nQ 21.484375 6.890625 26.703125 6.890625 \r\nQ 35.15625 6.890625 40.078125 11.328125 \r\nQ 45.015625 15.765625 45.015625 23.390625 \r\nQ 45.015625 31 40.078125 35.4375 \r\nQ 35.15625 39.890625 26.703125 39.890625 \r\nQ 22.75 39.890625 18.8125 39.015625 \r\nQ 14.890625 38.140625 10.796875 36.28125 \r\nz\r\n\" id=\"DejaVuSans-53\"/>\r\n      </defs>\r\n      <g transform=\"translate(13.5625 54.017344)scale(0.1 -0.1)\">\r\n       <use xlink:href=\"#DejaVuSans-53\"/>\r\n      </g>\r\n     </g>\r\n    </g>\r\n    <g id=\"ytick_3\">\r\n     <g id=\"line2d_6\">\r\n      <g>\r\n       <use style=\"stroke:#000000;stroke-width:0.8;\" x=\"26.925\" xlink:href=\"#m5f2d9135f0\" y=\"75.581761\"/>\r\n      </g>\r\n     </g>\r\n     <g id=\"text_6\">\r\n      <!-- 10 -->\r\n      <g transform=\"translate(7.2 79.38098)scale(0.1 -0.1)\">\r\n       <use xlink:href=\"#DejaVuSans-49\"/>\r\n       <use x=\"63.623047\" xlink:href=\"#DejaVuSans-48\"/>\r\n      </g>\r\n     </g>\r\n    </g>\r\n    <g id=\"ytick_4\">\r\n     <g id=\"line2d_7\">\r\n      <g>\r\n       <use style=\"stroke:#000000;stroke-width:0.8;\" x=\"26.925\" xlink:href=\"#m5f2d9135f0\" y=\"100.945398\"/>\r\n      </g>\r\n     </g>\r\n     <g id=\"text_7\">\r\n      <!-- 15 -->\r\n      <g transform=\"translate(7.2 104.744616)scale(0.1 -0.1)\">\r\n       <use xlink:href=\"#DejaVuSans-49\"/>\r\n       <use x=\"63.623047\" xlink:href=\"#DejaVuSans-53\"/>\r\n      </g>\r\n     </g>\r\n    </g>\r\n    <g id=\"ytick_5\">\r\n     <g id=\"line2d_8\">\r\n      <g>\r\n       <use style=\"stroke:#000000;stroke-width:0.8;\" x=\"26.925\" xlink:href=\"#m5f2d9135f0\" y=\"126.309034\"/>\r\n      </g>\r\n     </g>\r\n     <g id=\"text_8\">\r\n      <!-- 20 -->\r\n      <g transform=\"translate(7.2 130.108253)scale(0.1 -0.1)\">\r\n       <use xlink:href=\"#DejaVuSans-50\"/>\r\n       <use x=\"63.623047\" xlink:href=\"#DejaVuSans-48\"/>\r\n      </g>\r\n     </g>\r\n    </g>\r\n    <g id=\"ytick_6\">\r\n     <g id=\"line2d_9\">\r\n      <g>\r\n       <use style=\"stroke:#000000;stroke-width:0.8;\" x=\"26.925\" xlink:href=\"#m5f2d9135f0\" y=\"151.67267\"/>\r\n      </g>\r\n     </g>\r\n     <g id=\"text_9\">\r\n      <!-- 25 -->\r\n      <g transform=\"translate(7.2 155.471889)scale(0.1 -0.1)\">\r\n       <use xlink:href=\"#DejaVuSans-50\"/>\r\n       <use x=\"63.623047\" xlink:href=\"#DejaVuSans-53\"/>\r\n      </g>\r\n     </g>\r\n    </g>\r\n   </g>\r\n   <g id=\"patch_3\">\r\n    <path d=\"M 26.925 174.499943 \r\nL 26.925 22.318125 \r\n\" style=\"fill:none;stroke:#000000;stroke-linecap:square;stroke-linejoin:miter;stroke-width:0.8;\"/>\r\n   </g>\r\n   <g id=\"patch_4\">\r\n    <path d=\"M 179.106818 174.499943 \r\nL 179.106818 22.318125 \r\n\" style=\"fill:none;stroke:#000000;stroke-linecap:square;stroke-linejoin:miter;stroke-width:0.8;\"/>\r\n   </g>\r\n   <g id=\"patch_5\">\r\n    <path d=\"M 26.925 174.499943 \r\nL 179.106818 174.499943 \r\n\" style=\"fill:none;stroke:#000000;stroke-linecap:square;stroke-linejoin:miter;stroke-width:0.8;\"/>\r\n   </g>\r\n   <g id=\"patch_6\">\r\n    <path d=\"M 26.925 22.318125 \r\nL 179.106818 22.318125 \r\n\" style=\"fill:none;stroke:#000000;stroke-linecap:square;stroke-linejoin:miter;stroke-width:0.8;\"/>\r\n   </g>\r\n   <g id=\"text_10\">\r\n    <!-- output -->\r\n    <defs>\r\n     <path d=\"M 30.609375 48.390625 \r\nQ 23.390625 48.390625 19.1875 42.75 \r\nQ 14.984375 37.109375 14.984375 27.296875 \r\nQ 14.984375 17.484375 19.15625 11.84375 \r\nQ 23.34375 6.203125 30.609375 6.203125 \r\nQ 37.796875 6.203125 41.984375 11.859375 \r\nQ 46.1875 17.53125 46.1875 27.296875 \r\nQ 46.1875 37.015625 41.984375 42.703125 \r\nQ 37.796875 48.390625 30.609375 48.390625 \r\nz\r\nM 30.609375 56 \r\nQ 42.328125 56 49.015625 48.375 \r\nQ 55.71875 40.765625 55.71875 27.296875 \r\nQ 55.71875 13.875 49.015625 6.21875 \r\nQ 42.328125 -1.421875 30.609375 -1.421875 \r\nQ 18.84375 -1.421875 12.171875 6.21875 \r\nQ 5.515625 13.875 5.515625 27.296875 \r\nQ 5.515625 40.765625 12.171875 48.375 \r\nQ 18.84375 56 30.609375 56 \r\nz\r\n\" id=\"DejaVuSans-111\"/>\r\n     <path d=\"M 8.5 21.578125 \r\nL 8.5 54.6875 \r\nL 17.484375 54.6875 \r\nL 17.484375 21.921875 \r\nQ 17.484375 14.15625 20.5 10.265625 \r\nQ 23.53125 6.390625 29.59375 6.390625 \r\nQ 36.859375 6.390625 41.078125 11.03125 \r\nQ 45.3125 15.671875 45.3125 23.6875 \r\nL 45.3125 54.6875 \r\nL 54.296875 54.6875 \r\nL 54.296875 0 \r\nL 45.3125 0 \r\nL 45.3125 8.40625 \r\nQ 42.046875 3.421875 37.71875 1 \r\nQ 33.40625 -1.421875 27.6875 -1.421875 \r\nQ 18.265625 -1.421875 13.375 4.4375 \r\nQ 8.5 10.296875 8.5 21.578125 \r\nz\r\nM 31.109375 56 \r\nz\r\n\" id=\"DejaVuSans-117\"/>\r\n     <path d=\"M 18.3125 70.21875 \r\nL 18.3125 54.6875 \r\nL 36.8125 54.6875 \r\nL 36.8125 47.703125 \r\nL 18.3125 47.703125 \r\nL 18.3125 18.015625 \r\nQ 18.3125 11.328125 20.140625 9.421875 \r\nQ 21.96875 7.515625 27.59375 7.515625 \r\nL 36.8125 7.515625 \r\nL 36.8125 0 \r\nL 27.59375 0 \r\nQ 17.1875 0 13.234375 3.875 \r\nQ 9.28125 7.765625 9.28125 18.015625 \r\nL 9.28125 47.703125 \r\nL 2.6875 47.703125 \r\nL 2.6875 54.6875 \r\nL 9.28125 54.6875 \r\nL 9.28125 70.21875 \r\nz\r\n\" id=\"DejaVuSans-116\"/>\r\n     <path d=\"M 18.109375 8.203125 \r\nL 18.109375 -20.796875 \r\nL 9.078125 -20.796875 \r\nL 9.078125 54.6875 \r\nL 18.109375 54.6875 \r\nL 18.109375 46.390625 \r\nQ 20.953125 51.265625 25.265625 53.625 \r\nQ 29.59375 56 35.59375 56 \r\nQ 45.5625 56 51.78125 48.09375 \r\nQ 58.015625 40.1875 58.015625 27.296875 \r\nQ 58.015625 14.40625 51.78125 6.484375 \r\nQ 45.5625 -1.421875 35.59375 -1.421875 \r\nQ 29.59375 -1.421875 25.265625 0.953125 \r\nQ 20.953125 3.328125 18.109375 8.203125 \r\nz\r\nM 48.6875 27.296875 \r\nQ 48.6875 37.203125 44.609375 42.84375 \r\nQ 40.53125 48.484375 33.40625 48.484375 \r\nQ 26.265625 48.484375 22.1875 42.84375 \r\nQ 18.109375 37.203125 18.109375 27.296875 \r\nQ 18.109375 17.390625 22.1875 11.75 \r\nQ 26.265625 6.109375 33.40625 6.109375 \r\nQ 40.53125 6.109375 44.609375 11.75 \r\nQ 48.6875 17.390625 48.6875 27.296875 \r\nz\r\n\" id=\"DejaVuSans-112\"/>\r\n    </defs>\r\n    <g transform=\"translate(83.226222 16.318125)scale(0.12 -0.12)\">\r\n     <use xlink:href=\"#DejaVuSans-111\"/>\r\n     <use x=\"61.181641\" xlink:href=\"#DejaVuSans-117\"/>\r\n     <use x=\"124.560547\" xlink:href=\"#DejaVuSans-116\"/>\r\n     <use x=\"163.769531\" xlink:href=\"#DejaVuSans-112\"/>\r\n     <use x=\"227.246094\" xlink:href=\"#DejaVuSans-117\"/>\r\n     <use x=\"290.625\" xlink:href=\"#DejaVuSans-116\"/>\r\n    </g>\r\n   </g>\r\n  </g>\r\n  <g id=\"axes_2\">\r\n   <g id=\"patch_7\">\r\n    <path d=\"M 209.543182 174.499943 \r\nL 361.725 174.499943 \r\nL 361.725 22.318125 \r\nL 209.543182 22.318125 \r\nz\r\n\" style=\"fill:#ffffff;\"/>\r\n   </g>\r\n   <g clip-path=\"url(#pad848517d9)\">\r\n    <image height=\"153\" id=\"image113bdc9892\" transform=\"scale(1 -1)translate(0 -153)\" width=\"153\" x=\"209.543182\" xlink:href=\"data:image/png;base64,\r\niVBORw0KGgoAAAANSUhEUgAAAJkAAACZCAYAAAA8XJi6AAAABHNCSVQICAgIfAhkiAAADMdJREFUeJztnUlPFt8Sxo/azgOi4oQ4ASLgQNSwMW5M/AB+Ab+giS51Y2ShIVESJ8ARRcABJ5zn4a77qZ+Xzr238r+L57fryqHf8/Zbtk/VqVNnweTk5J8ifPnyRU1lenq6dj0zMxPG/PjxI9gWL14877j379+HMU2hua5YsaJ2XVVVGEPzn52dDbb29vZ/e11KKT9//gy2lStXNrp/R0dH7Xrz5s1hzJIlS4Lt4cOHwXb//v1G81Ca/m6vXr2a9+/27t0bbAvnnYEx/yV2MpOOncykYycz6VRPnz4Nxg8fPgSbCuzW1tYwZtmyZcH29u3bYPv27Vvt+vPnz2HM0qVLg23RokXBRkGDCuxt27aFMcSOHTuCra+vr3ZNgcbc3Fywffr0Kdg2btwYbLt3765d07OfmpoKNgoi6Df5+vVr7VrFeykcGP3+/TvYdG7r1q0LY+h385vMpGMnM+nYyUw6djKTTvX48eNoBCGogpdEPrFgwYJgW7VqVe1aM/SlxOCglFIePXoUbCSwdW4UMFBmffXq1cF269atef9u06ZNwabfsZRSFi6M/6bHx8dr17QS8evXr2AjSIjrasSlS5fCGAqMKIjQ34mCgz9/wgKS32QmHzuZScdOZtKpSDvQ/7WqczTJV0opk5OTwUZVAKq3SKuQznnz5k2wUQXE4OBg7bqlpSWMGRsbC7bz58/PO+7EiRNhDGnYNWvWBNu7d++CTTUxJXt7e3uDjXQsob8TaSZKmK9fvz7Y1q5dW7tua2sLY+h7+01m0rGTmXTsZCYdO5lJpyJhTpUNKtZfv34dxjQVlRpYULJ0dHQ02KgMmZKGExMTtevOzs4w5t69e8FGyV5NJlOgRGKdAiOqpvj+/XvtmoIggp41BUYauFCQQqXWlNjdvn177bqnpyeMoe/oN5lJx05m0rGTmXTsZCadqmnWVsU5iUUSzhQgqIB8/vx5GEMidvny5cFGZcgaIFB1BZVMUxChpeG0EkHZ96GhoWAj0a2fSUEXlacTdH+d28DAQBhDFS9aHVJKKUeOHKldb9myJYx58OBBsPlNZtKxk5l07GQmHTuZSaciIUt7/1Q8k0jesGFDsI2MjASbZrVJ+BO0MkCZdd0rSY1IPn78GGwk4J88eVK7vnz5chijgUwpXEZ9+PDhYFPRffXq1TCGViwOHjwYbCT8dW70e9OqDGX8dY+olv6UUsrOnTuDzW8yk46dzKRjJzPpVJSII+2jDc+oIoJW5amM98yZM7VrSkAeP3482CixS1UkWilBiVGqYqBkr35v2kK4a9euYCN9RN/z0KFD8/4d9ZegbWy0TVHL00nDUnk3aTedGz0LaoznN5lJx05m0rGTmXTsZCadqmk5ro6jgIGSeiQENalHJcdUOdGk03UpsT8G7SOl5n/U50KDAaoOoedFiUqqUtGqiJMnT4YxWqJdCieTqbJk69attWsKIkjkU5Ci+0Zpz+vLly+DzW8yk46dzKRjJzPp2MlMOhVliUnUU4a8yd9RkzoVkNTk7cKFC8FG1RQUbOj9SKDSqgbNVQMQEtfDw8PBRjx79izYNBigDtlUCk2VGYQGVV1dXfOOKYUDNp0/zZVWTfwmM+nYyUw6djKTjp3MpIMZfxLKuvevqZimLLp2YD579myjv6NVAOqYqOUslNEmgUpZdN2DSt28r1+/Hmw0jsqj6BgahcqZaBWABLyKddpTS1Cgp6sk9HtQCZLfZCYdO5lJx05m0rGTmXSw0yIJSBWylBGmkhoS2CoYKYig+1MwQE0/9G+p7KbpeZoa8JCgpxULCqgI3dd58+bNMIb2QNLqCpUcaSlU0/NN6VnoM6OyJyrH8pvMpGMnM+nYyUw6Feko0mT6/zFpGtImVB6tiT66F+2xpP2NeMyKzL+9vT2MoZ4NNP/bt2/Xrkn3NClX/xtarkw9NOj+VD1Dz0I1HiWcqaM36V9NAJP+ouoQv8lMOnYyk46dzKRjJzPpVJSIoxV4TZg2FbuUNNRqhI6OjjCGGuNRIpHEriZ7de9hKVzZQOdRaoBACUgqq6bnQwGVJmMp2dvd3R1s9BtRebqeoU4NcKh5IXXc1udK96LgzG8yk46dzKRjJzPp2MlMOhWt+pNA1VV5Eosk/MmmApKyxCTMaWWAxmk2nEQyiXWqBtHPpBLqlpaWRjaqLNG9nlQxQlUYVLZNXRQHBwdr1/S7aQOcv91fV072798fxtD39pvMpGMnM+nYyUw6djKTTkXHuJAAVhuVylBZz3+a5e7v7w82Ev7UJEXnQaUsVPJC3QX1e9NeQxLA9Jl0FqR+Jq1OUCk0lS+RqNf5UpOUJudklhIDEFptwZWOYDHmf4ydzKRjJzPp2MlMOtWVK1caDdS9AFSK02SlgO5FZSUkKinzTQJbs/KURacyFQoGdEWBviPdi6CVBz2fiAIqKp+h7D6tfmgdPs2h6R5ODYIokKHf228yk46dzKRjJzPpVPh/KOgO7WlB+/6olJuqFjT5R583PT0dbLTC36QLNOk7SkDSvktNFJOmoYQwJXapskH1EOlOOuOczipvcuwQ7ZWk++/YsSPYVJNNTEyEMfRb+k1m0rGTmXTsZCYdO5lJp6KKC1qB1wqIpuXRVHI8Oztbu6a9jG1tbcFGYprur/MgsUvVFE2SpQ8fPgxjqDkMPR8KEF68eDHvve7evRtsFHhRMpkSrQrNtUlil4IUatTiN5lJx05m0rGTmXTsZCadioRmE6FM2X0S4VRarasMFHzQHJqiAr5pdp9WJ7SkmQ6rJ8FNlSVNukVrZ8dSuCKitbU12EisawBFwRkdVUPPTDst0hzo/n6TmXTsZCYdO5lJx05m0sE+4FTaq10IqaSDypyphbsGDbRfkDLHVMpCGXgtU6HMNEECW8uLDh06FMZQ9l1XCkrhZ6arH3R25uHDhxt9Jh0xpPOnVQ1ddSillLm5uWDT1QMK2O7cuRNsfpOZdOxkJh07mUkHNVmT/hV0rjclM+msbNUTdJwgbTPTOZTClQ06f0rskn6hz9TEMem7rq6uYCNNSeh57JSwpVJoSnqSjlIbPUP6zKmpqWDTMnbSd5R895vMpGMnM+nYyUw6djKTDpZf0/5GXXEnsU5CkKo8KJGoaJKyFBa79JmaVKVycoISx9SUbr7P+xv0rDVoIBFOFR0ksGkeWhlD/SsmJyeDjRLy2neEgieqbvGbzKRjJzPp2MlMOnYyk05FIr/J4fFNO1FTabKWclNwQOW/lEWn/ZkaDND9mzTPK4VF93yf9zdoJUU7Z58+fTqMGRoaCjYS3dRAT4MsCg4oEKPVA30WFBRZ+Jt/BDuZScdOZtKxk5l0KhKtZNPSamp+QuXRJCq1XIZKbGhPX0dHR7CRkNW9i7R6QHsUqTmJHi9DQRGJcLo/7VXVZ0EZ/zNnzgQblWTT99RjbmhvLJXN02+pKyK0KuBjb8w/gp3MpGMnM+nYyUw6FQnsJtl2aq9NApiEv4pWylSTwKb9AteuXQs2Fbfd3d1hDJXd0MqACllaKSAxTaKY9hrQKoAyMjISbDR/eo46D5o/tdmnvQz6PS38zf8NdjKTjp3MpFORTqByZe2XQGdZk400n/6/fe7cuTCGtBwlOGdmZoKtt7e3dk2VGpR4JU2jc6VKDUpckjYhPaRVGPv27QtjqLKBzj0fHBwMNk2aUxKddCF9piaT6TvSc/WbzKRjJzPp2MlMOnYyk05F4o0EvCZjqSyZmqlRUk/FOpVtU0MX2hdJJdmaTKazM+k70lx1HjQHqlqhgITur52nT506FcZQcHbjxo1gowSt7o8lYU7JZAqytBGiXpfCQaPfZCYdO5lJx05m0rGTmXQqqlDQjHkpUQCPjo6GMSQqX758GWwqWkl4DgwMBFtfX1+w0b5Oaiqi0GfSXHV/KXU9pIz58+fPg40CHA0Gjh07FsZQ10Pqkk3l3drQhSpsaK4U2GmZNj1DCj78JjPp2MlMOnYyk46dzKRTkcCmctzx8fHaNXVaJBuVaauA7OzsDGMoO07Zdlqx6O/vr12TiKWGIiTg9W9pbyOVM9G+SGpSM9/nlcKl6BSA0O+mgRF9bxLrFMTp70bl12Tzm8ykYycz6djJTDoV6aGLFy8G2/DwcO16z549YQz1VKDSZ/1M0nJ0Ljbdn3pHqA6hKgnSR1TyreMo4Uk6hDQl3V+3+dGxjKQVSUtTolUhzUdzpfJr1WnaJ6QUTmj7TWbSsZOZdOxkJh07mUkHj72hvXlHjx6tXVOCkMQ0ddfWrslUCk2N8eh4lrGxsWBTIUuBBe2fpCoJPV6GviOJZEraUgCiwQCJcPq7np6eYGvSffzAgQNhDIn1JkEWzYuCFL/JTDp2MpOOncykYycz6fwLP+JpvZj6u38AAAAASUVORK5CYII=\" y=\"-21.499943\"/>\r\n   </g>\r\n   <g id=\"matplotlib.axis_3\">\r\n    <g id=\"xtick_4\">\r\n     <g id=\"line2d_10\">\r\n      <g>\r\n       <use style=\"stroke:#000000;stroke-width:0.8;\" x=\"211.921023\" xlink:href=\"#m0a937ed141\" y=\"174.499943\"/>\r\n      </g>\r\n     </g>\r\n     <g id=\"text_11\">\r\n      <!-- 0 -->\r\n      <g transform=\"translate(208.739773 189.098381)scale(0.1 -0.1)\">\r\n       <use xlink:href=\"#DejaVuSans-48\"/>\r\n      </g>\r\n     </g>\r\n    </g>\r\n    <g id=\"xtick_5\">\r\n     <g id=\"line2d_11\">\r\n      <g>\r\n       <use style=\"stroke:#000000;stroke-width:0.8;\" x=\"259.477841\" xlink:href=\"#m0a937ed141\" y=\"174.499943\"/>\r\n      </g>\r\n     </g>\r\n     <g id=\"text_12\">\r\n      <!-- 10 -->\r\n      <g transform=\"translate(253.115341 189.098381)scale(0.1 -0.1)\">\r\n       <use xlink:href=\"#DejaVuSans-49\"/>\r\n       <use x=\"63.623047\" xlink:href=\"#DejaVuSans-48\"/>\r\n      </g>\r\n     </g>\r\n    </g>\r\n    <g id=\"xtick_6\">\r\n     <g id=\"line2d_12\">\r\n      <g>\r\n       <use style=\"stroke:#000000;stroke-width:0.8;\" x=\"307.034659\" xlink:href=\"#m0a937ed141\" y=\"174.499943\"/>\r\n      </g>\r\n     </g>\r\n     <g id=\"text_13\">\r\n      <!-- 20 -->\r\n      <g transform=\"translate(300.672159 189.098381)scale(0.1 -0.1)\">\r\n       <use xlink:href=\"#DejaVuSans-50\"/>\r\n       <use x=\"63.623047\" xlink:href=\"#DejaVuSans-48\"/>\r\n      </g>\r\n     </g>\r\n    </g>\r\n    <g id=\"xtick_7\">\r\n     <g id=\"line2d_13\">\r\n      <g>\r\n       <use style=\"stroke:#000000;stroke-width:0.8;\" x=\"354.591477\" xlink:href=\"#m0a937ed141\" y=\"174.499943\"/>\r\n      </g>\r\n     </g>\r\n     <g id=\"text_14\">\r\n      <!-- 30 -->\r\n      <defs>\r\n       <path d=\"M 40.578125 39.3125 \r\nQ 47.65625 37.796875 51.625 33 \r\nQ 55.609375 28.21875 55.609375 21.1875 \r\nQ 55.609375 10.40625 48.1875 4.484375 \r\nQ 40.765625 -1.421875 27.09375 -1.421875 \r\nQ 22.515625 -1.421875 17.65625 -0.515625 \r\nQ 12.796875 0.390625 7.625 2.203125 \r\nL 7.625 11.71875 \r\nQ 11.71875 9.328125 16.59375 8.109375 \r\nQ 21.484375 6.890625 26.8125 6.890625 \r\nQ 36.078125 6.890625 40.9375 10.546875 \r\nQ 45.796875 14.203125 45.796875 21.1875 \r\nQ 45.796875 27.640625 41.28125 31.265625 \r\nQ 36.765625 34.90625 28.71875 34.90625 \r\nL 20.21875 34.90625 \r\nL 20.21875 43.015625 \r\nL 29.109375 43.015625 \r\nQ 36.375 43.015625 40.234375 45.921875 \r\nQ 44.09375 48.828125 44.09375 54.296875 \r\nQ 44.09375 59.90625 40.109375 62.90625 \r\nQ 36.140625 65.921875 28.71875 65.921875 \r\nQ 24.65625 65.921875 20.015625 65.03125 \r\nQ 15.375 64.15625 9.8125 62.3125 \r\nL 9.8125 71.09375 \r\nQ 15.4375 72.65625 20.34375 73.4375 \r\nQ 25.25 74.21875 29.59375 74.21875 \r\nQ 40.828125 74.21875 47.359375 69.109375 \r\nQ 53.90625 64.015625 53.90625 55.328125 \r\nQ 53.90625 49.265625 50.4375 45.09375 \r\nQ 46.96875 40.921875 40.578125 39.3125 \r\nz\r\n\" id=\"DejaVuSans-51\"/>\r\n      </defs>\r\n      <g transform=\"translate(348.228977 189.098381)scale(0.1 -0.1)\">\r\n       <use xlink:href=\"#DejaVuSans-51\"/>\r\n       <use x=\"63.623047\" xlink:href=\"#DejaVuSans-48\"/>\r\n      </g>\r\n     </g>\r\n    </g>\r\n   </g>\r\n   <g id=\"matplotlib.axis_4\">\r\n    <g id=\"ytick_7\">\r\n     <g id=\"line2d_14\">\r\n      <g>\r\n       <use style=\"stroke:#000000;stroke-width:0.8;\" x=\"209.543182\" xlink:href=\"#m5f2d9135f0\" y=\"24.695966\"/>\r\n      </g>\r\n     </g>\r\n     <g id=\"text_15\">\r\n      <!-- 0 -->\r\n      <g transform=\"translate(196.180682 28.495185)scale(0.1 -0.1)\">\r\n       <use xlink:href=\"#DejaVuSans-48\"/>\r\n      </g>\r\n     </g>\r\n    </g>\r\n    <g id=\"ytick_8\">\r\n     <g id=\"line2d_15\">\r\n      <g>\r\n       <use style=\"stroke:#000000;stroke-width:0.8;\" x=\"209.543182\" xlink:href=\"#m5f2d9135f0\" y=\"48.474375\"/>\r\n      </g>\r\n     </g>\r\n     <g id=\"text_16\">\r\n      <!-- 5 -->\r\n      <g transform=\"translate(196.180682 52.273594)scale(0.1 -0.1)\">\r\n       <use xlink:href=\"#DejaVuSans-53\"/>\r\n      </g>\r\n     </g>\r\n    </g>\r\n    <g id=\"ytick_9\">\r\n     <g id=\"line2d_16\">\r\n      <g>\r\n       <use style=\"stroke:#000000;stroke-width:0.8;\" x=\"209.543182\" xlink:href=\"#m5f2d9135f0\" y=\"72.252784\"/>\r\n      </g>\r\n     </g>\r\n     <g id=\"text_17\">\r\n      <!-- 10 -->\r\n      <g transform=\"translate(189.818182 76.052003)scale(0.1 -0.1)\">\r\n       <use xlink:href=\"#DejaVuSans-49\"/>\r\n       <use x=\"63.623047\" xlink:href=\"#DejaVuSans-48\"/>\r\n      </g>\r\n     </g>\r\n    </g>\r\n    <g id=\"ytick_10\">\r\n     <g id=\"line2d_17\">\r\n      <g>\r\n       <use style=\"stroke:#000000;stroke-width:0.8;\" x=\"209.543182\" xlink:href=\"#m5f2d9135f0\" y=\"96.031193\"/>\r\n      </g>\r\n     </g>\r\n     <g id=\"text_18\">\r\n      <!-- 15 -->\r\n      <g transform=\"translate(189.818182 99.830412)scale(0.1 -0.1)\">\r\n       <use xlink:href=\"#DejaVuSans-49\"/>\r\n       <use x=\"63.623047\" xlink:href=\"#DejaVuSans-53\"/>\r\n      </g>\r\n     </g>\r\n    </g>\r\n    <g id=\"ytick_11\">\r\n     <g id=\"line2d_18\">\r\n      <g>\r\n       <use style=\"stroke:#000000;stroke-width:0.8;\" x=\"209.543182\" xlink:href=\"#m5f2d9135f0\" y=\"119.809602\"/>\r\n      </g>\r\n     </g>\r\n     <g id=\"text_19\">\r\n      <!-- 20 -->\r\n      <g transform=\"translate(189.818182 123.608821)scale(0.1 -0.1)\">\r\n       <use xlink:href=\"#DejaVuSans-50\"/>\r\n       <use x=\"63.623047\" xlink:href=\"#DejaVuSans-48\"/>\r\n      </g>\r\n     </g>\r\n    </g>\r\n    <g id=\"ytick_12\">\r\n     <g id=\"line2d_19\">\r\n      <g>\r\n       <use style=\"stroke:#000000;stroke-width:0.8;\" x=\"209.543182\" xlink:href=\"#m5f2d9135f0\" y=\"143.588011\"/>\r\n      </g>\r\n     </g>\r\n     <g id=\"text_20\">\r\n      <!-- 25 -->\r\n      <g transform=\"translate(189.818182 147.38723)scale(0.1 -0.1)\">\r\n       <use xlink:href=\"#DejaVuSans-50\"/>\r\n       <use x=\"63.623047\" xlink:href=\"#DejaVuSans-53\"/>\r\n      </g>\r\n     </g>\r\n    </g>\r\n    <g id=\"ytick_13\">\r\n     <g id=\"line2d_20\">\r\n      <g>\r\n       <use style=\"stroke:#000000;stroke-width:0.8;\" x=\"209.543182\" xlink:href=\"#m5f2d9135f0\" y=\"167.36642\"/>\r\n      </g>\r\n     </g>\r\n     <g id=\"text_21\">\r\n      <!-- 30 -->\r\n      <g transform=\"translate(189.818182 171.165639)scale(0.1 -0.1)\">\r\n       <use xlink:href=\"#DejaVuSans-51\"/>\r\n       <use x=\"63.623047\" xlink:href=\"#DejaVuSans-48\"/>\r\n      </g>\r\n     </g>\r\n    </g>\r\n   </g>\r\n   <g id=\"patch_8\">\r\n    <path d=\"M 209.543182 174.499943 \r\nL 209.543182 22.318125 \r\n\" style=\"fill:none;stroke:#000000;stroke-linecap:square;stroke-linejoin:miter;stroke-width:0.8;\"/>\r\n   </g>\r\n   <g id=\"patch_9\">\r\n    <path d=\"M 361.725 174.499943 \r\nL 361.725 22.318125 \r\n\" style=\"fill:none;stroke:#000000;stroke-linecap:square;stroke-linejoin:miter;stroke-width:0.8;\"/>\r\n   </g>\r\n   <g id=\"patch_10\">\r\n    <path d=\"M 209.543182 174.499943 \r\nL 361.725 174.499943 \r\n\" style=\"fill:none;stroke:#000000;stroke-linecap:square;stroke-linejoin:miter;stroke-width:0.8;\"/>\r\n   </g>\r\n   <g id=\"patch_11\">\r\n    <path d=\"M 209.543182 22.318125 \r\nL 361.725 22.318125 \r\n\" style=\"fill:none;stroke:#000000;stroke-linecap:square;stroke-linejoin:miter;stroke-width:0.8;\"/>\r\n   </g>\r\n   <g id=\"text_22\">\r\n    <!-- input -->\r\n    <defs>\r\n     <path d=\"M 9.421875 54.6875 \r\nL 18.40625 54.6875 \r\nL 18.40625 0 \r\nL 9.421875 0 \r\nz\r\nM 9.421875 75.984375 \r\nL 18.40625 75.984375 \r\nL 18.40625 64.59375 \r\nL 9.421875 64.59375 \r\nz\r\n\" id=\"DejaVuSans-105\"/>\r\n     <path d=\"M 54.890625 33.015625 \r\nL 54.890625 0 \r\nL 45.90625 0 \r\nL 45.90625 32.71875 \r\nQ 45.90625 40.484375 42.875 44.328125 \r\nQ 39.84375 48.1875 33.796875 48.1875 \r\nQ 26.515625 48.1875 22.3125 43.546875 \r\nQ 18.109375 38.921875 18.109375 30.90625 \r\nL 18.109375 0 \r\nL 9.078125 0 \r\nL 9.078125 54.6875 \r\nL 18.109375 54.6875 \r\nL 18.109375 46.1875 \r\nQ 21.34375 51.125 25.703125 53.5625 \r\nQ 30.078125 56 35.796875 56 \r\nQ 45.21875 56 50.046875 50.171875 \r\nQ 54.890625 44.34375 54.890625 33.015625 \r\nz\r\n\" id=\"DejaVuSans-110\"/>\r\n    </defs>\r\n    <g transform=\"translate(270.200966 16.318125)scale(0.12 -0.12)\">\r\n     <use xlink:href=\"#DejaVuSans-105\"/>\r\n     <use x=\"27.783203\" xlink:href=\"#DejaVuSans-110\"/>\r\n     <use x=\"91.162109\" xlink:href=\"#DejaVuSans-112\"/>\r\n     <use x=\"154.638672\" xlink:href=\"#DejaVuSans-117\"/>\r\n     <use x=\"218.017578\" xlink:href=\"#DejaVuSans-116\"/>\r\n    </g>\r\n   </g>\r\n  </g>\r\n </g>\r\n <defs>\r\n  <clipPath id=\"pac657ee052\">\r\n   <rect height=\"152.181818\" width=\"152.181818\" x=\"26.925\" y=\"22.318125\"/>\r\n  </clipPath>\r\n  <clipPath id=\"pad848517d9\">\r\n   <rect height=\"152.181818\" width=\"152.181818\" x=\"209.543182\" y=\"22.318125\"/>\r\n  </clipPath>\r\n </defs>\r\n</svg>\r\n",
      "image/png": "[encoded data removed]"
     },
     "metadata": {
      "needs_background": "light"
     }
    }
   ],
   "source": [
    "from matplotlib import pyplot as plt \n",
    "\n",
    "plt.subplot(1, 2, 1)\n",
    "plt.imshow(output[0, 0].detach(), cmap='gray')\n",
    "plt.title(\"output\")\n",
    "\n",
    "plt.subplot(1, 2, 2)\n",
    "plt.imshow(img[0], cmap='gray')\n",
    "plt.title(\"input\")\n",
    "plt.show()"
   ]
  },
  {
   "cell_type": "code",
   "execution_count": 7,
   "metadata": {},
   "outputs": [
    {
     "output_type": "execute_result",
     "data": {
      "text/plain": [
       "(torch.Size([1, 3, 32, 32]), torch.Size([1, 1, 32, 32]))"
      ]
     },
     "metadata": {},
     "execution_count": 7
    }
   ],
   "source": [
    "conv = nn.Conv2d(3, 1, kernel_size=3, padding=1)\n",
    "output = conv(img.unsqueeze(0))\n",
    "img.unsqueeze(0).shape, output.shape"
   ]
  },
  {
   "cell_type": "code",
   "execution_count": 8,
   "metadata": {},
   "outputs": [],
   "source": [
    "import torch\n",
    "\n",
    "with torch.no_grad():\n",
    "    conv.bias.zero_()\n",
    "\n",
    "with torch.no_grad():\n",
    "    conv.weight.fill_(1.0 / 9)"
   ]
  },
  {
   "cell_type": "code",
   "execution_count": 9,
   "metadata": {},
   "outputs": [
    {
     "output_type": "display_data",
     "data": {
      "text/plain": "<Figure size 432x288 with 2 Axes>",
      "image/svg+xml": "<?xml version=\"1.0\" encoding=\"utf-8\" standalone=\"no\"?>\r\n<!DOCTYPE svg PUBLIC \"-//W3C//DTD SVG 1.1//EN\"\r\n  \"http://www.w3.org/Graphics/SVG/1.1/DTD/svg11.dtd\">\r\n<!-- Created with matplotlib (https://matplotlib.org/) -->\r\n<svg height=\"198.378068pt\" version=\"1.1\" viewBox=\"0 0 368.925 198.378068\" width=\"368.925pt\" xmlns=\"http://www.w3.org/2000/svg\" xmlns:xlink=\"http://www.w3.org/1999/xlink\">\r\n <defs>\r\n  <style type=\"text/css\">\r\n*{stroke-linecap:butt;stroke-linejoin:round;}\r\n  </style>\r\n </defs>\r\n <g id=\"figure_1\">\r\n  <g id=\"patch_1\">\r\n   <path d=\"M -0 198.378068 \r\nL 368.925 198.378068 \r\nL 368.925 0 \r\nL -0 0 \r\nz\r\n\" style=\"fill:none;\"/>\r\n  </g>\r\n  <g id=\"axes_1\">\r\n   <g id=\"patch_2\">\r\n    <path d=\"M 26.925 174.499943 \r\nL 179.106818 174.499943 \r\nL 179.106818 22.318125 \r\nL 26.925 22.318125 \r\nz\r\n\" style=\"fill:#ffffff;\"/>\r\n   </g>\r\n   <g clip-path=\"url(#p91a3cfe149)\">\r\n    <image height=\"153\" id=\"image6eb9198e51\" transform=\"scale(1 -1)translate(0 -153)\" width=\"153\" x=\"26.925\" xlink:href=\"data:image/png;base64,\r\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\" y=\"-21.499943\"/>\r\n   </g>\r\n   <g id=\"matplotlib.axis_1\">\r\n    <g id=\"xtick_1\">\r\n     <g id=\"line2d_1\">\r\n      <defs>\r\n       <path d=\"M 0 0 \r\nL 0 3.5 \r\n\" id=\"m42d01b231d\" style=\"stroke:#000000;stroke-width:0.8;\"/>\r\n      </defs>\r\n      <g>\r\n       <use style=\"stroke:#000000;stroke-width:0.8;\" x=\"29.302841\" xlink:href=\"#m42d01b231d\" y=\"174.499943\"/>\r\n      </g>\r\n     </g>\r\n     <g id=\"text_1\">\r\n      <!-- 0 -->\r\n      <defs>\r\n       <path d=\"M 31.78125 66.40625 \r\nQ 24.171875 66.40625 20.328125 58.90625 \r\nQ 16.5 51.421875 16.5 36.375 \r\nQ 16.5 21.390625 20.328125 13.890625 \r\nQ 24.171875 6.390625 31.78125 6.390625 \r\nQ 39.453125 6.390625 43.28125 13.890625 \r\nQ 47.125 21.390625 47.125 36.375 \r\nQ 47.125 51.421875 43.28125 58.90625 \r\nQ 39.453125 66.40625 31.78125 66.40625 \r\nz\r\nM 31.78125 74.21875 \r\nQ 44.046875 74.21875 50.515625 64.515625 \r\nQ 56.984375 54.828125 56.984375 36.375 \r\nQ 56.984375 17.96875 50.515625 8.265625 \r\nQ 44.046875 -1.421875 31.78125 -1.421875 \r\nQ 19.53125 -1.421875 13.0625 8.265625 \r\nQ 6.59375 17.96875 6.59375 36.375 \r\nQ 6.59375 54.828125 13.0625 64.515625 \r\nQ 19.53125 74.21875 31.78125 74.21875 \r\nz\r\n\" id=\"DejaVuSans-48\"/>\r\n      </defs>\r\n      <g transform=\"translate(26.121591 189.098381)scale(0.1 -0.1)\">\r\n       <use xlink:href=\"#DejaVuSans-48\"/>\r\n      </g>\r\n     </g>\r\n    </g>\r\n    <g id=\"xtick_2\">\r\n     <g id=\"line2d_2\">\r\n      <g>\r\n       <use style=\"stroke:#000000;stroke-width:0.8;\" x=\"76.859659\" xlink:href=\"#m42d01b231d\" y=\"174.499943\"/>\r\n      </g>\r\n     </g>\r\n     <g id=\"text_2\">\r\n      <!-- 10 -->\r\n      <defs>\r\n       <path d=\"M 12.40625 8.296875 \r\nL 28.515625 8.296875 \r\nL 28.515625 63.921875 \r\nL 10.984375 60.40625 \r\nL 10.984375 69.390625 \r\nL 28.421875 72.90625 \r\nL 38.28125 72.90625 \r\nL 38.28125 8.296875 \r\nL 54.390625 8.296875 \r\nL 54.390625 0 \r\nL 12.40625 0 \r\nz\r\n\" id=\"DejaVuSans-49\"/>\r\n      </defs>\r\n      <g transform=\"translate(70.497159 189.098381)scale(0.1 -0.1)\">\r\n       <use xlink:href=\"#DejaVuSans-49\"/>\r\n       <use x=\"63.623047\" xlink:href=\"#DejaVuSans-48\"/>\r\n      </g>\r\n     </g>\r\n    </g>\r\n    <g id=\"xtick_3\">\r\n     <g id=\"line2d_3\">\r\n      <g>\r\n       <use style=\"stroke:#000000;stroke-width:0.8;\" x=\"124.416477\" xlink:href=\"#m42d01b231d\" y=\"174.499943\"/>\r\n      </g>\r\n     </g>\r\n     <g id=\"text_3\">\r\n      <!-- 20 -->\r\n      <defs>\r\n       <path d=\"M 19.1875 8.296875 \r\nL 53.609375 8.296875 \r\nL 53.609375 0 \r\nL 7.328125 0 \r\nL 7.328125 8.296875 \r\nQ 12.9375 14.109375 22.625 23.890625 \r\nQ 32.328125 33.6875 34.8125 36.53125 \r\nQ 39.546875 41.84375 41.421875 45.53125 \r\nQ 43.3125 49.21875 43.3125 52.78125 \r\nQ 43.3125 58.59375 39.234375 62.25 \r\nQ 35.15625 65.921875 28.609375 65.921875 \r\nQ 23.96875 65.921875 18.8125 64.3125 \r\nQ 13.671875 62.703125 7.8125 59.421875 \r\nL 7.8125 69.390625 \r\nQ 13.765625 71.78125 18.9375 73 \r\nQ 24.125 74.21875 28.421875 74.21875 \r\nQ 39.75 74.21875 46.484375 68.546875 \r\nQ 53.21875 62.890625 53.21875 53.421875 \r\nQ 53.21875 48.921875 51.53125 44.890625 \r\nQ 49.859375 40.875 45.40625 35.40625 \r\nQ 44.1875 33.984375 37.640625 27.21875 \r\nQ 31.109375 20.453125 19.1875 8.296875 \r\nz\r\n\" id=\"DejaVuSans-50\"/>\r\n      </defs>\r\n      <g transform=\"translate(118.053977 189.098381)scale(0.1 -0.1)\">\r\n       <use xlink:href=\"#DejaVuSans-50\"/>\r\n       <use x=\"63.623047\" xlink:href=\"#DejaVuSans-48\"/>\r\n      </g>\r\n     </g>\r\n    </g>\r\n    <g id=\"xtick_4\">\r\n     <g id=\"line2d_4\">\r\n      <g>\r\n       <use style=\"stroke:#000000;stroke-width:0.8;\" x=\"171.973295\" xlink:href=\"#m42d01b231d\" y=\"174.499943\"/>\r\n      </g>\r\n     </g>\r\n     <g id=\"text_4\">\r\n      <!-- 30 -->\r\n      <defs>\r\n       <path d=\"M 40.578125 39.3125 \r\nQ 47.65625 37.796875 51.625 33 \r\nQ 55.609375 28.21875 55.609375 21.1875 \r\nQ 55.609375 10.40625 48.1875 4.484375 \r\nQ 40.765625 -1.421875 27.09375 -1.421875 \r\nQ 22.515625 -1.421875 17.65625 -0.515625 \r\nQ 12.796875 0.390625 7.625 2.203125 \r\nL 7.625 11.71875 \r\nQ 11.71875 9.328125 16.59375 8.109375 \r\nQ 21.484375 6.890625 26.8125 6.890625 \r\nQ 36.078125 6.890625 40.9375 10.546875 \r\nQ 45.796875 14.203125 45.796875 21.1875 \r\nQ 45.796875 27.640625 41.28125 31.265625 \r\nQ 36.765625 34.90625 28.71875 34.90625 \r\nL 20.21875 34.90625 \r\nL 20.21875 43.015625 \r\nL 29.109375 43.015625 \r\nQ 36.375 43.015625 40.234375 45.921875 \r\nQ 44.09375 48.828125 44.09375 54.296875 \r\nQ 44.09375 59.90625 40.109375 62.90625 \r\nQ 36.140625 65.921875 28.71875 65.921875 \r\nQ 24.65625 65.921875 20.015625 65.03125 \r\nQ 15.375 64.15625 9.8125 62.3125 \r\nL 9.8125 71.09375 \r\nQ 15.4375 72.65625 20.34375 73.4375 \r\nQ 25.25 74.21875 29.59375 74.21875 \r\nQ 40.828125 74.21875 47.359375 69.109375 \r\nQ 53.90625 64.015625 53.90625 55.328125 \r\nQ 53.90625 49.265625 50.4375 45.09375 \r\nQ 46.96875 40.921875 40.578125 39.3125 \r\nz\r\n\" id=\"DejaVuSans-51\"/>\r\n      </defs>\r\n      <g transform=\"translate(165.610795 189.098381)scale(0.1 -0.1)\">\r\n       <use xlink:href=\"#DejaVuSans-51\"/>\r\n       <use x=\"63.623047\" xlink:href=\"#DejaVuSans-48\"/>\r\n      </g>\r\n     </g>\r\n    </g>\r\n   </g>\r\n   <g id=\"matplotlib.axis_2\">\r\n    <g id=\"ytick_1\">\r\n     <g id=\"line2d_5\">\r\n      <defs>\r\n       <path d=\"M 0 0 \r\nL -3.5 0 \r\n\" id=\"me697c414a3\" style=\"stroke:#000000;stroke-width:0.8;\"/>\r\n      </defs>\r\n      <g>\r\n       <use style=\"stroke:#000000;stroke-width:0.8;\" x=\"26.925\" xlink:href=\"#me697c414a3\" y=\"24.695966\"/>\r\n      </g>\r\n     </g>\r\n     <g id=\"text_5\">\r\n      <!-- 0 -->\r\n      <g transform=\"translate(13.5625 28.495185)scale(0.1 -0.1)\">\r\n       <use xlink:href=\"#DejaVuSans-48\"/>\r\n      </g>\r\n     </g>\r\n    </g>\r\n    <g id=\"ytick_2\">\r\n     <g id=\"line2d_6\">\r\n      <g>\r\n       <use style=\"stroke:#000000;stroke-width:0.8;\" x=\"26.925\" xlink:href=\"#me697c414a3\" y=\"48.474375\"/>\r\n      </g>\r\n     </g>\r\n     <g id=\"text_6\">\r\n      <!-- 5 -->\r\n      <defs>\r\n       <path d=\"M 10.796875 72.90625 \r\nL 49.515625 72.90625 \r\nL 49.515625 64.59375 \r\nL 19.828125 64.59375 \r\nL 19.828125 46.734375 \r\nQ 21.96875 47.46875 24.109375 47.828125 \r\nQ 26.265625 48.1875 28.421875 48.1875 \r\nQ 40.625 48.1875 47.75 41.5 \r\nQ 54.890625 34.8125 54.890625 23.390625 \r\nQ 54.890625 11.625 47.5625 5.09375 \r\nQ 40.234375 -1.421875 26.90625 -1.421875 \r\nQ 22.3125 -1.421875 17.546875 -0.640625 \r\nQ 12.796875 0.140625 7.71875 1.703125 \r\nL 7.71875 11.625 \r\nQ 12.109375 9.234375 16.796875 8.0625 \r\nQ 21.484375 6.890625 26.703125 6.890625 \r\nQ 35.15625 6.890625 40.078125 11.328125 \r\nQ 45.015625 15.765625 45.015625 23.390625 \r\nQ 45.015625 31 40.078125 35.4375 \r\nQ 35.15625 39.890625 26.703125 39.890625 \r\nQ 22.75 39.890625 18.8125 39.015625 \r\nQ 14.890625 38.140625 10.796875 36.28125 \r\nz\r\n\" id=\"DejaVuSans-53\"/>\r\n      </defs>\r\n      <g transform=\"translate(13.5625 52.273594)scale(0.1 -0.1)\">\r\n       <use xlink:href=\"#DejaVuSans-53\"/>\r\n      </g>\r\n     </g>\r\n    </g>\r\n    <g id=\"ytick_3\">\r\n     <g id=\"line2d_7\">\r\n      <g>\r\n       <use style=\"stroke:#000000;stroke-width:0.8;\" x=\"26.925\" xlink:href=\"#me697c414a3\" y=\"72.252784\"/>\r\n      </g>\r\n     </g>\r\n     <g id=\"text_7\">\r\n      <!-- 10 -->\r\n      <g transform=\"translate(7.2 76.052003)scale(0.1 -0.1)\">\r\n       <use xlink:href=\"#DejaVuSans-49\"/>\r\n       <use x=\"63.623047\" xlink:href=\"#DejaVuSans-48\"/>\r\n      </g>\r\n     </g>\r\n    </g>\r\n    <g id=\"ytick_4\">\r\n     <g id=\"line2d_8\">\r\n      <g>\r\n       <use style=\"stroke:#000000;stroke-width:0.8;\" x=\"26.925\" xlink:href=\"#me697c414a3\" y=\"96.031193\"/>\r\n      </g>\r\n     </g>\r\n     <g id=\"text_8\">\r\n      <!-- 15 -->\r\n      <g transform=\"translate(7.2 99.830412)scale(0.1 -0.1)\">\r\n       <use xlink:href=\"#DejaVuSans-49\"/>\r\n       <use x=\"63.623047\" xlink:href=\"#DejaVuSans-53\"/>\r\n      </g>\r\n     </g>\r\n    </g>\r\n    <g id=\"ytick_5\">\r\n     <g id=\"line2d_9\">\r\n      <g>\r\n       <use style=\"stroke:#000000;stroke-width:0.8;\" x=\"26.925\" xlink:href=\"#me697c414a3\" y=\"119.809602\"/>\r\n      </g>\r\n     </g>\r\n     <g id=\"text_9\">\r\n      <!-- 20 -->\r\n      <g transform=\"translate(7.2 123.608821)scale(0.1 -0.1)\">\r\n       <use xlink:href=\"#DejaVuSans-50\"/>\r\n       <use x=\"63.623047\" xlink:href=\"#DejaVuSans-48\"/>\r\n      </g>\r\n     </g>\r\n    </g>\r\n    <g id=\"ytick_6\">\r\n     <g id=\"line2d_10\">\r\n      <g>\r\n       <use style=\"stroke:#000000;stroke-width:0.8;\" x=\"26.925\" xlink:href=\"#me697c414a3\" y=\"143.588011\"/>\r\n      </g>\r\n     </g>\r\n     <g id=\"text_10\">\r\n      <!-- 25 -->\r\n      <g transform=\"translate(7.2 147.38723)scale(0.1 -0.1)\">\r\n       <use xlink:href=\"#DejaVuSans-50\"/>\r\n       <use x=\"63.623047\" xlink:href=\"#DejaVuSans-53\"/>\r\n      </g>\r\n     </g>\r\n    </g>\r\n    <g id=\"ytick_7\">\r\n     <g id=\"line2d_11\">\r\n      <g>\r\n       <use style=\"stroke:#000000;stroke-width:0.8;\" x=\"26.925\" xlink:href=\"#me697c414a3\" y=\"167.36642\"/>\r\n      </g>\r\n     </g>\r\n     <g id=\"text_11\">\r\n      <!-- 30 -->\r\n      <g transform=\"translate(7.2 171.165639)scale(0.1 -0.1)\">\r\n       <use xlink:href=\"#DejaVuSans-51\"/>\r\n       <use x=\"63.623047\" xlink:href=\"#DejaVuSans-48\"/>\r\n      </g>\r\n     </g>\r\n    </g>\r\n   </g>\r\n   <g id=\"patch_3\">\r\n    <path d=\"M 26.925 174.499943 \r\nL 26.925 22.318125 \r\n\" style=\"fill:none;stroke:#000000;stroke-linecap:square;stroke-linejoin:miter;stroke-width:0.8;\"/>\r\n   </g>\r\n   <g id=\"patch_4\">\r\n    <path d=\"M 179.106818 174.499943 \r\nL 179.106818 22.318125 \r\n\" style=\"fill:none;stroke:#000000;stroke-linecap:square;stroke-linejoin:miter;stroke-width:0.8;\"/>\r\n   </g>\r\n   <g id=\"patch_5\">\r\n    <path d=\"M 26.925 174.499943 \r\nL 179.106818 174.499943 \r\n\" style=\"fill:none;stroke:#000000;stroke-linecap:square;stroke-linejoin:miter;stroke-width:0.8;\"/>\r\n   </g>\r\n   <g id=\"patch_6\">\r\n    <path d=\"M 26.925 22.318125 \r\nL 179.106818 22.318125 \r\n\" style=\"fill:none;stroke:#000000;stroke-linecap:square;stroke-linejoin:miter;stroke-width:0.8;\"/>\r\n   </g>\r\n   <g id=\"text_12\">\r\n    <!-- output -->\r\n    <defs>\r\n     <path d=\"M 30.609375 48.390625 \r\nQ 23.390625 48.390625 19.1875 42.75 \r\nQ 14.984375 37.109375 14.984375 27.296875 \r\nQ 14.984375 17.484375 19.15625 11.84375 \r\nQ 23.34375 6.203125 30.609375 6.203125 \r\nQ 37.796875 6.203125 41.984375 11.859375 \r\nQ 46.1875 17.53125 46.1875 27.296875 \r\nQ 46.1875 37.015625 41.984375 42.703125 \r\nQ 37.796875 48.390625 30.609375 48.390625 \r\nz\r\nM 30.609375 56 \r\nQ 42.328125 56 49.015625 48.375 \r\nQ 55.71875 40.765625 55.71875 27.296875 \r\nQ 55.71875 13.875 49.015625 6.21875 \r\nQ 42.328125 -1.421875 30.609375 -1.421875 \r\nQ 18.84375 -1.421875 12.171875 6.21875 \r\nQ 5.515625 13.875 5.515625 27.296875 \r\nQ 5.515625 40.765625 12.171875 48.375 \r\nQ 18.84375 56 30.609375 56 \r\nz\r\n\" id=\"DejaVuSans-111\"/>\r\n     <path d=\"M 8.5 21.578125 \r\nL 8.5 54.6875 \r\nL 17.484375 54.6875 \r\nL 17.484375 21.921875 \r\nQ 17.484375 14.15625 20.5 10.265625 \r\nQ 23.53125 6.390625 29.59375 6.390625 \r\nQ 36.859375 6.390625 41.078125 11.03125 \r\nQ 45.3125 15.671875 45.3125 23.6875 \r\nL 45.3125 54.6875 \r\nL 54.296875 54.6875 \r\nL 54.296875 0 \r\nL 45.3125 0 \r\nL 45.3125 8.40625 \r\nQ 42.046875 3.421875 37.71875 1 \r\nQ 33.40625 -1.421875 27.6875 -1.421875 \r\nQ 18.265625 -1.421875 13.375 4.4375 \r\nQ 8.5 10.296875 8.5 21.578125 \r\nz\r\nM 31.109375 56 \r\nz\r\n\" id=\"DejaVuSans-117\"/>\r\n     <path d=\"M 18.3125 70.21875 \r\nL 18.3125 54.6875 \r\nL 36.8125 54.6875 \r\nL 36.8125 47.703125 \r\nL 18.3125 47.703125 \r\nL 18.3125 18.015625 \r\nQ 18.3125 11.328125 20.140625 9.421875 \r\nQ 21.96875 7.515625 27.59375 7.515625 \r\nL 36.8125 7.515625 \r\nL 36.8125 0 \r\nL 27.59375 0 \r\nQ 17.1875 0 13.234375 3.875 \r\nQ 9.28125 7.765625 9.28125 18.015625 \r\nL 9.28125 47.703125 \r\nL 2.6875 47.703125 \r\nL 2.6875 54.6875 \r\nL 9.28125 54.6875 \r\nL 9.28125 70.21875 \r\nz\r\n\" id=\"DejaVuSans-116\"/>\r\n     <path d=\"M 18.109375 8.203125 \r\nL 18.109375 -20.796875 \r\nL 9.078125 -20.796875 \r\nL 9.078125 54.6875 \r\nL 18.109375 54.6875 \r\nL 18.109375 46.390625 \r\nQ 20.953125 51.265625 25.265625 53.625 \r\nQ 29.59375 56 35.59375 56 \r\nQ 45.5625 56 51.78125 48.09375 \r\nQ 58.015625 40.1875 58.015625 27.296875 \r\nQ 58.015625 14.40625 51.78125 6.484375 \r\nQ 45.5625 -1.421875 35.59375 -1.421875 \r\nQ 29.59375 -1.421875 25.265625 0.953125 \r\nQ 20.953125 3.328125 18.109375 8.203125 \r\nz\r\nM 48.6875 27.296875 \r\nQ 48.6875 37.203125 44.609375 42.84375 \r\nQ 40.53125 48.484375 33.40625 48.484375 \r\nQ 26.265625 48.484375 22.1875 42.84375 \r\nQ 18.109375 37.203125 18.109375 27.296875 \r\nQ 18.109375 17.390625 22.1875 11.75 \r\nQ 26.265625 6.109375 33.40625 6.109375 \r\nQ 40.53125 6.109375 44.609375 11.75 \r\nQ 48.6875 17.390625 48.6875 27.296875 \r\nz\r\n\" id=\"DejaVuSans-112\"/>\r\n    </defs>\r\n    <g transform=\"translate(83.226222 16.318125)scale(0.12 -0.12)\">\r\n     <use xlink:href=\"#DejaVuSans-111\"/>\r\n     <use x=\"61.181641\" xlink:href=\"#DejaVuSans-117\"/>\r\n     <use x=\"124.560547\" xlink:href=\"#DejaVuSans-116\"/>\r\n     <use x=\"163.769531\" xlink:href=\"#DejaVuSans-112\"/>\r\n     <use x=\"227.246094\" xlink:href=\"#DejaVuSans-117\"/>\r\n     <use x=\"290.625\" xlink:href=\"#DejaVuSans-116\"/>\r\n    </g>\r\n   </g>\r\n  </g>\r\n  <g id=\"axes_2\">\r\n   <g id=\"patch_7\">\r\n    <path d=\"M 209.543182 174.499943 \r\nL 361.725 174.499943 \r\nL 361.725 22.318125 \r\nL 209.543182 22.318125 \r\nz\r\n\" style=\"fill:#ffffff;\"/>\r\n   </g>\r\n   <g clip-path=\"url(#p5c1b632404)\">\r\n    <image height=\"153\" id=\"imagefffa284a11\" transform=\"scale(1 -1)translate(0 -153)\" width=\"153\" x=\"209.543182\" xlink:href=\"data:image/png;base64,\r\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\" y=\"-21.499943\"/>\r\n   </g>\r\n   <g id=\"matplotlib.axis_3\">\r\n    <g id=\"xtick_5\">\r\n     <g id=\"line2d_12\">\r\n      <g>\r\n       <use style=\"stroke:#000000;stroke-width:0.8;\" x=\"211.921023\" xlink:href=\"#m42d01b231d\" y=\"174.499943\"/>\r\n      </g>\r\n     </g>\r\n     <g id=\"text_13\">\r\n      <!-- 0 -->\r\n      <g transform=\"translate(208.739773 189.098381)scale(0.1 -0.1)\">\r\n       <use xlink:href=\"#DejaVuSans-48\"/>\r\n      </g>\r\n     </g>\r\n    </g>\r\n    <g id=\"xtick_6\">\r\n     <g id=\"line2d_13\">\r\n      <g>\r\n       <use style=\"stroke:#000000;stroke-width:0.8;\" x=\"259.477841\" xlink:href=\"#m42d01b231d\" y=\"174.499943\"/>\r\n      </g>\r\n     </g>\r\n     <g id=\"text_14\">\r\n      <!-- 10 -->\r\n      <g transform=\"translate(253.115341 189.098381)scale(0.1 -0.1)\">\r\n       <use xlink:href=\"#DejaVuSans-49\"/>\r\n       <use x=\"63.623047\" xlink:href=\"#DejaVuSans-48\"/>\r\n      </g>\r\n     </g>\r\n    </g>\r\n    <g id=\"xtick_7\">\r\n     <g id=\"line2d_14\">\r\n      <g>\r\n       <use style=\"stroke:#000000;stroke-width:0.8;\" x=\"307.034659\" xlink:href=\"#m42d01b231d\" y=\"174.499943\"/>\r\n      </g>\r\n     </g>\r\n     <g id=\"text_15\">\r\n      <!-- 20 -->\r\n      <g transform=\"translate(300.672159 189.098381)scale(0.1 -0.1)\">\r\n       <use xlink:href=\"#DejaVuSans-50\"/>\r\n       <use x=\"63.623047\" xlink:href=\"#DejaVuSans-48\"/>\r\n      </g>\r\n     </g>\r\n    </g>\r\n    <g id=\"xtick_8\">\r\n     <g id=\"line2d_15\">\r\n      <g>\r\n       <use style=\"stroke:#000000;stroke-width:0.8;\" x=\"354.591477\" xlink:href=\"#m42d01b231d\" y=\"174.499943\"/>\r\n      </g>\r\n     </g>\r\n     <g id=\"text_16\">\r\n      <!-- 30 -->\r\n      <g transform=\"translate(348.228977 189.098381)scale(0.1 -0.1)\">\r\n       <use xlink:href=\"#DejaVuSans-51\"/>\r\n       <use x=\"63.623047\" xlink:href=\"#DejaVuSans-48\"/>\r\n      </g>\r\n     </g>\r\n    </g>\r\n   </g>\r\n   <g id=\"matplotlib.axis_4\">\r\n    <g id=\"ytick_8\">\r\n     <g id=\"line2d_16\">\r\n      <g>\r\n       <use style=\"stroke:#000000;stroke-width:0.8;\" x=\"209.543182\" xlink:href=\"#me697c414a3\" y=\"24.695966\"/>\r\n      </g>\r\n     </g>\r\n     <g id=\"text_17\">\r\n      <!-- 0 -->\r\n      <g transform=\"translate(196.180682 28.495185)scale(0.1 -0.1)\">\r\n       <use xlink:href=\"#DejaVuSans-48\"/>\r\n      </g>\r\n     </g>\r\n    </g>\r\n    <g id=\"ytick_9\">\r\n     <g id=\"line2d_17\">\r\n      <g>\r\n       <use style=\"stroke:#000000;stroke-width:0.8;\" x=\"209.543182\" xlink:href=\"#me697c414a3\" y=\"48.474375\"/>\r\n      </g>\r\n     </g>\r\n     <g id=\"text_18\">\r\n      <!-- 5 -->\r\n      <g transform=\"translate(196.180682 52.273594)scale(0.1 -0.1)\">\r\n       <use xlink:href=\"#DejaVuSans-53\"/>\r\n      </g>\r\n     </g>\r\n    </g>\r\n    <g id=\"ytick_10\">\r\n     <g id=\"line2d_18\">\r\n      <g>\r\n       <use style=\"stroke:#000000;stroke-width:0.8;\" x=\"209.543182\" xlink:href=\"#me697c414a3\" y=\"72.252784\"/>\r\n      </g>\r\n     </g>\r\n     <g id=\"text_19\">\r\n      <!-- 10 -->\r\n      <g transform=\"translate(189.818182 76.052003)scale(0.1 -0.1)\">\r\n       <use xlink:href=\"#DejaVuSans-49\"/>\r\n       <use x=\"63.623047\" xlink:href=\"#DejaVuSans-48\"/>\r\n      </g>\r\n     </g>\r\n    </g>\r\n    <g id=\"ytick_11\">\r\n     <g id=\"line2d_19\">\r\n      <g>\r\n       <use style=\"stroke:#000000;stroke-width:0.8;\" x=\"209.543182\" xlink:href=\"#me697c414a3\" y=\"96.031193\"/>\r\n      </g>\r\n     </g>\r\n     <g id=\"text_20\">\r\n      <!-- 15 -->\r\n      <g transform=\"translate(189.818182 99.830412)scale(0.1 -0.1)\">\r\n       <use xlink:href=\"#DejaVuSans-49\"/>\r\n       <use x=\"63.623047\" xlink:href=\"#DejaVuSans-53\"/>\r\n      </g>\r\n     </g>\r\n    </g>\r\n    <g id=\"ytick_12\">\r\n     <g id=\"line2d_20\">\r\n      <g>\r\n       <use style=\"stroke:#000000;stroke-width:0.8;\" x=\"209.543182\" xlink:href=\"#me697c414a3\" y=\"119.809602\"/>\r\n      </g>\r\n     </g>\r\n     <g id=\"text_21\">\r\n      <!-- 20 -->\r\n      <g transform=\"translate(189.818182 123.608821)scale(0.1 -0.1)\">\r\n       <use xlink:href=\"#DejaVuSans-50\"/>\r\n       <use x=\"63.623047\" xlink:href=\"#DejaVuSans-48\"/>\r\n      </g>\r\n     </g>\r\n    </g>\r\n    <g id=\"ytick_13\">\r\n     <g id=\"line2d_21\">\r\n      <g>\r\n       <use style=\"stroke:#000000;stroke-width:0.8;\" x=\"209.543182\" xlink:href=\"#me697c414a3\" y=\"143.588011\"/>\r\n      </g>\r\n     </g>\r\n     <g id=\"text_22\">\r\n      <!-- 25 -->\r\n      <g transform=\"translate(189.818182 147.38723)scale(0.1 -0.1)\">\r\n       <use xlink:href=\"#DejaVuSans-50\"/>\r\n       <use x=\"63.623047\" xlink:href=\"#DejaVuSans-53\"/>\r\n      </g>\r\n     </g>\r\n    </g>\r\n    <g id=\"ytick_14\">\r\n     <g id=\"line2d_22\">\r\n      <g>\r\n       <use style=\"stroke:#000000;stroke-width:0.8;\" x=\"209.543182\" xlink:href=\"#me697c414a3\" y=\"167.36642\"/>\r\n      </g>\r\n     </g>\r\n     <g id=\"text_23\">\r\n      <!-- 30 -->\r\n      <g transform=\"translate(189.818182 171.165639)scale(0.1 -0.1)\">\r\n       <use xlink:href=\"#DejaVuSans-51\"/>\r\n       <use x=\"63.623047\" xlink:href=\"#DejaVuSans-48\"/>\r\n      </g>\r\n     </g>\r\n    </g>\r\n   </g>\r\n   <g id=\"patch_8\">\r\n    <path d=\"M 209.543182 174.499943 \r\nL 209.543182 22.318125 \r\n\" style=\"fill:none;stroke:#000000;stroke-linecap:square;stroke-linejoin:miter;stroke-width:0.8;\"/>\r\n   </g>\r\n   <g id=\"patch_9\">\r\n    <path d=\"M 361.725 174.499943 \r\nL 361.725 22.318125 \r\n\" style=\"fill:none;stroke:#000000;stroke-linecap:square;stroke-linejoin:miter;stroke-width:0.8;\"/>\r\n   </g>\r\n   <g id=\"patch_10\">\r\n    <path d=\"M 209.543182 174.499943 \r\nL 361.725 174.499943 \r\n\" style=\"fill:none;stroke:#000000;stroke-linecap:square;stroke-linejoin:miter;stroke-width:0.8;\"/>\r\n   </g>\r\n   <g id=\"patch_11\">\r\n    <path d=\"M 209.543182 22.318125 \r\nL 361.725 22.318125 \r\n\" style=\"fill:none;stroke:#000000;stroke-linecap:square;stroke-linejoin:miter;stroke-width:0.8;\"/>\r\n   </g>\r\n   <g id=\"text_24\">\r\n    <!-- input -->\r\n    <defs>\r\n     <path d=\"M 9.421875 54.6875 \r\nL 18.40625 54.6875 \r\nL 18.40625 0 \r\nL 9.421875 0 \r\nz\r\nM 9.421875 75.984375 \r\nL 18.40625 75.984375 \r\nL 18.40625 64.59375 \r\nL 9.421875 64.59375 \r\nz\r\n\" id=\"DejaVuSans-105\"/>\r\n     <path d=\"M 54.890625 33.015625 \r\nL 54.890625 0 \r\nL 45.90625 0 \r\nL 45.90625 32.71875 \r\nQ 45.90625 40.484375 42.875 44.328125 \r\nQ 39.84375 48.1875 33.796875 48.1875 \r\nQ 26.515625 48.1875 22.3125 43.546875 \r\nQ 18.109375 38.921875 18.109375 30.90625 \r\nL 18.109375 0 \r\nL 9.078125 0 \r\nL 9.078125 54.6875 \r\nL 18.109375 54.6875 \r\nL 18.109375 46.1875 \r\nQ 21.34375 51.125 25.703125 53.5625 \r\nQ 30.078125 56 35.796875 56 \r\nQ 45.21875 56 50.046875 50.171875 \r\nQ 54.890625 44.34375 54.890625 33.015625 \r\nz\r\n\" id=\"DejaVuSans-110\"/>\r\n    </defs>\r\n    <g transform=\"translate(270.200966 16.318125)scale(0.12 -0.12)\">\r\n     <use xlink:href=\"#DejaVuSans-105\"/>\r\n     <use x=\"27.783203\" xlink:href=\"#DejaVuSans-110\"/>\r\n     <use x=\"91.162109\" xlink:href=\"#DejaVuSans-112\"/>\r\n     <use x=\"154.638672\" xlink:href=\"#DejaVuSans-117\"/>\r\n     <use x=\"218.017578\" xlink:href=\"#DejaVuSans-116\"/>\r\n    </g>\r\n   </g>\r\n  </g>\r\n </g>\r\n <defs>\r\n  <clipPath id=\"p91a3cfe149\">\r\n   <rect height=\"152.181818\" width=\"152.181818\" x=\"26.925\" y=\"22.318125\"/>\r\n  </clipPath>\r\n  <clipPath id=\"p5c1b632404\">\r\n   <rect height=\"152.181818\" width=\"152.181818\" x=\"209.543182\" y=\"22.318125\"/>\r\n  </clipPath>\r\n </defs>\r\n</svg>\r\n",
      "image/png": "[encoded data removed]"
     },
     "metadata": {
      "needs_background": "light"
     }
    }
   ],
   "source": [
    "output = conv(img.unsqueeze(0))\n",
    "\n",
    "plt.subplot(1, 2, 1)\n",
    "plt.imshow(output[0, 0].detach(), cmap='gray')\n",
    "plt.title(\"output\")\n",
    "\n",
    "plt.subplot(1, 2, 2)\n",
    "plt.imshow(img[0], cmap='gray')\n",
    "plt.title(\"input\")\n",
    "plt.show()"
   ]
  },
  {
   "cell_type": "code",
   "execution_count": 10,
   "metadata": {},
   "outputs": [
    {
     "output_type": "execute_result",
     "data": {
      "text/plain": [
       "(torch.Size([1, 3, 32, 32]), torch.Size([1, 3, 16, 16]))"
      ]
     },
     "metadata": {},
     "execution_count": 10
    }
   ],
   "source": [
    "pool = nn.MaxPool2d(2)\n",
    "output = pool(img.unsqueeze(0))\n",
    "\n",
    "img.unsqueeze(0).shape, output.shape"
   ]
  },
  {
   "cell_type": "code",
   "execution_count": 11,
   "metadata": {},
   "outputs": [],
   "source": [
    "model = nn.Sequential(\n",
    "    nn.Conv2d(3, 16, kernel_size=3, padding=1),\n",
    "    nn.Tanh(),\n",
    "    nn.MaxPool2d(2),\n",
    "    nn.Conv2d(16, 8, kernel_size=3, padding=1),\n",
    "    nn.Tanh(),\n",
    "    nn.MaxPool2d(2),\n",
    "    # missing something important\n",
    "    nn.Linear(8*8*8, 32),\n",
    "    nn.Tanh(),\n",
    "    nn.Linear(32, 2)\n",
    ")"
   ]
  },
  {
   "cell_type": "code",
   "execution_count": 17,
   "metadata": {},
   "outputs": [
    {
     "output_type": "execute_result",
     "data": {
      "text/plain": [
       "(18090, [432, 16, 1152, 8, 16384, 32, 64, 2])"
      ]
     },
     "metadata": {},
     "execution_count": 17
    }
   ],
   "source": [
    "numel_list = [p.numel() for p in model.parameters()]\n",
    "sum(numel__list), numel__list"
   ]
  },
  {
   "source": [
    "## 8.3 Subclassing nn.Module"
   ],
   "cell_type": "markdown",
   "metadata": {}
  },
  {
   "cell_type": "code",
   "execution_count": 13,
   "metadata": {},
   "outputs": [],
   "source": [
    "import torch.nn as nn\n",
    "\n",
    "class Net(nn.Module):\n",
    "    def __init__(self):\n",
    "        super().__init__()\n",
    "        self.conv1 = nn.Conv2d(3, 16, kernel_size=3, padding=1)\n",
    "        self.act1 = nn.Tanh()\n",
    "        self.pool1 = nn.MaxPool2d(2)\n",
    "        self.conv2 = nn.Conv2d(16, 8, kernel_size=3, padding=1)\n",
    "        self.act2 = nn.Tanh()\n",
    "        self.pool2 = nn.MaxPool2d(2)\n",
    "        self.fc1 = nn.Linear(8 * 8 * 8, 32)\n",
    "        self.act3 = nn.Tanh()\n",
    "        self.fc2 = nn.Linear(32, 2)\n",
    "    \n",
    "    def forward(self, x):\n",
    "        out = self.pool1(self.act1(self.conv1(x)))\n",
    "        out = self.pool2(self.act2(self.conv2(x)))\n",
    "        out = out.view(-1, 8 * 8 * 8)\n",
    "        out = self.act3(self.fc1(out))\n",
    "        out = self.fc2(out)\n",
    "        return out"
   ]
  },
  {
   "cell_type": "code",
   "execution_count": 19,
   "metadata": {},
   "outputs": [
    {
     "output_type": "execute_result",
     "data": {
      "text/plain": [
       "(18090, [432, 16, 1152, 8, 16384, 32, 64, 2])"
      ]
     },
     "metadata": {},
     "execution_count": 19
    }
   ],
   "source": [
    "model = Net()\n",
    "\n",
    "numel__list = [p.numel() for p in model.parameters()]\n",
    "sum(numel__list), numel__list"
   ]
  },
  {
   "cell_type": "code",
   "execution_count": 23,
   "metadata": {},
   "outputs": [],
   "source": [
    "import torch.nn.functional as F \n",
    "\n",
    "class Net(nn.Module):\n",
    "    def __init__(self):\n",
    "        super().__init__()\n",
    "        self.conv1 = nn.Conv2d(3, 16, kernel_size=3, padding=1)\n",
    "        self.conv2 = nn.Conv2d(16, 8, kernel_size=3, padding=1)\n",
    "        self.fc1 = nn.Linear(8 * 8 * 8, 32)\n",
    "        self.fc2 = nn.Linear(32, 2)\n",
    "    \n",
    "    def forward(self, x):\n",
    "        out = F.max_pool2d(torch.tanh(self.conv1(x)), 2)\n",
    "        out = F.max_pool2d(torch.tanh(self.conv2(out)), 2)\n",
    "        out = out.view(-1, 8 * 8 * 8)\n",
    "        out = torch.tanh(self.fc1(out))\n",
    "        out = self.fc2(out)\n",
    "        return out"
   ]
  },
  {
   "cell_type": "code",
   "execution_count": 24,
   "metadata": {},
   "outputs": [
    {
     "output_type": "execute_result",
     "data": {
      "text/plain": [
       "tensor([[ 0.1336, -0.0253]], grad_fn=<AddmmBackward>)"
      ]
     },
     "metadata": {},
     "execution_count": 24
    }
   ],
   "source": [
    "model = Net()\n",
    "model(img.unsqueeze(0))"
   ]
  },
  {
   "source": [
    "## 8.4 Traning our convnet"
   ],
   "cell_type": "markdown",
   "metadata": {}
  },
  {
   "cell_type": "code",
   "execution_count": 25,
   "metadata": {},
   "outputs": [],
   "source": [
    "import datetime\n",
    "\n",
    "def training_loop(n_epochs, optimizer, model, loss_fn, train_loader):\n",
    "    for epoch in range(1, n_epochs+1):\n",
    "        loss_train = 0.0\n",
    "        for imgs, labels in train_loader:\n",
    "            outputs = model(imgs)\n",
    "            loss = loss_fn(outputs, labels)\n",
    "            \n",
    "            optimizer.zero_grad()\n",
    "            loss.backward()\n",
    "            optimizer.step()\n",
    "\n",
    "            loss_train += loss.item()\n",
    "        \n",
    "        if epoch == 1 or epoch % 10 == 0:\n",
    "            print('{} Epoch {}, Trainning loss {}'.format(datetime.datetime.now(), epoch, loss / len(train_loader)))"
   ]
  },
  {
   "cell_type": "code",
   "execution_count": null,
   "metadata": {},
   "outputs": [],
   "source": [
    "import torch.utils.data\n",
    "import torch.optim as optim\n",
    "\n",
    "train_loader = torch.utils.data.DataLoader(cifar2, batch_size=64, shuffle=True)\n",
    "\n",
    "model = Net()\n",
    "optimizer = optim.SGD(model.parameters(), lr=1e-2)\n",
    "loss_fn = nn.CrossEntropyLoss()\n",
    "\n",
    "training_loop(\n",
    "    n_epochs=100,\n",
    "    optimizer=optimizer,\n",
    "    model=model,\n",
    "    loss_fn=loss_fn,\n",
    "    train_loader=train_loader\n",
    ")"
   ]
  },
  {
   "cell_type": "code",
   "execution_count": null,
   "metadata": {},
   "outputs": [],
   "source": [
    "train_loader = torch.utils.data.DataLoader(cifar2, batch_size=64, shuffle=False)\n",
    "val_loader = torch.utils.data.DataLoader(cifar2_val, batch_size=64, shuffle=False)\n",
    "\n",
    "def validate(model, train_loader, val_loader):\n",
    "    for name, loader in [(\"train\", train_loader), (\"val\", val_loader)]:\n",
    "        correct = 0\n",
    "        total = 0\n",
    "\n",
    "        with torch.no_grad():\n",
    "            for imgs, labels in loader:\n",
    "                outputs = model(imgs)\n",
    "                _, predicted = torch.max(outputs, dim=1)\n",
    "                total += labels.shape[0]\n",
    "                correct += int((predicted == labels).sum())\n",
    "        \n",
    "        print(\"Accuracy {}: {:.2f}\".format(name, correct / total))"
   ]
  },
  {
   "cell_type": "code",
   "execution_count": null,
   "metadata": {},
   "outputs": [],
   "source": [
    "torch.save(model.state_dict(), \"data/ch8/ch8.pt\")"
   ]
  },
  {
   "cell_type": "code",
   "execution_count": null,
   "metadata": {},
   "outputs": [],
   "source": [
    "train_loader = torch.utils.data.DataLoader(cifar2, batch_size=64, shuffle=False)\n",
    "val_loader = torch.utils.data.DataLoader(cifar2_val, batch_size=64, shuffle=False)\n",
    "\n",
    "def validate(model, train_loader, val_loader):\n",
    "    for name, loader in [(\"train\", train_loader), (\"val\", val_loader)]:\n",
    "        correct = 0\n",
    "        total = 0\n",
    "\n",
    "        with torch.no_grad():\n",
    "            for imgs, labels in loader:\n",
    "                outputs = model(imgs)\n",
    "                _, predicted = torch.max(outputs, dim=1)\n",
    "                total += labels.shape[0]\n",
    "                correct += int((predicted == labels).sum())\n",
    "        \n",
    "        print(\"Accuracy {}: {:.2f}\".format(name, correct / total))"
   ]
  },
  {
   "cell_type": "code",
   "execution_count": null,
   "metadata": {},
   "outputs": [],
   "source": [
    "validate(model, train_loader, val_loader)"
   ]
  },
  {
   "cell_type": "code",
   "execution_count": null,
   "metadata": {},
   "outputs": [],
   "source": [
    "import torch\n",
    "\n",
    "device = (torch.device('cuda') if torch.cuda.is_available() else torch.device('cpu'))\n",
    "print(f\"Training on device {device}.\")"
   ]
  },
  {
   "cell_type": "code",
   "execution_count": null,
   "metadata": {},
   "outputs": [],
   "source": [
    "import datetime\n",
    "\n",
    "def training_loop(n_epochs, optimizer, model, loss_fn, train_loader):\n",
    "    for epoch in range(1, n_epochs+1):\n",
    "        loss_train = 0.0\n",
    "        for imgs, labels in train_loader:\n",
    "            imgs = imgs.to(device=device)\n",
    "            labels = labels.to(device=device)\n",
    "            outputs = model(imgs)\n",
    "            loss = loss_fn(outputs, labels)\n",
    "            \n",
    "            optimizer.zero_grad()\n",
    "            loss.backward()\n",
    "            optimizer.step()\n",
    "\n",
    "            loss_train += loss.item()\n",
    "        \n",
    "        if epoch == 1 or epoch % 10 == 0:\n",
    "            print('{} Epoch {}, Trainning loss {}'.format(datetime.datetime.now(), epoch, loss / len(train_loader)))"
   ]
  },
  {
   "cell_type": "code",
   "execution_count": null,
   "metadata": {},
   "outputs": [],
   "source": [
    "import torch.optim as optim\n",
    "\n",
    "train_loader = torch.utils.data.DataLoader(cifar2, batch_size=64, shuffle=True)\n",
    "\n",
    "model = Net().to(device=device)\n",
    "optimizer = optim.SGD(model.parameters(), lr=1e-2)\n",
    "loss_fn = nn.CrossEntropyLoss()\n",
    "\n",
    "training_loop(\n",
    "    n_epochs=100,\n",
    "    optimizer=optimizer,\n",
    "    model=model,\n",
    "    loss_fn=loss_fn,\n",
    "    train_loader=train_loader\n",
    ")"
   ]
  },
  {
   "cell_type": "code",
   "execution_count": null,
   "metadata": {},
   "outputs": [],
   "source": [
    "train_loader = torch.utils.data.DataLoader(cifar2, batch_size=64, shuffle=False)\n",
    "val_loader = torch.utils.data.DataLoader(cifar2_val, batch_size=64, shuffle=False)\n",
    "\n",
    "def validate(model, train_loader, val_loader):\n",
    "    for name, loader in [(\"train\", train_loader), (\"val\", val_loader)]:\n",
    "        correct = 0\n",
    "        total = 0\n",
    "\n",
    "        with torch.no_grad():\n",
    "            for imgs, labels in loader:\n",
    "                imgs = imgs.to(device=device)\n",
    "                labels = imgs.to(device=device)\n",
    "                outputs = model(imgs)\n",
    "                _, predicted = torch.max(outputs, dim=1)\n",
    "                total += labels.shape[0]\n",
    "                correct += int((predicted == labels).sum())\n",
    "        \n",
    "        print(\"Accuracy {}: {:.2f}\".format(name, correct / total))"
   ]
  },
  {
   "cell_type": "code",
   "execution_count": null,
   "metadata": {},
   "outputs": [],
   "source": [
    "validate(model, train_loader, val_loader)"
   ]
  },
  {
   "source": [
    "## 8.5 Model design"
   ],
   "cell_type": "markdown",
   "metadata": {}
  },
  {
   "cell_type": "code",
   "execution_count": null,
   "metadata": {},
   "outputs": [],
   "source": [
    "# L2 regularization\n",
    "def training_loop_l2reg(n_epochs, optimizer, model, loss_fn, train_loader):\n",
    "    for epoch in range(1, n_epochs+1):\n",
    "        loss_train = 0.0\n",
    "        for imgs, labels in train_loader:\n",
    "            imgs = imgs.to(device=device)\n",
    "            labels = labels.to(device=device)\n",
    "            outputs = model(imgs)\n",
    "            loss = loss_fn(outputs, labels)\n",
    "\n",
    "            l2_lambda = 0.001\n",
    "            l2_norm = sum(p.pow(2.0).sum() for p on model.parameters())\n",
    "            loss = loss + l2_lambda * l2_norm\n",
    "\n",
    "            optimizer.zero_grad()\n",
    "            loss.backward()\n",
    "            optimizer.step()\n",
    "\n",
    "            loss_train += loss.item()\n",
    "\n",
    "        if epoch == 1 or epoch % 10 == 0:\n",
    "            print('{} Epoch {}, Training loss {}'.format(datetime.datetime.now(), epoch, loss_train / len(train_loader)))"
   ]
  },
  {
   "cell_type": "code",
   "execution_count": null,
   "metadata": {},
   "outputs": [],
   "source": []
  }
 ]
}